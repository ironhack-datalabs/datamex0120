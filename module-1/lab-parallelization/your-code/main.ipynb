{
 "cells": [
  {
   "cell_type": "markdown",
   "metadata": {},
   "source": [
    "# Parallelization Lab\n",
    "\n",
    "In this lab, you will be leveraging several concepts you have learned to obtain a list of links from a web page and crawl and index the pages referenced by those links - both sequentially and in parallel. Follow the steps below to complete the lab."
   ]
  },
  {
   "cell_type": "markdown",
   "metadata": {},
   "source": [
    "## Step 1: Use the requests library to retrieve the content from the URL below."
   ]
  },
  {
   "cell_type": "code",
   "execution_count": 6,
   "metadata": {},
   "outputs": [],
   "source": [
    "import requests\n",
    "import json\n",
    "\n",
    "url = 'https://en.wikipedia.org/wiki/Data_science'"
   ]
  },
  {
   "cell_type": "code",
   "execution_count": 12,
   "metadata": {},
   "outputs": [
    {
     "data": {
      "text/plain": [
       "b'<!DOCTYPE html>\\n<html class=\"client-nojs\" lang=\"en\" dir=\"ltr\">\\n<head>\\n<meta charset=\"UTF-8\"/>\\n<title>Data science - Wikipedia</title>\\n<script>document.documentElement.className=\"client-js\";RLCONF={\"wgBreakFrames\":!1,\"wgSeparatorTransformTable\":[\"\",\"\"],\"wgDigitTransformTable\":[\"\",\"\"],\"wgDefaultDateFormat\":\"dmy\",\"wgMonthNames\":[\"\",\"January\",\"February\",\"March\",\"April\",\"May\",\"June\",\"July\",\"August\",\"September\",\"October\",\"November\",\"December\"],\"wgMonthNamesShort\":[\"\",\"Jan\",\"Feb\",\"Mar\",\"Apr\",\"May\",\"Jun\",\"Jul\",\"Aug\",\"Sep\",\"Oct\",\"Nov\",\"Dec\"],\"wgRequestId\":\"XincrgpAIC4AAKZby-cAAACI\",\"wgCSPNonce\":!1,\"wgC'"
      ]
     },
     "execution_count": 12,
     "metadata": {},
     "output_type": "execute_result"
    }
   ],
   "source": [
    "html=requests.get(url).content\n",
    "html[0:600]"
   ]
  },
  {
   "cell_type": "markdown",
   "metadata": {},
   "source": [
    "## Step 2: Use BeautifulSoup to extract a list of all the unique links on the page."
   ]
  },
  {
   "cell_type": "code",
   "execution_count": 14,
   "metadata": {},
   "outputs": [],
   "source": [
    "from bs4 import BeautifulSoup as bs"
   ]
  },
  {
   "cell_type": "code",
   "execution_count": 113,
   "metadata": {
    "scrolled": true
   },
   "outputs": [],
   "source": [
    "soup=bs(html,'lxml')\n",
    "#soup"
   ]
  },
  {
   "cell_type": "code",
   "execution_count": 118,
   "metadata": {},
   "outputs": [
    {
     "data": {
      "text/plain": [
       "['//en.wikipedia.org/',\n",
       " '//ja.wikipedia.org/',\n",
       " '//de.wikipedia.org/',\n",
       " '//es.wikipedia.org/',\n",
       " '//ru.wikipedia.org/',\n",
       " '//fr.wikipedia.org/',\n",
       " '//it.wikipedia.org/',\n",
       " '//zh.wikipedia.org/',\n",
       " '//pt.wikipedia.org/',\n",
       " '//pl.wikipedia.org/',\n",
       " '//ar.wikipedia.org/',\n",
       " '//de.wikipedia.org/',\n",
       " '//en.wikipedia.org/',\n",
       " '//es.wikipedia.org/',\n",
       " '//fr.wikipedia.org/',\n",
       " '//it.wikipedia.org/',\n",
       " '//nl.wikipedia.org/',\n",
       " '//ja.wikipedia.org/',\n",
       " '//pl.wikipedia.org/',\n",
       " '//pt.wikipedia.org/',\n",
       " '//ru.wikipedia.org/',\n",
       " '//ceb.wikipedia.org/',\n",
       " '//sv.wikipedia.org/',\n",
       " '//vi.wikipedia.org/',\n",
       " '//war.wikipedia.org/',\n",
       " '//zh.wikipedia.org/',\n",
       " '//az.wikipedia.org/',\n",
       " '//bg.wikipedia.org/',\n",
       " '//zh-min-nan.wikipedia.org/',\n",
       " '//be.wikipedia.org/',\n",
       " '//ca.wikipedia.org/',\n",
       " '//cs.wikipedia.org/',\n",
       " '//da.wikipedia.org/',\n",
       " '//et.wikipedia.org/',\n",
       " '//el.wikipedia.org/',\n",
       " '//eo.wikipedia.org/',\n",
       " '//eu.wikipedia.org/',\n",
       " '//fa.wikipedia.org/',\n",
       " '//gl.wikipedia.org/',\n",
       " '//hy.wikipedia.org/',\n",
       " '//hi.wikipedia.org/',\n",
       " '//hr.wikipedia.org/',\n",
       " '//id.wikipedia.org/',\n",
       " '//he.wikipedia.org/',\n",
       " '//ka.wikipedia.org/',\n",
       " '//la.wikipedia.org/',\n",
       " '//lt.wikipedia.org/',\n",
       " '//hu.wikipedia.org/',\n",
       " '//mk.wikipedia.org/',\n",
       " '//ms.wikipedia.org/',\n",
       " '//min.wikipedia.org/',\n",
       " '//no.wikipedia.org/',\n",
       " '//nn.wikipedia.org/',\n",
       " '//ce.wikipedia.org/',\n",
       " '//uz.wikipedia.org/',\n",
       " '//kk.wikipedia.org/',\n",
       " '//ro.wikipedia.org/',\n",
       " '//cy.wikipedia.org/',\n",
       " '//simple.wikipedia.org/',\n",
       " '//sk.wikipedia.org/',\n",
       " '//sl.wikipedia.org/',\n",
       " '//sr.wikipedia.org/',\n",
       " '//sh.wikipedia.org/',\n",
       " '//fi.wikipedia.org/',\n",
       " '//ta.wikipedia.org/',\n",
       " '//th.wikipedia.org/',\n",
       " '//tg.wikipedia.org/',\n",
       " '//azb.wikipedia.org/',\n",
       " '//tr.wikipedia.org/',\n",
       " '//uk.wikipedia.org/',\n",
       " '//ur.wikipedia.org/',\n",
       " '//vo.wikipedia.org/',\n",
       " '//ko.wikipedia.org/',\n",
       " '//ace.wikipedia.org/',\n",
       " '//af.wikipedia.org/',\n",
       " '//als.wikipedia.org/',\n",
       " '//am.wikipedia.org/',\n",
       " '//an.wikipedia.org/',\n",
       " '//ast.wikipedia.org/',\n",
       " '//bn.wikipedia.org/',\n",
       " '//map-bms.wikipedia.org/',\n",
       " '//ba.wikipedia.org/',\n",
       " '//be-tarask.wikipedia.org/',\n",
       " '//bpy.wikipedia.org/',\n",
       " '//bar.wikipedia.org/',\n",
       " '//bs.wikipedia.org/',\n",
       " '//br.wikipedia.org/',\n",
       " '//cv.wikipedia.org/',\n",
       " '//nv.wikipedia.org/',\n",
       " '//eml.wikipedia.org/',\n",
       " '//fo.wikipedia.org/',\n",
       " '//fy.wikipedia.org/',\n",
       " '//ga.wikipedia.org/',\n",
       " '//gd.wikipedia.org/',\n",
       " '//gu.wikipedia.org/',\n",
       " '//hsb.wikipedia.org/',\n",
       " '//io.wikipedia.org/',\n",
       " '//ilo.wikipedia.org/',\n",
       " '//ia.wikipedia.org/',\n",
       " '//os.wikipedia.org/',\n",
       " '//is.wikipedia.org/',\n",
       " '//jv.wikipedia.org/',\n",
       " '//kn.wikipedia.org/',\n",
       " '//ht.wikipedia.org/',\n",
       " '//ku.wikipedia.org/',\n",
       " '//ckb.wikipedia.org/',\n",
       " '//ky.wikipedia.org/',\n",
       " '//mrj.wikipedia.org/',\n",
       " '//lv.wikipedia.org/',\n",
       " '//lb.wikipedia.org/',\n",
       " '//li.wikipedia.org/',\n",
       " '//lmo.wikipedia.org/',\n",
       " '//mai.wikipedia.org/',\n",
       " '//mg.wikipedia.org/',\n",
       " '//ml.wikipedia.org/',\n",
       " '//zh-classical.wikipedia.org/',\n",
       " '//mr.wikipedia.org/',\n",
       " '//xmf.wikipedia.org/',\n",
       " '//arz.wikipedia.org/',\n",
       " '//mzn.wikipedia.org/',\n",
       " '//cdo.wikipedia.org/',\n",
       " '//mn.wikipedia.org/',\n",
       " '//my.wikipedia.org/',\n",
       " '//new.wikipedia.org/',\n",
       " '//ne.wikipedia.org/',\n",
       " '//nap.wikipedia.org/',\n",
       " '//oc.wikipedia.org/',\n",
       " '//mhr.wikipedia.org/',\n",
       " '//or.wikipedia.org/',\n",
       " '//pa.wikipedia.org/',\n",
       " '//pnb.wikipedia.org/',\n",
       " '//ps.wikipedia.org/',\n",
       " '//pms.wikipedia.org/',\n",
       " '//nds.wikipedia.org/',\n",
       " '//qu.wikipedia.org/',\n",
       " '//sa.wikipedia.org/',\n",
       " '//sah.wikipedia.org/',\n",
       " '//sco.wikipedia.org/',\n",
       " '//sq.wikipedia.org/',\n",
       " '//scn.wikipedia.org/',\n",
       " '//si.wikipedia.org/',\n",
       " '//sd.wikipedia.org/',\n",
       " '//szl.wikipedia.org/',\n",
       " '//su.wikipedia.org/',\n",
       " '//sw.wikipedia.org/',\n",
       " '//tl.wikipedia.org/',\n",
       " '//tt.wikipedia.org/',\n",
       " '//te.wikipedia.org/',\n",
       " '//bug.wikipedia.org/',\n",
       " '//vec.wikipedia.org/',\n",
       " '//wa.wikipedia.org/',\n",
       " '//wuu.wikipedia.org/',\n",
       " '//yi.wikipedia.org/',\n",
       " '//yo.wikipedia.org/',\n",
       " '//zh-yue.wikipedia.org/',\n",
       " '//diq.wikipedia.org/',\n",
       " '//bat-smg.wikipedia.org/',\n",
       " '//kbd.wikipedia.org/',\n",
       " '//ang.wikipedia.org/',\n",
       " '//ab.wikipedia.org/',\n",
       " '//hyw.wikipedia.org/',\n",
       " '//roa-rup.wikipedia.org/',\n",
       " '//frp.wikipedia.org/',\n",
       " '//ig.wikipedia.org/',\n",
       " '//arc.wikipedia.org/',\n",
       " '//gn.wikipedia.org/',\n",
       " '//av.wikipedia.org/',\n",
       " '//ay.wikipedia.org/',\n",
       " '//bjn.wikipedia.org/',\n",
       " '//bh.wikipedia.org/',\n",
       " '//bcl.wikipedia.org/',\n",
       " '//bi.wikipedia.org/',\n",
       " '//bo.wikipedia.org/',\n",
       " '//bxr.wikipedia.org/',\n",
       " '//cbk-zam.wikipedia.org/',\n",
       " '//co.wikipedia.org/',\n",
       " '//za.wikipedia.org/',\n",
       " '//se.wikipedia.org/',\n",
       " '//pdc.wikipedia.org/',\n",
       " '//dsb.wikipedia.org/',\n",
       " '//myv.wikipedia.org/',\n",
       " '//ext.wikipedia.org/',\n",
       " '//hif.wikipedia.org/',\n",
       " '//fur.wikipedia.org/',\n",
       " '//gv.wikipedia.org/',\n",
       " '//gag.wikipedia.org/',\n",
       " '//ki.wikipedia.org/',\n",
       " '//glk.wikipedia.org/',\n",
       " '//gan.wikipedia.org/',\n",
       " '//hak.wikipedia.org/',\n",
       " '//xal.wikipedia.org/',\n",
       " '//ha.wikipedia.org/',\n",
       " '//haw.wikipedia.org/',\n",
       " '//ie.wikipedia.org/',\n",
       " '//kl.wikipedia.org/',\n",
       " '//pam.wikipedia.org/',\n",
       " '//csb.wikipedia.org/',\n",
       " '//kw.wikipedia.org/',\n",
       " '//km.wikipedia.org/',\n",
       " '//rw.wikipedia.org/',\n",
       " '//kv.wikipedia.org/',\n",
       " '//kg.wikipedia.org/',\n",
       " '//gom.wikipedia.org/',\n",
       " '//lo.wikipedia.org/',\n",
       " '//lad.wikipedia.org/',\n",
       " '//lbe.wikipedia.org/',\n",
       " '//lez.wikipedia.org/',\n",
       " '//ln.wikipedia.org/',\n",
       " '//jbo.wikipedia.org/',\n",
       " '//lrc.wikipedia.org/',\n",
       " '//lg.wikipedia.org/',\n",
       " '//lij.wikipedia.org/',\n",
       " '//mt.wikipedia.org/',\n",
       " '//ty.wikipedia.org/',\n",
       " '//mi.wikipedia.org/',\n",
       " '//mwl.wikipedia.org/',\n",
       " '//mdf.wikipedia.org/',\n",
       " '//nah.wikipedia.org/',\n",
       " '//na.wikipedia.org/',\n",
       " '//nds-nl.wikipedia.org/',\n",
       " '//frr.wikipedia.org/',\n",
       " '//nrm.wikipedia.org/',\n",
       " '//nov.wikipedia.org/',\n",
       " '//as.wikipedia.org/',\n",
       " '//pi.wikipedia.org/',\n",
       " '//pag.wikipedia.org/',\n",
       " '//pap.wikipedia.org/',\n",
       " '//koi.wikipedia.org/',\n",
       " '//pfl.wikipedia.org/',\n",
       " '//pcd.wikipedia.org/',\n",
       " '//krc.wikipedia.org/',\n",
       " '//kaa.wikipedia.org/',\n",
       " '//crh.wikipedia.org/',\n",
       " '//ksh.wikipedia.org/',\n",
       " '//rm.wikipedia.org/',\n",
       " '//rue.wikipedia.org/',\n",
       " '//sc.wikipedia.org/',\n",
       " '//stq.wikipedia.org/',\n",
       " '//nso.wikipedia.org/',\n",
       " '//sn.wikipedia.org/',\n",
       " '//so.wikipedia.org/',\n",
       " '//srn.wikipedia.org/',\n",
       " '//kab.wikipedia.org/',\n",
       " '//roa-tara.wikipedia.org/',\n",
       " '//tet.wikipedia.org/',\n",
       " '//tpi.wikipedia.org/',\n",
       " '//to.wikipedia.org/',\n",
       " '//tk.wikipedia.org/',\n",
       " '//tyv.wikipedia.org/',\n",
       " '//udm.wikipedia.org/',\n",
       " '//ug.wikipedia.org/',\n",
       " '//vep.wikipedia.org/',\n",
       " '//fiu-vro.wikipedia.org/',\n",
       " '//vls.wikipedia.org/',\n",
       " '//wo.wikipedia.org/',\n",
       " '//xh.wikipedia.org/',\n",
       " '//zea.wikipedia.org/',\n",
       " '//zu.wikipedia.org/',\n",
       " '//dv.wikipedia.org/',\n",
       " '//ak.wikipedia.org/',\n",
       " '//bm.wikipedia.org/',\n",
       " '//ch.wikipedia.org/',\n",
       " '//ny.wikipedia.org/',\n",
       " '//ee.wikipedia.org/',\n",
       " '//ff.wikipedia.org/',\n",
       " '//got.wikipedia.org/',\n",
       " '//iu.wikipedia.org/',\n",
       " '//ik.wikipedia.org/',\n",
       " '//ks.wikipedia.org/',\n",
       " '//gcr.wikipedia.org/',\n",
       " '//ltg.wikipedia.org/',\n",
       " '//fj.wikipedia.org/',\n",
       " '//cr.wikipedia.org/',\n",
       " '//pih.wikipedia.org/',\n",
       " '//om.wikipedia.org/',\n",
       " '//pnt.wikipedia.org/',\n",
       " '//dz.wikipedia.org/',\n",
       " '//rmy.wikipedia.org/',\n",
       " '//rn.wikipedia.org/',\n",
       " '//sm.wikipedia.org/',\n",
       " '//sg.wikipedia.org/',\n",
       " '//st.wikipedia.org/',\n",
       " '//tn.wikipedia.org/',\n",
       " '//cu.wikipedia.org/',\n",
       " '//ss.wikipedia.org/',\n",
       " '//ti.wikipedia.org/',\n",
       " '//chr.wikipedia.org/',\n",
       " '//chy.wikipedia.org/',\n",
       " '//ve.wikipedia.org/',\n",
       " '//ts.wikipedia.org/',\n",
       " '//tum.wikipedia.org/',\n",
       " '//tw.wikipedia.org/',\n",
       " '//nqo.wikipedia.org/',\n",
       " '//meta.wikimedia.org/wiki/List_of_Wikipedias',\n",
       " '//de.wikipedia.org/wiki/Wikipedia:Sprachen',\n",
       " '//meta.wikimedia.org/wiki/Liste_des_Wikip%C3%A9dias',\n",
       " '//pl.wikipedia.org/wiki/Wikipedia:Lista_wersji_j%C4%99zykowych',\n",
       " '//ja.wikipedia.org/wiki/Wikipedia:%E5%A4%9A%E8%A8%80%E8%AA%9E%E3%83%97%E3%83%AD%E3%82%B8%E3%82%A7%E3%82%AF%E3%83%88%E3%81%A8%E3%81%97%E3%81%A6%E3%81%AE%E3%82%A6%E3%82%A3%E3%82%AD%E3%83%9A%E3%83%87%E3%82%A3%E3%82%A2',\n",
       " '//meta.wikimedia.org/wiki/Lista_de_Wikipedias',\n",
       " '//zh.wikipedia.org/wiki/Wikipedia:%E7%BB%B4%E5%9F%BA%E7%99%BE%E7%A7%91%E8%AF%AD%E8%A8%80%E5%88%97%E8%A1%A8',\n",
       " '//ru.wikipedia.org/wiki/%D0%92%D0%B8%D0%BA%D0%B8%D0%BF%D0%B5%D0%B4%D0%B8%D1%8F:%D0%A1%D0%92',\n",
       " '//eo.wikipedia.org/wiki/Vikipedio:Internacia_Vikipedio',\n",
       " '//meta.wikimedia.org/wiki/%EC%9C%84%ED%82%A4%EB%B0%B1%EA%B3%BC%EC%9D%98_%EB%AA%A9%EB%A1%9D',\n",
       " '//vi.wikipedia.org/wiki/Wikipedia:Phi%C3%AAn_b%E1%BA%A3n_ng%C3%B4n_ng%E1%BB%AF',\n",
       " '//wikimediafoundation.org/',\n",
       " 'https://en.wikipedia.org/wiki/List_of_Wikipedia_mobile_applications',\n",
       " '//play.google.com/store/apps/details?id=org.wikipedia&referrer=utm_source%3Dportal%26utm_medium%3Dbutton%26anid%3Dadmob',\n",
       " '//itunes.apple.com/app/apple-store/id324715238?pt=208305&ct=portal&mt=8',\n",
       " '//commons.wikimedia.org/',\n",
       " '//www.wikivoyage.org/',\n",
       " '//www.wiktionary.org/',\n",
       " '//www.wikibooks.org/',\n",
       " '//www.wikinews.org/',\n",
       " '//www.wikidata.org/',\n",
       " '//www.wikiversity.org/',\n",
       " '//www.wikiquote.org/',\n",
       " '//www.mediawiki.org/',\n",
       " '//www.wikisource.org/',\n",
       " '//species.wikimedia.org/',\n",
       " '//meta.wikimedia.org/',\n",
       " 'https://creativecommons.org/licenses/by-sa/3.0/',\n",
       " '//meta.wikimedia.org/wiki/Terms_of_Use',\n",
       " '//meta.wikimedia.org/wiki/Privacy_policy']"
      ]
     },
     "execution_count": 118,
     "metadata": {},
     "output_type": "execute_result"
    }
   ],
   "source": [
    "linkstotales=[e.get('href') for e in soup.find_all('a')]\n",
    "linkstotales "
   ]
  },
  {
   "cell_type": "markdown",
   "metadata": {},
   "source": [
    "## Step 3: Use list comprehensions with conditions to clean the link list.\n",
    "\n",
    "There are two types of links, absolute and relative. Absolute links have the full URL and begin with http while relative links begin with a forward slash (/) and point to an internal page within the wikipedia.org domain. Clean the respective types of URLs as follows.\n",
    "\n",
    "- Absolute Links: Create a list of these and remove any that contain a percentage sign (%).\n",
    "- Relativel Links: Create a list of these, add the domain to the link so that you have the full URL, and remove any that contain a percentage sign (%).\n",
    "- Combine the list of absolute and relative links and ensure there are no duplicates."
   ]
  },
  {
   "cell_type": "code",
   "execution_count": 60,
   "metadata": {},
   "outputs": [],
   "source": [
    "domain = 'http://wikipedia.org'\n",
    "html=requests.get(domain).content\n",
    "soup=bs(html,'lxml')\n",
    "#soup"
   ]
  },
  {
   "cell_type": "code",
   "execution_count": 70,
   "metadata": {},
   "outputs": [
    {
     "data": {
      "text/plain": [
       "['//en.wikipedia.org/',\n",
       " '//ja.wikipedia.org/',\n",
       " '//de.wikipedia.org/',\n",
       " '//es.wikipedia.org/',\n",
       " '//ru.wikipedia.org/',\n",
       " '//fr.wikipedia.org/',\n",
       " '//it.wikipedia.org/',\n",
       " '//zh.wikipedia.org/',\n",
       " '//pt.wikipedia.org/',\n",
       " '//pl.wikipedia.org/']"
      ]
     },
     "execution_count": 70,
     "metadata": {},
     "output_type": "execute_result"
    }
   ],
   "source": [
    "rel_links=[e.get('href') for e in soup.find_all('a') if (e.get('href')).startswith('//')]\n",
    "rel_links[0:10]"
   ]
  },
  {
   "cell_type": "code",
   "execution_count": 74,
   "metadata": {},
   "outputs": [
    {
     "data": {
      "text/plain": [
       "['https://en.wikipedia.org/wiki/List_of_Wikipedia_mobile_applications',\n",
       " 'https://creativecommons.org/licenses/by-sa/3.0/']"
      ]
     },
     "execution_count": 74,
     "metadata": {},
     "output_type": "execute_result"
    }
   ],
   "source": [
    "abs_links=[e['href'] for e in soup.select('a[href^=\"http\"]')]\n",
    "abs_links"
   ]
  },
  {
   "cell_type": "markdown",
   "metadata": {},
   "source": [
    "## Step 4: Use the os library to create a folder called *wikipedia* and make that the current working directory."
   ]
  },
  {
   "cell_type": "code",
   "execution_count": 75,
   "metadata": {},
   "outputs": [],
   "source": [
    "import os"
   ]
  },
  {
   "cell_type": "code",
   "execution_count": 119,
   "metadata": {},
   "outputs": [],
   "source": [
    "folder= 'wikipedia'\n",
    "#os.mkdir(folder) #crear carpeta\n",
    "#os.chdir('C:\\\\Users\\\\Sativa\\\\test\\\\ironhack\\\\datamex0120\\\\module-1\\\\lab-parallelization\\\\your-code\\\\wikipedia') #cambiando de directorio de trabajo\n",
    "#os.getcwd() #comprobando ruta"
   ]
  },
  {
   "cell_type": "markdown",
   "metadata": {},
   "source": [
    "## Step 5: Write a function called index_page that accepts a link and does the following.\n",
    "\n",
    "- Tries to request the content of the page referenced by that link.\n",
    "- Slugifies the filename using the `slugify` function from the [python-slugify](https://pypi.org/project/python-slugify/) library and adds a .html file extension.\n",
    "    - If you don't already have the python-slugify library installed, you can pip install it as follows: `$ pip install python-slugify`.\n",
    "    - To import the slugify function, you would do the following: `from slugify import slugify`.\n",
    "    - You can then slugify a link as follows `slugify(link)`.\n",
    "- Creates a file in the wikipedia folder using the slugified filename and writes the contents of the page to the file.\n",
    "- If an exception occurs during the process above, just `pass`."
   ]
  },
  {
   "cell_type": "code",
   "execution_count": 89,
   "metadata": {},
   "outputs": [],
   "source": [
    "#!pip3 install python-slugify "
   ]
  },
  {
   "cell_type": "code",
   "execution_count": 90,
   "metadata": {},
   "outputs": [],
   "source": [
    "from slugify import slugify"
   ]
  },
  {
   "cell_type": "code",
   "execution_count": 109,
   "metadata": {},
   "outputs": [],
   "source": [
    "def index_page(link):\n",
    "    try:\n",
    "        html=request.get(link).content\n",
    "        #print(html)\n",
    "        slugified=slugify(link)\n",
    "        newfile=open('slugified','w')\n",
    "        newfile.write(html)\n",
    "        newfile.close()\n",
    "    except:\n",
    "        pass\n",
    "\n",
    "#este tema me resultó confuso"
   ]
  },
  {
   "cell_type": "markdown",
   "metadata": {},
   "source": [
    "## Step 6: Sequentially loop through the list of links, running the index_page function each time.\n",
    "\n",
    "Remember to include `%%time` at the beginning of the cell so that it measures the time it takes for the cell to run."
   ]
  },
  {
   "cell_type": "code",
   "execution_count": 112,
   "metadata": {},
   "outputs": [
    {
     "name": "stderr",
     "output_type": "stream",
     "text": [
      "UsageError: %%time is a cell magic, but the cell body is empty. Did you mean the line magic %time (single %)?\n"
     ]
    }
   ],
   "source": [
    "#%%time\n"
   ]
  },
  {
   "cell_type": "markdown",
   "metadata": {},
   "source": [
    "## Step 7: Perform the page indexing in parallel and note the difference in performance.\n",
    "\n",
    "Remember to include `%%time` at the beginning of the cell so that it measures the time it takes for the cell to run."
   ]
  },
  {
   "cell_type": "code",
   "execution_count": null,
   "metadata": {},
   "outputs": [],
   "source": [
    "import multiprocessing"
   ]
  },
  {
   "cell_type": "code",
   "execution_count": null,
   "metadata": {},
   "outputs": [],
   "source": []
  }
 ],
 "metadata": {
  "kernelspec": {
   "display_name": "Python 3",
   "language": "python",
   "name": "python3"
  },
  "language_info": {
   "codemirror_mode": {
    "name": "ipython",
    "version": 3
   },
   "file_extension": ".py",
   "mimetype": "text/x-python",
   "name": "python",
   "nbconvert_exporter": "python",
   "pygments_lexer": "ipython3",
   "version": "3.7.3"
  }
 },
 "nbformat": 4,
 "nbformat_minor": 2
}
