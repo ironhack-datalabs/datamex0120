{
 "cells": [
  {
   "cell_type": "code",
   "execution_count": 6,
   "metadata": {},
   "outputs": [],
   "source": [
    "def debug(fn):\n",
    "    def wrap(*args, **kwargs):\n",
    "        print('--.Args : ',args)\n",
    "        print('--.Kwargs : ',kwargs)\n",
    "        print('Return : ',fn(*args, **kwargs))\n",
    "        return fn(*args, **kwargs)\n",
    "    return wrap\n",
    "        "
   ]
  },
  {
   "cell_type": "code",
   "execution_count": 7,
   "metadata": {},
   "outputs": [],
   "source": [
    "@debug\n",
    "def sum(a,b):\n",
    "    return a+b"
   ]
  },
  {
   "cell_type": "code",
   "execution_count": 8,
   "metadata": {},
   "outputs": [
    {
     "name": "stdout",
     "output_type": "stream",
     "text": [
      "--.Args :  (5, 6)\n",
      "--.Kwargs :  {}\n",
      "Return :  11\n"
     ]
    },
    {
     "data": {
      "text/plain": [
       "11"
      ]
     },
     "execution_count": 8,
     "metadata": {},
     "output_type": "execute_result"
    }
   ],
   "source": [
    "sum(5,6)"
   ]
  },
  {
   "cell_type": "code",
   "execution_count": 14,
   "metadata": {},
   "outputs": [],
   "source": [
    "\n",
    "# Soldier\n",
    "class Soldier:\n",
    "    def __init__(self, health, strength):\n",
    "        self.health = health\n",
    "        self.strength = strength\n",
    "        \n",
    "    def attack(self):\n",
    "        return self.strength\n",
    "    \n",
    "    def receiveDamage(self, damage):\n",
    "        self.health -= damage\n",
    "\n",
    "\n",
    "\n",
    "# Viking\n",
    "class Viking(Soldier):\n",
    "    def __init__(self, name, health, strength):\n",
    "        #Soldier.__init__(self, health, strength)\n",
    "        self.name = name\n",
    "        self.health = health\n",
    "        self.strength = strength\n",
    "        \n",
    "    def receiveDamage(self, damage):\n",
    "        self.health -= damage\n",
    "        if self.health > 0:\n",
    "            return self.name+\" has received \"+str(damage)+\" points of damage\"\n",
    "        else:\n",
    "            return self.name+\" has died in act of combat\"\n",
    "        \n",
    "    def battleCry(self):\n",
    "        return \"Odin Owns You All!\""
   ]
  },
  {
   "cell_type": "code",
   "execution_count": 15,
   "metadata": {},
   "outputs": [],
   "source": [
    "vikingo1 = Viking('Olaf',50,10)"
   ]
  },
  {
   "cell_type": "code",
   "execution_count": 16,
   "metadata": {},
   "outputs": [
    {
     "data": {
      "text/plain": [
       "'Olaf has received 10 points of damage'"
      ]
     },
     "execution_count": 16,
     "metadata": {},
     "output_type": "execute_result"
    }
   ],
   "source": [
    "vikingo1.receiveDamage(10)"
   ]
  },
  {
   "cell_type": "code",
   "execution_count": 20,
   "metadata": {},
   "outputs": [
    {
     "name": "stdout",
     "output_type": "stream",
     "text": [
      "0\n"
     ]
    }
   ],
   "source": [
    "import random\n",
    "x = random.randrange(0,5)\n",
    "print(x)"
   ]
  },
  {
   "cell_type": "code",
   "execution_count": 35,
   "metadata": {},
   "outputs": [
    {
     "name": "stdout",
     "output_type": "stream",
     "text": [
      "1\n"
     ]
    }
   ],
   "source": [
    "y = random.randint(0,5)\n",
    "print(y)"
   ]
  },
  {
   "cell_type": "code",
   "execution_count": 123,
   "metadata": {},
   "outputs": [],
   "source": [
    "import random\n",
    "# Soldier\n",
    "class Soldier:\n",
    "    def __init__(self, health, strength):\n",
    "        self.health = health\n",
    "        self.strength = strength\n",
    "        \n",
    "    def attack(self):\n",
    "        return self.strength\n",
    "    \n",
    "    def receiveDamage(self, damage):\n",
    "        self.health -= damage\n",
    "\n",
    "\n",
    "\n",
    "# Viking\n",
    "class Viking(Soldier):\n",
    "    def __init__(self, name, health, strength):\n",
    "        #Soldier.__init__(self, health, strength)\n",
    "        self.name = name\n",
    "        self.health = health\n",
    "        self.strength = strength\n",
    "        \n",
    "    def receiveDamage(self, damage):\n",
    "        self.health -= damage\n",
    "        if self.health > 0:\n",
    "            return self.name+\" has received \"+str(damage)+\" points of damage\"\n",
    "        else:\n",
    "            return self.name+\" has died in act of combat\"\n",
    "        \n",
    "    def battleCry(self):\n",
    "        return \"Odin Owns You All!\"\n",
    "    \n",
    "# Saxon\n",
    "class Saxon(Soldier):\n",
    "    def __init_(self, health, strengh):\n",
    "        self.health = health\n",
    "        self.strength = strength\n",
    "    \n",
    "    def receiveDamage(self, damage):\n",
    "        self.health -= damage\n",
    "        if self.health > 0:\n",
    "            return \"A Saxon has received \"+str(damage)+\" points of damage\"\n",
    "        else:\n",
    "            return \"A Saxon has died in combat\"\n",
    "        \n",
    "\n",
    "# War\n",
    "class War:\n",
    "    def __init__(self):\n",
    "        self.vikingArmy = []\n",
    "        self.saxonArmy = []\n",
    "        \n",
    "    def addViking(self, Viking):\n",
    "        self.vikingArmy.append(Viking)\n",
    "        \n",
    "    def addSaxon(self, Saxon):\n",
    "        self.saxonArmy.append(Saxon)\n",
    "        \n",
    "    def vikingAttack(self):\n",
    "        \n",
    "        #print(len(self.vikingArmy))\n",
    "        vik_rand = self.vikingArmy[random.randint(0,len(self.vikingArmy)-1)]\n",
    "        sax_rand = self.saxonArmy[random.randint(0,len(self.saxonArmy)-1)]\n",
    "        \n",
    "        at_vik = vik_rand.attack()\n",
    "        resp_sax = sax_rand.receiveDamage(at_vik)\n",
    "        \n",
    "        temp_list_s = []\n",
    "        \n",
    "        for i in self.saxonArmy:\n",
    "            if i.health > 0:\n",
    "                temp_list_s.append(i)\n",
    "        self.saxonArmy = temp_list_s\n",
    "        \n",
    "        return resp_sax\n",
    "    \n",
    "    def saxonAttack(self):\n",
    "        \n",
    "        vik_rand = self.vikingArmy[random.randint(0,len(self.vikingArmy)-1)]\n",
    "        sax_rand = self.saxonArmy[random.randint(0,len(self.saxonArmy)-1)]\n",
    "        \n",
    "        at_sax = sax_rand.attack()\n",
    "        resp_vik = vik_rand.receiveDamage(at_sax)\n",
    "        \n",
    "        temp_list_v = []\n",
    "        \n",
    "        for i in self.vikingArmy:\n",
    "            if i.health > 0:\n",
    "                temp_list_v.append(i)\n",
    "        self.vikingArmy = temp_list_v\n",
    "        \n",
    "        return resp_vik\n",
    "    \n",
    "    def showStatus(self):\n",
    "        \n",
    "        if len(self.saxonArmy)==0:\n",
    "            return \"Vikings have won the war of the century!\"\n",
    "        \n",
    "        if len(self.vikingArmy)==0:\n",
    "            return \"Saxons have fought for their lives and survive another day...\"\n",
    "        \n",
    "        if (len(self.saxonArmy)>0) and (len(self.vikingArmy)>0):\n",
    "            return \"Vikings and Saxons are still in the thick of battle.\""
   ]
  },
  {
   "cell_type": "code",
   "execution_count": 111,
   "metadata": {},
   "outputs": [],
   "source": [
    "guerra = War()"
   ]
  },
  {
   "cell_type": "code",
   "execution_count": 112,
   "metadata": {},
   "outputs": [],
   "source": [
    "vik1 = Viking('Vik1', 100, 10)"
   ]
  },
  {
   "cell_type": "code",
   "execution_count": 113,
   "metadata": {},
   "outputs": [],
   "source": [
    "vik2 = Viking('Vik2', 90, 12)"
   ]
  },
  {
   "cell_type": "code",
   "execution_count": 114,
   "metadata": {},
   "outputs": [],
   "source": [
    "sax1 = Saxon(120, 8)"
   ]
  },
  {
   "cell_type": "code",
   "execution_count": 115,
   "metadata": {},
   "outputs": [],
   "source": [
    "sax2 = Saxon(110, 12)"
   ]
  },
  {
   "cell_type": "code",
   "execution_count": 116,
   "metadata": {},
   "outputs": [],
   "source": [
    "guerra.addViking(vik1)"
   ]
  },
  {
   "cell_type": "code",
   "execution_count": 117,
   "metadata": {},
   "outputs": [],
   "source": [
    "guerra.addViking(vik2)"
   ]
  },
  {
   "cell_type": "code",
   "execution_count": 118,
   "metadata": {},
   "outputs": [],
   "source": [
    "guerra.addSaxon(sax1)"
   ]
  },
  {
   "cell_type": "code",
   "execution_count": 119,
   "metadata": {},
   "outputs": [],
   "source": [
    "guerra.addSaxon(sax2)"
   ]
  },
  {
   "cell_type": "code",
   "execution_count": 120,
   "metadata": {},
   "outputs": [
    {
     "data": {
      "text/plain": [
       "'Vikings and Saxons are still in the thick of battle.'"
      ]
     },
     "execution_count": 120,
     "metadata": {},
     "output_type": "execute_result"
    }
   ],
   "source": [
    "guerra.showStatus()"
   ]
  },
  {
   "cell_type": "code",
   "execution_count": 121,
   "metadata": {},
   "outputs": [
    {
     "data": {
      "text/plain": [
       "[<__main__.Saxon at 0x1052dfc88>, <__main__.Saxon at 0x1052df0f0>]"
      ]
     },
     "execution_count": 121,
     "metadata": {},
     "output_type": "execute_result"
    }
   ],
   "source": [
    "guerra.saxonArmy"
   ]
  },
  {
   "cell_type": "code",
   "execution_count": 122,
   "metadata": {},
   "outputs": [
    {
     "data": {
      "text/plain": [
       "'A Saxon has received 10 points of damage'"
      ]
     },
     "execution_count": 122,
     "metadata": {},
     "output_type": "execute_result"
    }
   ],
   "source": [
    "guerra.vikingAttack()"
   ]
  },
  {
   "cell_type": "code",
   "execution_count": 109,
   "metadata": {},
   "outputs": [
    {
     "ename": "NameError",
     "evalue": "name 'temp_list' is not defined",
     "output_type": "error",
     "traceback": [
      "\u001b[0;31m---------------------------------------------------------------------------\u001b[0m",
      "\u001b[0;31mNameError\u001b[0m                                 Traceback (most recent call last)",
      "\u001b[0;32m<ipython-input-109-166a6e6dac7a>\u001b[0m in \u001b[0;36m<module>\u001b[0;34m\u001b[0m\n\u001b[0;32m----> 1\u001b[0;31m \u001b[0mguerra\u001b[0m\u001b[0;34m.\u001b[0m\u001b[0msaxonAttack\u001b[0m\u001b[0;34m(\u001b[0m\u001b[0;34m)\u001b[0m\u001b[0;34m\u001b[0m\u001b[0;34m\u001b[0m\u001b[0m\n\u001b[0m",
      "\u001b[0;32m<ipython-input-96-7a58f18a3dac>\u001b[0m in \u001b[0;36msaxonAttack\u001b[0;34m(self)\u001b[0m\n\u001b[1;32m     86\u001b[0m         \u001b[0;32mfor\u001b[0m \u001b[0mi\u001b[0m \u001b[0;32min\u001b[0m \u001b[0mself\u001b[0m\u001b[0;34m.\u001b[0m\u001b[0mvikingArmy\u001b[0m\u001b[0;34m:\u001b[0m\u001b[0;34m\u001b[0m\u001b[0;34m\u001b[0m\u001b[0m\n\u001b[1;32m     87\u001b[0m             \u001b[0;32mif\u001b[0m \u001b[0mi\u001b[0m\u001b[0;34m.\u001b[0m\u001b[0mhealth\u001b[0m \u001b[0;34m>\u001b[0m \u001b[0;36m0\u001b[0m\u001b[0;34m:\u001b[0m\u001b[0;34m\u001b[0m\u001b[0;34m\u001b[0m\u001b[0m\n\u001b[0;32m---> 88\u001b[0;31m                 \u001b[0mtemp_list\u001b[0m\u001b[0;34m.\u001b[0m\u001b[0mappend\u001b[0m\u001b[0;34m(\u001b[0m\u001b[0mi\u001b[0m\u001b[0;34m)\u001b[0m\u001b[0;34m\u001b[0m\u001b[0;34m\u001b[0m\u001b[0m\n\u001b[0m\u001b[1;32m     89\u001b[0m         \u001b[0mself\u001b[0m\u001b[0;34m.\u001b[0m\u001b[0mvikingArmy\u001b[0m \u001b[0;34m=\u001b[0m \u001b[0mtemp_list\u001b[0m\u001b[0;34m\u001b[0m\u001b[0;34m\u001b[0m\u001b[0m\n\u001b[1;32m     90\u001b[0m \u001b[0;34m\u001b[0m\u001b[0m\n",
      "\u001b[0;31mNameError\u001b[0m: name 'temp_list' is not defined"
     ]
    }
   ],
   "source": [
    "guerra.saxonAttack()"
   ]
  },
  {
   "cell_type": "code",
   "execution_count": null,
   "metadata": {},
   "outputs": [],
   "source": []
  }
 ],
 "metadata": {
  "kernelspec": {
   "display_name": "Python 3",
   "language": "python",
   "name": "python3"
  },
  "language_info": {
   "codemirror_mode": {
    "name": "ipython",
    "version": 3
   },
   "file_extension": ".py",
   "mimetype": "text/x-python",
   "name": "python",
   "nbconvert_exporter": "python",
   "pygments_lexer": "ipython3",
   "version": "3.7.3"
  }
 },
 "nbformat": 4,
 "nbformat_minor": 2
}
