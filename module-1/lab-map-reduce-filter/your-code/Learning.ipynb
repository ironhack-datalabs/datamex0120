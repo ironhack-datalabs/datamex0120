{
 "cells": [
  {
   "cell_type": "markdown",
   "metadata": {},
   "source": [
    "# Map, Reduce, Filter\n",
    "\n",
    "\n",
    "Lesson Goals\n",
    "\n",
    "In this lesson you will learn all about:\n",
    "\n",
    "    Mapping, reducing, and filtering in Python\n",
    "    The apply function in pandas and how it relates to the Python functions above\n",
    "\n",
    "Introduction\n",
    "\n",
    "Mapping, and filtering are important concepts in functional programming. These concepts come up in other distributed programming frameworks and exist in Python as well. In this lesson we will expand on the functional programming concepts we have learned in previous lessons and apply these concepts using mapping, reducing, and filtering.\n",
    "Functional Programming Recap\n",
    "\n",
    "As we have learned in previous lessons, functional programming is a programming paradigm where code is written in such a way that avoids mutability or sharing state. Operations are performed by passing data through functions and storing the result in a new variable.\n",
    "Immutability\n",
    "\n",
    "An immutable object is an object that cannot be changed after it is created. By sticking with functional programming, we ensure that no two processes will modify the same data. Instead, when each function modifies the data, it will then store the resulting data in a new variable. This results in cleaner, safer and easier to read code.\n",
    "Transforming State\n",
    "\n",
    "When writing functionally, we can think of a function as a mapping from input to output. An example of shared state is a computer game where we have multiple characters moving on the screen. Moving one character might affect another character, even unintentionally. With functional programming, this is not a concern for us.\n",
    "Mapping\n",
    "\n",
    "The goal of using the map() function is to apply a function to a sequence (like a list or a set). The map() function takes a function as an argument as well as a sequence and returns a sequence with the function applied to every element in the sequence. For example, let's create a function that divides a number by 2 and returns the result. "
   ]
  },
  {
   "cell_type": "code",
   "execution_count": 1,
   "metadata": {},
   "outputs": [],
   "source": [
    "def half(x):\n",
    "    return x / 2"
   ]
  },
  {
   "cell_type": "markdown",
   "metadata": {},
   "source": [
    "Now that we have our function, let's apply it to a list of numbers.\n",
    "\n"
   ]
  },
  {
   "cell_type": "code",
   "execution_count": 2,
   "metadata": {},
   "outputs": [
    {
     "data": {
      "text/plain": [
       "<map at 0x7fcb1457a5f8>"
      ]
     },
     "execution_count": 2,
     "metadata": {},
     "output_type": "execute_result"
    }
   ],
   "source": [
    "l = [10, 12, 34, 23]\n",
    "map(half, l)"
   ]
  },
  {
   "cell_type": "markdown",
   "metadata": {},
   "source": [
    "The map() function creates a map object which is an iterable object. To create a new list, one option is to convert the iterable into a list. "
   ]
  },
  {
   "cell_type": "code",
   "execution_count": 3,
   "metadata": {},
   "outputs": [
    {
     "data": {
      "text/plain": [
       "[5.0, 6.0, 17.0, 11.5]"
      ]
     },
     "execution_count": 3,
     "metadata": {},
     "output_type": "execute_result"
    }
   ],
   "source": [
    "list(map(half, l))"
   ]
  },
  {
   "cell_type": "markdown",
   "metadata": {},
   "source": [
    "Similarly, we can cast the iterable into a set.\n",
    "\n",
    "\n",
    "# Filtering\n",
    "\n",
    "Like the map() function, the filter function takes a function and a sequence and returns an iterable. The goal of this function is to use the function we pass to it to remove elements from our sequence. Our function should return true for all the elements we want to keep and false for the ones we want to remove. For example, we can create a function that returns true if a number is odd and false if it is even. In fact, let's use a lambda expression for this task.\n",
    "\n"
   ]
  },
  {
   "cell_type": "code",
   "execution_count": 4,
   "metadata": {},
   "outputs": [
    {
     "data": {
      "text/plain": [
       "<filter at 0x7fcb1457a588>"
      ]
     },
     "execution_count": 4,
     "metadata": {},
     "output_type": "execute_result"
    }
   ],
   "source": [
    "filter(lambda x: x % 2 == 1, l)"
   ]
  },
  {
   "cell_type": "markdown",
   "metadata": {},
   "source": [
    "Again, this returns an iterable, so we will cast it to a list."
   ]
  },
  {
   "cell_type": "code",
   "execution_count": 5,
   "metadata": {},
   "outputs": [
    {
     "data": {
      "text/plain": [
       "[23]"
      ]
     },
     "execution_count": 5,
     "metadata": {},
     "output_type": "execute_result"
    }
   ],
   "source": [
    "list(filter(lambda x: x % 2 == 1, l))"
   ]
  },
  {
   "cell_type": "markdown",
   "metadata": {},
   "source": [
    "# Reducing\n",
    "\n",
    "While the map() function applies the function to each element in the sequence, sometimes we might want to apply a function that will aggregate all elements in the sequence. There are built-in examples in Python for this like the max() function or the sum() function. The reduce() does exactly this. This function is not standard in Python and needs to be imported from the functools library. The reduce function starts from the beginning of the sequence and operates on two elements at a time. This is why the function passed to reduce() should always take two elements and return one.\n",
    "\n",
    "For example, if we would like to create a summation function using reduce(), we will sum two elements at a time.\n",
    "\n",
    "Let's write a lambda expression that will take two elements and sum them."
   ]
  },
  {
   "cell_type": "code",
   "execution_count": 6,
   "metadata": {},
   "outputs": [],
   "source": [
    "summation = lambda a, b: a + b"
   ]
  },
  {
   "cell_type": "markdown",
   "metadata": {},
   "source": [
    "By passing this lambda expression to the reduce() function (along with a list), we will perform the following operations in this order:\n",
    "\n",
    "reduce order\n",
    "\n",
    "Here is the completed snippet of code to find the sum:"
   ]
  },
  {
   "cell_type": "code",
   "execution_count": 7,
   "metadata": {},
   "outputs": [
    {
     "data": {
      "text/plain": [
       "79"
      ]
     },
     "execution_count": 7,
     "metadata": {},
     "output_type": "execute_result"
    }
   ],
   "source": [
    "from functools import reduce\n",
    "\n",
    "reduce(lambda a, b: a + b, l)"
   ]
  },
  {
   "cell_type": "markdown",
   "metadata": {},
   "source": [
    "Here is another example of reduce(). This time we will use reduce() to find the maximum of a list. We will do this by comparing two elements at a time and returning the largest of the two. "
   ]
  },
  {
   "cell_type": "code",
   "execution_count": 8,
   "metadata": {},
   "outputs": [
    {
     "data": {
      "text/plain": [
       "34"
      ]
     },
     "execution_count": 8,
     "metadata": {},
     "output_type": "execute_result"
    }
   ],
   "source": [
    "reduce(lambda a, b: a if a > b else b, l)"
   ]
  },
  {
   "cell_type": "markdown",
   "metadata": {},
   "source": [
    "\n",
    "# Functional Programming in Pandas\n",
    "\n",
    "In pandas, we can use the apply() function to apply a function to a dataset. We do not make a distinction between functions that are applied to every row or every column and aggregate functions. We can use the apply function for both types.\n",
    "\n",
    "Here is an example of a dataframe."
   ]
  },
  {
   "cell_type": "code",
   "execution_count": 9,
   "metadata": {},
   "outputs": [
    {
     "data": {
      "text/html": [
       "<div>\n",
       "<style scoped>\n",
       "    .dataframe tbody tr th:only-of-type {\n",
       "        vertical-align: middle;\n",
       "    }\n",
       "\n",
       "    .dataframe tbody tr th {\n",
       "        vertical-align: top;\n",
       "    }\n",
       "\n",
       "    .dataframe thead th {\n",
       "        text-align: right;\n",
       "    }\n",
       "</style>\n",
       "<table border=\"1\" class=\"dataframe\">\n",
       "  <thead>\n",
       "    <tr style=\"text-align: right;\">\n",
       "      <th></th>\n",
       "      <th>a</th>\n",
       "      <th>b</th>\n",
       "      <th>c</th>\n",
       "    </tr>\n",
       "  </thead>\n",
       "  <tbody>\n",
       "    <tr>\n",
       "      <th>0</th>\n",
       "      <td>-0.056673</td>\n",
       "      <td>-0.586679</td>\n",
       "      <td>1.316608</td>\n",
       "    </tr>\n",
       "    <tr>\n",
       "      <th>1</th>\n",
       "      <td>0.317204</td>\n",
       "      <td>-0.670107</td>\n",
       "      <td>-0.402551</td>\n",
       "    </tr>\n",
       "    <tr>\n",
       "      <th>2</th>\n",
       "      <td>1.510662</td>\n",
       "      <td>0.801214</td>\n",
       "      <td>1.097762</td>\n",
       "    </tr>\n",
       "    <tr>\n",
       "      <th>3</th>\n",
       "      <td>-1.542299</td>\n",
       "      <td>0.058841</td>\n",
       "      <td>-0.053087</td>\n",
       "    </tr>\n",
       "  </tbody>\n",
       "</table>\n",
       "</div>"
      ],
      "text/plain": [
       "          a         b         c\n",
       "0 -0.056673 -0.586679  1.316608\n",
       "1  0.317204 -0.670107 -0.402551\n",
       "2  1.510662  0.801214  1.097762\n",
       "3 -1.542299  0.058841 -0.053087"
      ]
     },
     "execution_count": 9,
     "metadata": {},
     "output_type": "execute_result"
    }
   ],
   "source": [
    "import numpy as np\n",
    "import pandas as pd\n",
    "\n",
    "df = pd.DataFrame(np.random.randn(4, 3), columns=['a', 'b', 'c'])\n",
    "df"
   ]
  },
  {
   "cell_type": "markdown",
   "metadata": {},
   "source": [
    "We can use the half() function we defined earlier and apply it to every cell in the dataframe. "
   ]
  },
  {
   "cell_type": "code",
   "execution_count": 10,
   "metadata": {},
   "outputs": [
    {
     "data": {
      "text/html": [
       "<div>\n",
       "<style scoped>\n",
       "    .dataframe tbody tr th:only-of-type {\n",
       "        vertical-align: middle;\n",
       "    }\n",
       "\n",
       "    .dataframe tbody tr th {\n",
       "        vertical-align: top;\n",
       "    }\n",
       "\n",
       "    .dataframe thead th {\n",
       "        text-align: right;\n",
       "    }\n",
       "</style>\n",
       "<table border=\"1\" class=\"dataframe\">\n",
       "  <thead>\n",
       "    <tr style=\"text-align: right;\">\n",
       "      <th></th>\n",
       "      <th>a</th>\n",
       "      <th>b</th>\n",
       "      <th>c</th>\n",
       "    </tr>\n",
       "  </thead>\n",
       "  <tbody>\n",
       "    <tr>\n",
       "      <th>0</th>\n",
       "      <td>-0.028337</td>\n",
       "      <td>-0.293340</td>\n",
       "      <td>0.658304</td>\n",
       "    </tr>\n",
       "    <tr>\n",
       "      <th>1</th>\n",
       "      <td>0.158602</td>\n",
       "      <td>-0.335053</td>\n",
       "      <td>-0.201276</td>\n",
       "    </tr>\n",
       "    <tr>\n",
       "      <th>2</th>\n",
       "      <td>0.755331</td>\n",
       "      <td>0.400607</td>\n",
       "      <td>0.548881</td>\n",
       "    </tr>\n",
       "    <tr>\n",
       "      <th>3</th>\n",
       "      <td>-0.771149</td>\n",
       "      <td>0.029421</td>\n",
       "      <td>-0.026543</td>\n",
       "    </tr>\n",
       "  </tbody>\n",
       "</table>\n",
       "</div>"
      ],
      "text/plain": [
       "          a         b         c\n",
       "0 -0.028337 -0.293340  0.658304\n",
       "1  0.158602 -0.335053 -0.201276\n",
       "2  0.755331  0.400607  0.548881\n",
       "3 -0.771149  0.029421 -0.026543"
      ]
     },
     "execution_count": 10,
     "metadata": {},
     "output_type": "execute_result"
    }
   ],
   "source": [
    "df.apply(half)"
   ]
  },
  {
   "cell_type": "markdown",
   "metadata": {},
   "source": [
    "Furthermore, we can define an aggregate function that will return the range of a column (the difference between the maximum and the minimum values)."
   ]
  },
  {
   "cell_type": "code",
   "execution_count": 11,
   "metadata": {},
   "outputs": [],
   "source": [
    "def range_func(x):\n",
    "    return max(x) - min(x)"
   ]
  },
  {
   "cell_type": "markdown",
   "metadata": {},
   "source": [
    "When we apply the function to our dataframe, it will compute the range for each column by default."
   ]
  },
  {
   "cell_type": "code",
   "execution_count": 12,
   "metadata": {},
   "outputs": [
    {
     "data": {
      "text/plain": [
       "a    3.052961\n",
       "b    1.471320\n",
       "c    1.719159\n",
       "dtype: float64"
      ]
     },
     "execution_count": 12,
     "metadata": {},
     "output_type": "execute_result"
    }
   ],
   "source": [
    "df.apply(range_func)"
   ]
  },
  {
   "cell_type": "code",
   "execution_count": null,
   "metadata": {},
   "outputs": [],
   "source": []
  }
 ],
 "metadata": {
  "kernelspec": {
   "display_name": "Python 3",
   "language": "python",
   "name": "python3"
  },
  "language_info": {
   "codemirror_mode": {
    "name": "ipython",
    "version": 3
   },
   "file_extension": ".py",
   "mimetype": "text/x-python",
   "name": "python",
   "nbconvert_exporter": "python",
   "pygments_lexer": "ipython3",
   "version": "3.7.6"
  }
 },
 "nbformat": 4,
 "nbformat_minor": 2
}
