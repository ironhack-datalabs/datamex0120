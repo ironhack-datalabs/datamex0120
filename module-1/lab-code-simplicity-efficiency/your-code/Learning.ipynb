{
 "cells": [
  {
   "cell_type": "markdown",
   "metadata": {},
   "source": [
    "# Code Simplicity and Efficiency\n",
    "\n",
    "\n",
    "\n",
    "\n",
    "Lesson Goals\n",
    "\n",
    "    Learn about the basic principles of writing simple and clean code.\n",
    "\n",
    "    Understand the basic tips provided in this lesson on how to write efficient Python code.\n",
    "\n",
    "    Start developing your awareness and habit of writing simple, clean, and efficient code.\n",
    "\n",
    "\n",
    "Introduction\n",
    "\n",
    "Programming is an essential skill for data analysts, data scientists, and especially data engineers. Although you are not a software engineer, writing good code is important for you because your colleagues will read your code and machines will execute your code. Your work is not worthy if no one can understand your code or the machine will break on your code.\n",
    "\n",
    "Then what code is good code? There are many criteria to judge the quality of the code but the bottom line is it needs to be simple and efficient.\n",
    "\n",
    "\n",
    "\n",
    "Simple and Clean Code\n",
    "\n",
    "Why\n",
    "\n",
    "Writing simple code allows you to be more productive and prevents your code from running into unnecessary errors. It also makes your code more readable, easier to be debugged, and easier to be updated. In product development, it's common sense that one should focus on a limited set of features and make each feature as efficient and usable as possible. Because the more features one attempts to achieve, the less effort will be put into improving each feature. In programming, it's the same as in product development.\n",
    "\n",
    "Programming has a human/social dimension. At the end of the day the machine is not the only consumer of your code. Your colleagues will read your code because coding is often team work. Your mentor/supervisor will read your code because they need to evaluate your work. You yourself will read your own code because you need to debug errors. If you are in the open-source community there will also be strangers reading your code because they need to build their codes on top of yours. The simplicity of code allows it to be easily understood by human programmers.\n",
    "\n",
    "\n",
    "\n",
    "Code Simplicity\n",
    "\n",
    "In order to write simple codes, you need to develop design thinking. There is a famous saying that everybody who writes software is a designer. You write codes to solve problems and to help people. What are the key issues to solve? What are the possible solutions? What is the right solution to use? These are the questions you need to ask yourself and it requires design skills to find the solution that works best. You will make autonomous decisions and you will need to put all your existing knowledge and all your past experience on the table to help you make the right decisions. You will also need to think from the shoes of your users to make sure your solution will indeed help them.\n",
    "\n",
    "The \"keep it simple, stupid\" (KISS) principle states that your code should not attempt to achieve unnecessary, \"smart\" features. The more complicated your code is, the more error-prone and less maintainable it becomes. When you write a function to parse JSON data, for example, let it focus on parsing and nothing else. Don't introduce other functionalities in the same function such as removing special characters, converting letter cases, etc. If you really need to achieve extra goals, write additional functions.\n",
    "\n",
    "The KISS principle is related to the \"You Aren't Gonna Need It\" (YAGNI) and the Lean Software Developoment . These principles state that you shouldn't add features to your code unless you absolutely know they are needed. Taking the parsing JSON data example again, you shouldn't even write the functions to remove special characters or converting letter cases unless you have proof that it will be problematic if your code doesn't do that. Sometimes your data sources have already removed special characters so you don't need to do it in your code. Sometimes letter cases don't matter in the analysis. So try to finish writing the code as quickly as you can by achieving the minimal set of features. Then you come back to test your code with real data. If you find evidence that the features missing are causing probloms, you can then add those features.\n",
    "\n",
    "Also, an easy way does not necessarily mean a good way. For instance, you have written a piece of code to parse JSON and you find you just need to modify a few lines to make your code work for parsing other data formats such as XML and RSS. So you copy and paste the same piece of code several times and modify them in order to handle XML and RSS. BAD PRACTICE! You are breaking the coding principle called \"don't repeat yourself\" (DRY) . Copy-n-pasting is indeed easy for you to get things done. However, when people read your code it'll be a big waste of time. When you want to fix an error in your code you will also need to make the fix multiple times. The right approach here is to write a function with variables so that you can reuse the same piece of code for XML and RSS.\n",
    "\n",
    "\n",
    "\n",
    "Clean Code\n",
    "\n",
    "Clean code has a lot to overlap with simple code. It means you should keep your code as concise, readable, and maintainable as possible. If you can achieve your goal with one line of code, don't make it two lines. You should avoid making your code messy or cumbersome which the DRY principle previously mentioned can be of great help. You should also design your code with maintainable structure so that it can continue evolving as you build up your project.\n",
    "\n",
    "The readability of your code means your code should be self-explanatory about what it does. Some techniques to achieve good readability include:\n",
    "\n",
    "    Organizing your files. For example, if you have many files in your project you should create folders to hold different types of them such as spreadsheets, textual files, images, etc. Don't put all the files in one level as in a large project it'll be super difficult to find the files you want.\n",
    "\n",
    "    Structuring your code. For example, place library imports at the beginning, define global variables next, then define functions, then write the rest of the code. Similarly, in a function, define the local variables first then write the code.\n",
    "\n",
    "    Respect coding conventions (e.g. Style Guide for Python Code). Most importantly, follow naming conventions. For instance, in Python the following are the basic naming conventions:\n",
    "        Use CapWords to declare class names.\n",
    "        Use words_connected_by_underscores to declare variables and functions.\n",
    "        Use CAPITAL_LETTERS to declare constants.\n",
    "        Use descriptive names for all declarations. Examples: parse_json is better than my_function as a function name because it is self-explanatory on what this function does. And raw_data is better than d as a variable name because it clearly indicates what this variable is.\n",
    "\n",
    "\n",
    "\n",
    "Code Efficiency\n",
    "\n",
    "Code efficiency is another dimension of your code that you will be increasingly concerned about as your role becomes more senior. In addition to making your code readable by humans your code should also be efficient to be executed on machines. Often times there are multiple ways to achieve the same goal and you should find out the way that gives your code the best performance. Improving your code efficiency requires fundamental knowledge about how the programming language is executed on machines and it's lifelong learning because new technologies and practices are constantly being improved/invented. In this course you won't need to worry too much about your code efficiency but it's great that you keep it in mind while you grow.\n",
    "\n",
    "In the context of this course, Python and SQL are where you can start developing your awareness for code efficiency. Below we provide some basic tips for you on how to write more effient code.\n",
    "Efficient Python Coding Tips\n",
    "Use the join method instead of the + operator in string concatenation\n",
    "\n",
    "Avoid:"
   ]
  },
  {
   "cell_type": "code",
   "execution_count": 1,
   "metadata": {},
   "outputs": [
    {
     "data": {
      "text/plain": [
       "'abc'"
      ]
     },
     "execution_count": 1,
     "metadata": {},
     "output_type": "execute_result"
    }
   ],
   "source": [
    "lst=['a', 'b', 'c']\n",
    "\n",
    "s = \"\"\n",
    "for substring in lst:\n",
    "    s += substring\n",
    "s"
   ]
  },
  {
   "cell_type": "markdown",
   "metadata": {},
   "source": [
    "Use:"
   ]
  },
  {
   "cell_type": "code",
   "execution_count": 2,
   "metadata": {},
   "outputs": [
    {
     "data": {
      "text/plain": [
       "'abc'"
      ]
     },
     "execution_count": 2,
     "metadata": {},
     "output_type": "execute_result"
    }
   ],
   "source": [
    "s = \"\".join(lst)\n",
    "s"
   ]
  },
  {
   "cell_type": "markdown",
   "metadata": {},
   "source": [
    "Use the % instead of + operator in string formatting\n",
    "\n",
    "Avoid:"
   ]
  },
  {
   "cell_type": "code",
   "execution_count": 3,
   "metadata": {},
   "outputs": [],
   "source": [
    "head='head'\n",
    "prologue='prog'\n",
    "query='q'\n",
    "tail='tail'"
   ]
  },
  {
   "cell_type": "code",
   "execution_count": 4,
   "metadata": {},
   "outputs": [
    {
     "data": {
      "text/plain": [
       "'<html>headprogqtail</html>'"
      ]
     },
     "execution_count": 4,
     "metadata": {},
     "output_type": "execute_result"
    }
   ],
   "source": [
    "out = \"<html>\" + head + prologue + query + tail + \"</html>\"\n",
    "out"
   ]
  },
  {
   "cell_type": "markdown",
   "metadata": {},
   "source": [
    "Use:"
   ]
  },
  {
   "cell_type": "code",
   "execution_count": 5,
   "metadata": {},
   "outputs": [
    {
     "data": {
      "text/plain": [
       "'<html>headprogqtail</html>'"
      ]
     },
     "execution_count": 5,
     "metadata": {},
     "output_type": "execute_result"
    }
   ],
   "source": [
    "out = \"<html>%s%s%s%s</html>\" % (head, prologue, query, tail)\n",
    "out"
   ]
  },
  {
   "cell_type": "markdown",
   "metadata": {},
   "source": [
    "And the better one:"
   ]
  },
  {
   "cell_type": "code",
   "execution_count": 6,
   "metadata": {},
   "outputs": [
    {
     "data": {
      "text/plain": [
       "'<html>headprogqtail</html>'"
      ]
     },
     "execution_count": 6,
     "metadata": {},
     "output_type": "execute_result"
    }
   ],
   "source": [
    "out = \"<html>{}{}{}{}</html>\".format(head, prologue, query, tail)\n",
    "out"
   ]
  },
  {
   "cell_type": "markdown",
   "metadata": {},
   "source": [
    "Avoid loops whenever you can\n",
    "\n",
    "Avoid:"
   ]
  },
  {
   "cell_type": "code",
   "execution_count": 7,
   "metadata": {},
   "outputs": [
    {
     "data": {
      "text/plain": [
       "['A', 'B', 'C']"
      ]
     },
     "execution_count": 7,
     "metadata": {},
     "output_type": "execute_result"
    }
   ],
   "source": [
    "newlist = []\n",
    "for word in lst:\n",
    "    newlist.append(word.upper())\n",
    "newlist"
   ]
  },
  {
   "cell_type": "markdown",
   "metadata": {},
   "source": [
    "Use:"
   ]
  },
  {
   "cell_type": "code",
   "execution_count": 8,
   "metadata": {},
   "outputs": [
    {
     "data": {
      "text/plain": [
       "['A', 'B', 'C']"
      ]
     },
     "execution_count": 8,
     "metadata": {},
     "output_type": "execute_result"
    }
   ],
   "source": [
    "newlist = map(str.upper, lst)\n",
    "list(newlist)"
   ]
  },
  {
   "cell_type": "markdown",
   "metadata": {},
   "source": [
    "Or:"
   ]
  },
  {
   "cell_type": "code",
   "execution_count": 9,
   "metadata": {},
   "outputs": [
    {
     "data": {
      "text/plain": [
       "['A', 'B', 'C']"
      ]
     },
     "execution_count": 9,
     "metadata": {},
     "output_type": "execute_result"
    }
   ],
   "source": [
    "newlist = [s.upper() for s in lst]\n",
    "newlist"
   ]
  },
  {
   "cell_type": "markdown",
   "metadata": {},
   "source": [
    "Avoid:"
   ]
  },
  {
   "cell_type": "code",
   "execution_count": 10,
   "metadata": {},
   "outputs": [
    {
     "data": {
      "text/plain": [
       "[(1, 0), (2, 0), (2, 1)]"
      ]
     },
     "execution_count": 10,
     "metadata": {},
     "output_type": "execute_result"
    }
   ],
   "source": [
    "results = []\n",
    "for i in range(10):\n",
    "    for j in range(i):\n",
    "        results.append((i, j))\n",
    "results[0:3]"
   ]
  },
  {
   "cell_type": "markdown",
   "metadata": {},
   "source": [
    "Use:"
   ]
  },
  {
   "cell_type": "code",
   "execution_count": 11,
   "metadata": {},
   "outputs": [
    {
     "data": {
      "text/plain": [
       "[(1, 0), (2, 0), (2, 1)]"
      ]
     },
     "execution_count": 11,
     "metadata": {},
     "output_type": "execute_result"
    }
   ],
   "source": [
    "results = [(i, j)\n",
    "           for i in range(10)\n",
    "           for j in range(i)]\n",
    "results[0:3]"
   ]
  },
  {
   "cell_type": "code",
   "execution_count": null,
   "metadata": {},
   "outputs": [],
   "source": []
  }
 ],
 "metadata": {
  "kernelspec": {
   "display_name": "Python 3",
   "language": "python",
   "name": "python3"
  },
  "language_info": {
   "codemirror_mode": {
    "name": "ipython",
    "version": 3
   },
   "file_extension": ".py",
   "mimetype": "text/x-python",
   "name": "python",
   "nbconvert_exporter": "python",
   "pygments_lexer": "ipython3",
   "version": "3.7.5"
  }
 },
 "nbformat": 4,
 "nbformat_minor": 2
}
