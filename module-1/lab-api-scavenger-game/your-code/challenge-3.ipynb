{
 "cells": [
  {
   "cell_type": "code",
   "execution_count": 1,
   "metadata": {},
   "outputs": [],
   "source": [
    "import json\n",
    "import requests\n",
    "import pandas as pd\n",
    "from pandas.io.json import json_normalize"
   ]
  },
  {
   "cell_type": "code",
   "execution_count": 2,
   "metadata": {},
   "outputs": [],
   "source": [
    "apiUrl = 'https://api.github.com'\n",
    "datamexEndpoint = '/repos/ironhack-datalabs/scavenger/contents/'#':path'\n",
    "\n",
    "token = '29284a2e99021cffa57320e5b3179e4703e6bbf2'"
   ]
  },
  {
   "cell_type": "code",
   "execution_count": null,
   "metadata": {},
   "outputs": [],
   "source": [
    "response = requests.get(apiUrl+datamexEndpoint, headers={'Authorization':'token ' +token})\n",
    "results = response.json()\n",
    "main = pd.DataFrame(results)"
   ]
  },
  {
   "cell_type": "code",
   "execution_count": 5,
   "metadata": {},
   "outputs": [
    {
     "data": {
      "text/plain": [
       "Index(['name', 'path', 'sha', 'size', 'url', 'html_url', 'git_url',\n",
       "       'download_url', 'type', '_links'],\n",
       "      dtype='object')"
      ]
     },
     "execution_count": 5,
     "metadata": {},
     "output_type": "execute_result"
    }
   ],
   "source": [
    "main.columns"
   ]
  },
  {
   "cell_type": "code",
   "execution_count": 6,
   "metadata": {},
   "outputs": [
    {
     "data": {
      "text/plain": [
       "['.gitignore',\n",
       " '15024',\n",
       " '15534',\n",
       " '17020',\n",
       " '30351',\n",
       " '40303',\n",
       " '44639',\n",
       " '45525',\n",
       " '47222',\n",
       " '47830',\n",
       " '49418',\n",
       " '50896',\n",
       " '55417',\n",
       " '55685',\n",
       " '60224',\n",
       " '64880',\n",
       " '66032',\n",
       " '68848',\n",
       " '70751',\n",
       " '70985',\n",
       " '88596',\n",
       " '89046',\n",
       " '89338',\n",
       " '91701',\n",
       " '97881',\n",
       " '98750']"
      ]
     },
     "execution_count": 6,
     "metadata": {},
     "output_type": "execute_result"
    }
   ],
   "source": [
    "main_paths = []\n",
    "for path in main.path:\n",
    "    main_paths.append(path)\n",
    "\n",
    "main_paths"
   ]
  },
  {
   "cell_type": "code",
   "execution_count": 9,
   "metadata": {},
   "outputs": [
    {
     "data": {
      "text/plain": [
       "['15024',\n",
       " '15534',\n",
       " '17020',\n",
       " '30351',\n",
       " '40303',\n",
       " '44639',\n",
       " '45525',\n",
       " '47222',\n",
       " '47830',\n",
       " '49418',\n",
       " '50896',\n",
       " '55417',\n",
       " '55685',\n",
       " '60224',\n",
       " '64880',\n",
       " '66032',\n",
       " '68848',\n",
       " '70751',\n",
       " '70985',\n",
       " '88596',\n",
       " '89046',\n",
       " '89338',\n",
       " '91701',\n",
       " '97881',\n",
       " '98750']"
      ]
     },
     "execution_count": 9,
     "metadata": {},
     "output_type": "execute_result"
    }
   ],
   "source": [
    "main_paths.remove('.gitignore')\n",
    "main_paths"
   ]
  },
  {
   "cell_type": "code",
   "execution_count": 18,
   "metadata": {},
   "outputs": [
    {
     "data": {
      "text/plain": [
       "['15024/.0006.scavengerhunt',\n",
       " '15534/.0008.scavengerhunt',\n",
       " '17020/.0007.scavengerhunt',\n",
       " '30351/.0021.scavengerhunt',\n",
       " '40303/.0022.scavengerhunt',\n",
       " '44639/.0005.scavengerhunt',\n",
       " '45525/.0018.scavengerhunt',\n",
       " '47222/.0016.scavengerhunt',\n",
       " '47830/.0010.scavengerhunt',\n",
       " '49418/.0014.scavengerhunt',\n",
       " '50896/.0011.scavengerhunt',\n",
       " '55417/.0023.scavengerhunt',\n",
       " '55685/.0020.scavengerhunt',\n",
       " '60224/.0003.scavengerhunt',\n",
       " '68848/.0004.scavengerhunt',\n",
       " '70751/.0019.scavengerhunt',\n",
       " '70985/.0017.scavengerhunt',\n",
       " '88596/.0002.scavengerhunt',\n",
       " '89338/.0013.scavengerhunt',\n",
       " '91701/.0015.scavengerhunt',\n",
       " '97881/.0009.scavengerhunt',\n",
       " '98750/.0001.scavengerhunt']"
      ]
     },
     "execution_count": 18,
     "metadata": {},
     "output_type": "execute_result"
    }
   ],
   "source": [
    "file_paths = []\n",
    "for dir_path in main_paths: \n",
    "    response = requests.get(apiUrl+datamexEndpoint + dir_path, headers={'Authorization':'token ' +token})\n",
    "    file_path = response.json()[0]['path']\n",
    "    #print(file_path)\n",
    "    if '.' in file_path:\n",
    "        file_paths.append(file_path)\n",
    "\n",
    "file_paths"
   ]
  },
  {
   "cell_type": "code",
   "execution_count": 30,
   "metadata": {},
   "outputs": [
    {
     "data": {
      "text/plain": [
       "[['15024/', '0006', 'scavengerhunt'],\n",
       " ['15534/', '0008', 'scavengerhunt'],\n",
       " ['17020/', '0007', 'scavengerhunt'],\n",
       " ['30351/', '0021', 'scavengerhunt'],\n",
       " ['40303/', '0022', 'scavengerhunt'],\n",
       " ['44639/', '0005', 'scavengerhunt'],\n",
       " ['45525/', '0018', 'scavengerhunt'],\n",
       " ['47222/', '0016', 'scavengerhunt'],\n",
       " ['47830/', '0010', 'scavengerhunt'],\n",
       " ['49418/', '0014', 'scavengerhunt'],\n",
       " ['50896/', '0011', 'scavengerhunt'],\n",
       " ['55417/', '0023', 'scavengerhunt'],\n",
       " ['55685/', '0020', 'scavengerhunt'],\n",
       " ['60224/', '0003', 'scavengerhunt'],\n",
       " ['68848/', '0004', 'scavengerhunt'],\n",
       " ['70751/', '0019', 'scavengerhunt'],\n",
       " ['70985/', '0017', 'scavengerhunt'],\n",
       " ['88596/', '0002', 'scavengerhunt'],\n",
       " ['89338/', '0013', 'scavengerhunt'],\n",
       " ['91701/', '0015', 'scavengerhunt'],\n",
       " ['97881/', '0009', 'scavengerhunt'],\n",
       " ['98750/', '0001', 'scavengerhunt']]"
      ]
     },
     "execution_count": 30,
     "metadata": {},
     "output_type": "execute_result"
    }
   ],
   "source": [
    "fp_lsts = [file_path.split(\".\") for file_path in file_paths]\n",
    "fp_lsts"
   ]
  },
  {
   "cell_type": "code",
   "execution_count": 45,
   "metadata": {},
   "outputs": [],
   "source": [
    "fp = pd.DataFrame(fp_lsts, columns = ['c1', 'c2', 'c3'])\n",
    "fp.sort_values(by=['c2'], inplace=True)"
   ]
  },
  {
   "cell_type": "code",
   "execution_count": 46,
   "metadata": {},
   "outputs": [
    {
     "data": {
      "text/plain": [
       "['98750/.0001.scavengerhunt',\n",
       " '88596/.0002.scavengerhunt',\n",
       " '60224/.0003.scavengerhunt',\n",
       " '68848/.0004.scavengerhunt',\n",
       " '44639/.0005.scavengerhunt',\n",
       " '15024/.0006.scavengerhunt',\n",
       " '17020/.0007.scavengerhunt',\n",
       " '15534/.0008.scavengerhunt',\n",
       " '97881/.0009.scavengerhunt',\n",
       " '47830/.0010.scavengerhunt',\n",
       " '50896/.0011.scavengerhunt',\n",
       " '89338/.0013.scavengerhunt',\n",
       " '49418/.0014.scavengerhunt',\n",
       " '91701/.0015.scavengerhunt',\n",
       " '47222/.0016.scavengerhunt',\n",
       " '70985/.0017.scavengerhunt',\n",
       " '45525/.0018.scavengerhunt',\n",
       " '70751/.0019.scavengerhunt',\n",
       " '55685/.0020.scavengerhunt',\n",
       " '30351/.0021.scavengerhunt',\n",
       " '40303/.0022.scavengerhunt',\n",
       " '55417/.0023.scavengerhunt']"
      ]
     },
     "execution_count": 46,
     "metadata": {},
     "output_type": "execute_result"
    }
   ],
   "source": [
    "final_paths = []\n",
    "for i in fp.index:\n",
    "    #print(fp.loc[i]['c1'])\n",
    "    final_paths.append(fp.loc[i]['c1']+'.'+fp.loc[i]['c2']+'.scavengerhunt')\n",
    "    #final_paths.append()\n",
    "final_paths"
   ]
  },
  {
   "cell_type": "code",
   "execution_count": 47,
   "metadata": {},
   "outputs": [
    {
     "data": {
      "text/plain": [
       "['SW4K\\n',\n",
       " 'ZGF0YQo=\\n',\n",
       " 'c2NpZW5jZSwK\\n',\n",
       " 'ODAK\\n',\n",
       " 'cGVyY2VudAo=\\n',\n",
       " 'b2YK\\n',\n",
       " 'dGltZQo=\\n',\n",
       " 'c3BlbnQK\\n',\n",
       " 'aXMK\\n',\n",
       " 'cHJlcGFyaW5nCg==\\n',\n",
       " 'ZGF0YSwK\\n',\n",
       " 'cGVyY2VudAo=\\n',\n",
       " 'b2YK\\n',\n",
       " 'dGltZQo=\\n',\n",
       " 'aXMK\\n',\n",
       " 'c3BlbnQK\\n',\n",
       " 'Y29tcGxhaW5pbmcK\\n',\n",
       " 'YWJvdXQK\\n',\n",
       " 'dGhlCg==\\n',\n",
       " 'bmVlZAo=\\n',\n",
       " 'dG8K\\n',\n",
       " 'cHJlcGFyZQo=\\n']"
      ]
     },
     "execution_count": 47,
     "metadata": {},
     "output_type": "execute_result"
    }
   ],
   "source": [
    "contents = []\n",
    "for file_path in final_paths: \n",
    "    response = requests.get(apiUrl+datamexEndpoint + file_path, headers={'Authorization':'token ' +token})\n",
    "    content = response.json()['content']\n",
    "    contents.append(content)\n",
    "\n",
    "contents"
   ]
  },
  {
   "cell_type": "code",
   "execution_count": 48,
   "metadata": {},
   "outputs": [
    {
     "data": {
      "text/plain": [
       "['In\\n',\n",
       " 'data\\n',\n",
       " 'science,\\n',\n",
       " '80\\n',\n",
       " 'percent\\n',\n",
       " 'of\\n',\n",
       " 'time\\n',\n",
       " 'spent\\n',\n",
       " 'is\\n',\n",
       " 'preparing\\n',\n",
       " 'data,\\n',\n",
       " 'percent\\n',\n",
       " 'of\\n',\n",
       " 'time\\n',\n",
       " 'is\\n',\n",
       " 'spent\\n',\n",
       " 'complaining\\n',\n",
       " 'about\\n',\n",
       " 'the\\n',\n",
       " 'need\\n',\n",
       " 'to\\n',\n",
       " 'prepare\\n']"
      ]
     },
     "execution_count": 48,
     "metadata": {},
     "output_type": "execute_result"
    }
   ],
   "source": [
    "import base64\n",
    "secrete_message = []\n",
    "for i in contents:\n",
    "    secrete_message.append(base64.b64decode(i).decode('UTF-8'))\n",
    "\n",
    "secrete_message"
   ]
  },
  {
   "cell_type": "code",
   "execution_count": 53,
   "metadata": {},
   "outputs": [
    {
     "data": {
      "text/plain": [
       "'In data science, 80 percent of time spent is preparing data, percent of time is spent complaining about the need to prepare '"
      ]
     },
     "execution_count": 53,
     "metadata": {},
     "output_type": "execute_result"
    }
   ],
   "source": [
    "message = '' \n",
    "\n",
    "for word in secrete_message:\n",
    "    message += word\n",
    "    \n",
    "message.replace('\\n', ' ')"
   ]
  },
  {
   "cell_type": "code",
   "execution_count": null,
   "metadata": {},
   "outputs": [],
   "source": []
  },
  {
   "cell_type": "code",
   "execution_count": null,
   "metadata": {},
   "outputs": [],
   "source": []
  }
 ],
 "metadata": {
  "kernelspec": {
   "display_name": "Python 3",
   "language": "python",
   "name": "python3"
  },
  "language_info": {
   "codemirror_mode": {
    "name": "ipython",
    "version": 3
   },
   "file_extension": ".py",
   "mimetype": "text/x-python",
   "name": "python",
   "nbconvert_exporter": "python",
   "pygments_lexer": "ipython3",
   "version": "3.7.6"
  }
 },
 "nbformat": 4,
 "nbformat_minor": 2
}
