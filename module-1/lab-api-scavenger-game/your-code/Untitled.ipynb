{
 "cells": [
  {
   "cell_type": "code",
   "execution_count": 3,
   "metadata": {},
   "outputs": [],
   "source": [
    "import pandas as pd\n",
    "import json\n",
    "import requests\n",
    "from pandas.io.json import json_normalize"
   ]
  },
  {
   "cell_type": "markdown",
   "metadata": {},
   "source": [
    "# Challenge 1: Fork Languages"
   ]
  },
  {
   "cell_type": "code",
   "execution_count": 54,
   "metadata": {},
   "outputs": [
    {
     "data": {
      "text/plain": [
       "0     https://api.github.com/repos/aeonryu/clases_da...\n",
       "1     https://api.github.com/repos/germfy/clases_dat...\n",
       "2     https://api.github.com/repos/ArturoQR/clases_d...\n",
       "3     https://api.github.com/repos/diegodg78/clases_...\n",
       "4     https://api.github.com/repos/luisferlc/clases_...\n",
       "5     https://api.github.com/repos/davidfv7/clases_d...\n",
       "6     https://api.github.com/repos/nanfabs/clases_da...\n",
       "7     https://api.github.com/repos/brisa-araujo/clas...\n",
       "8     https://api.github.com/repos/FernaA/clases_dat...\n",
       "9     https://api.github.com/repos/RamMaravilla/clas...\n",
       "10    https://api.github.com/repos/ReynaldoMR3/clase...\n",
       "Name: languages_url, dtype: object"
      ]
     },
     "execution_count": 54,
     "metadata": {},
     "output_type": "execute_result"
    }
   ],
   "source": [
    "response = requests.get('https://api.github.com/repos/YonatanRA/clases_datamex1019/forks')\n",
    "results = response.json()\n",
    "data_normalize = json_normalize(results)\n",
    "\n",
    "data_normalize['languages_url']"
   ]
  },
  {
   "cell_type": "code",
   "execution_count": 51,
   "metadata": {},
   "outputs": [
    {
     "data": {
      "text/plain": [
       "dict_keys(['Jupyter Notebook', 'TSQL', 'Python'])"
      ]
     },
     "execution_count": 51,
     "metadata": {},
     "output_type": "execute_result"
    }
   ],
   "source": [
    "resp = requests.get('https://api.github.com/repos/YonatanRA/clases_datamex0120/languages')\n",
    "results = resp.json()\n",
    "results.keys()"
   ]
  },
  {
   "cell_type": "markdown",
   "metadata": {},
   "source": [
    "# Challenge 2: Count Commits"
   ]
  },
  {
   "cell_type": "code",
   "execution_count": 43,
   "metadata": {},
   "outputs": [
    {
     "name": "stdout",
     "output_type": "stream",
     "text": [
      "0     workshop\n",
      "1     workshop\n",
      "2        w8_d2\n",
      "3        w8_d2\n",
      "4        w8_d2\n",
      "5        w8_d2\n",
      "6        w8_d2\n",
      "7        w8_d2\n",
      "8        w8_d2\n",
      "9        w8_d2\n",
      "10       w8_d2\n",
      "11       w8_d2\n",
      "12       w8_d2\n",
      "13        data\n",
      "14       w8_d1\n",
      "15       w8_d1\n",
      "16       w8_d1\n",
      "17       w8_d1\n",
      "18       w8_d1\n",
      "19       w8_d1\n",
      "20       w8_d1\n",
      "21       w8_d1\n",
      "22       w8_d1\n",
      "23       w8_d1\n",
      "24       w8_d1\n",
      "25       w8_d1\n",
      "26       w8_d1\n",
      "27       w8_d1\n",
      "28       w8_d1\n",
      "29        data\n",
      "Name: commit.message, dtype: object\n",
      "numero de commits:  30\n"
     ]
    }
   ],
   "source": [
    "esponse = requests.get('https://api.github.com/repos/YonatanRA/clases_datamex1019/commits')\n",
    "results = response.json()\n",
    "data_normalize = json_normalize(results)\n",
    "data_message = data_normalize['commit.message']\n",
    "data_count = data_normalize['commit.comment_count']\n",
    "print(data_message)\n",
    "print('numero de commits: ', data_message.count())"
   ]
  },
  {
   "cell_type": "markdown",
   "metadata": {},
   "source": [
    "# Challenge 3: Hidden Cold Joke\n"
   ]
  },
  {
   "cell_type": "code",
   "execution_count": 63,
   "metadata": {},
   "outputs": [
    {
     "name": "stdout",
     "output_type": "stream",
     "text": [
      "id\n",
      "node_id\n",
      "name\n",
      "full_name\n",
      "private\n",
      "html_url\n",
      "description\n",
      "fork\n",
      "url\n",
      "forks_url\n",
      "keys_url\n",
      "collaborators_url\n",
      "teams_url\n",
      "hooks_url\n",
      "issue_events_url\n",
      "events_url\n",
      "assignees_url\n",
      "branches_url\n",
      "tags_url\n",
      "blobs_url\n",
      "git_tags_url\n",
      "git_refs_url\n",
      "trees_url\n",
      "statuses_url\n",
      "languages_url\n",
      "stargazers_url\n",
      "contributors_url\n",
      "subscribers_url\n",
      "subscription_url\n",
      "commits_url\n",
      "git_commits_url\n",
      "comments_url\n",
      "issue_comment_url\n",
      "contents_url\n",
      "compare_url\n",
      "merges_url\n",
      "archive_url\n",
      "downloads_url\n",
      "issues_url\n",
      "pulls_url\n",
      "milestones_url\n",
      "notifications_url\n",
      "labels_url\n",
      "releases_url\n",
      "deployments_url\n",
      "created_at\n",
      "updated_at\n",
      "pushed_at\n",
      "git_url\n",
      "ssh_url\n",
      "clone_url\n",
      "svn_url\n",
      "homepage\n",
      "size\n",
      "stargazers_count\n",
      "watchers_count\n",
      "language\n",
      "has_issues\n",
      "has_projects\n",
      "has_downloads\n",
      "has_wiki\n",
      "has_pages\n",
      "forks_count\n",
      "mirror_url\n",
      "archived\n",
      "disabled\n",
      "open_issues_count\n",
      "license\n",
      "forks\n",
      "open_issues\n",
      "watchers\n",
      "default_branch\n",
      "temp_clone_token\n",
      "network_count\n",
      "subscribers_count\n",
      "owner.login\n",
      "owner.id\n",
      "owner.node_id\n",
      "owner.avatar_url\n",
      "owner.gravatar_id\n",
      "owner.url\n",
      "owner.html_url\n",
      "owner.followers_url\n",
      "owner.following_url\n",
      "owner.gists_url\n",
      "owner.starred_url\n",
      "owner.subscriptions_url\n",
      "owner.organizations_url\n",
      "owner.repos_url\n",
      "owner.events_url\n",
      "owner.received_events_url\n",
      "owner.type\n",
      "owner.site_admin\n",
      "organization.login\n",
      "organization.id\n",
      "organization.node_id\n",
      "organization.avatar_url\n",
      "organization.gravatar_id\n",
      "organization.url\n",
      "organization.html_url\n",
      "organization.followers_url\n",
      "organization.following_url\n",
      "organization.gists_url\n",
      "organization.starred_url\n",
      "organization.subscriptions_url\n",
      "organization.organizations_url\n",
      "organization.repos_url\n",
      "organization.events_url\n",
      "organization.received_events_url\n",
      "organization.type\n",
      "organization.site_admin\n"
     ]
    }
   ],
   "source": [
    "resp = requests.get('https://api.github.com/repos/ironhack-datalabs/scavenger')\n",
    "response = resp.json()\n",
    "organize = json_normalize(response)\n",
    "for col in organize.columns:\n",
    "    print(col)"
   ]
  },
  {
   "cell_type": "code",
   "execution_count": 96,
   "metadata": {},
   "outputs": [
    {
     "data": {
      "text/plain": [
       "Index(['name', 'path', 'sha', 'size', 'url', 'html_url', 'git_url',\n",
       "       'download_url', 'type', '_links.self', '_links.git', '_links.html'],\n",
       "      dtype='object')"
      ]
     },
     "execution_count": 96,
     "metadata": {},
     "output_type": "execute_result"
    }
   ],
   "source": [
    "data = requests.get('https://api.github.com/repos/ironhack-datalabs/scavenger/contents/')\n",
    "jsn = data.json()\n",
    "organize_json = json_normalize(jsn)\n",
    "organize_json.columns"
   ]
  },
  {
   "cell_type": "code",
   "execution_count": 94,
   "metadata": {},
   "outputs": [
    {
     "data": {
      "text/plain": [
       "0     https://api.github.com/repos/ironhack-datalabs...\n",
       "1     https://api.github.com/repos/ironhack-datalabs...\n",
       "2     https://api.github.com/repos/ironhack-datalabs...\n",
       "3     https://api.github.com/repos/ironhack-datalabs...\n",
       "4     https://api.github.com/repos/ironhack-datalabs...\n",
       "5     https://api.github.com/repos/ironhack-datalabs...\n",
       "6     https://api.github.com/repos/ironhack-datalabs...\n",
       "7     https://api.github.com/repos/ironhack-datalabs...\n",
       "8     https://api.github.com/repos/ironhack-datalabs...\n",
       "9     https://api.github.com/repos/ironhack-datalabs...\n",
       "10    https://api.github.com/repos/ironhack-datalabs...\n",
       "11    https://api.github.com/repos/ironhack-datalabs...\n",
       "12    https://api.github.com/repos/ironhack-datalabs...\n",
       "13    https://api.github.com/repos/ironhack-datalabs...\n",
       "14    https://api.github.com/repos/ironhack-datalabs...\n",
       "15    https://api.github.com/repos/ironhack-datalabs...\n",
       "16    https://api.github.com/repos/ironhack-datalabs...\n",
       "17    https://api.github.com/repos/ironhack-datalabs...\n",
       "18    https://api.github.com/repos/ironhack-datalabs...\n",
       "19    https://api.github.com/repos/ironhack-datalabs...\n",
       "20    https://api.github.com/repos/ironhack-datalabs...\n",
       "21    https://api.github.com/repos/ironhack-datalabs...\n",
       "22    https://api.github.com/repos/ironhack-datalabs...\n",
       "23    https://api.github.com/repos/ironhack-datalabs...\n",
       "24    https://api.github.com/repos/ironhack-datalabs...\n",
       "25    https://api.github.com/repos/ironhack-datalabs...\n",
       "Name: git_url, dtype: object"
      ]
     },
     "execution_count": 94,
     "metadata": {},
     "output_type": "execute_result"
    }
   ],
   "source": [
    "see = organize_json['git_url']\n",
    "see"
   ]
  }
 ],
 "metadata": {
  "kernelspec": {
   "display_name": "Python 3",
   "language": "python",
   "name": "python3"
  },
  "language_info": {
   "codemirror_mode": {
    "name": "ipython",
    "version": 3
   },
   "file_extension": ".py",
   "mimetype": "text/x-python",
   "name": "python",
   "nbconvert_exporter": "python",
   "pygments_lexer": "ipython3",
   "version": "3.7.3"
  }
 },
 "nbformat": 4,
 "nbformat_minor": 2
}
