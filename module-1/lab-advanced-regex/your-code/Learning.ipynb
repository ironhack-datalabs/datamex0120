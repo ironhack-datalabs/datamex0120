{
 "cells": [
  {
   "cell_type": "markdown",
   "metadata": {},
   "source": [
    "# Advanced Regular Expressions\n",
    "\n",
    "\n",
    "Lesson Goals\n",
    "\n",
    "    Gain a deeper understanding of the regular expressions.\n",
    "    Use character and set matching to extract characters from text.\n",
    "    Use meta-characters and quantifiers to write more robust regular expressions.\n",
    "    Use character classes to make your regular expressions more concise.\n",
    "    Combine regular expression components to match more complex patterns.\n",
    "    Learn how to extract useful information from text such as words, capitalized words, quotes, and formatted numbers.\n",
    "\n",
    "Introduction\n",
    "\n",
    "Regular expressions are very useful for converting unstructured data to a structured format that is easier to analyze. In the String Operations lesson, we took a very introductory look at regular expressions and how to use them to search, split, and substitute characters in a text string. In this lesson, we will continue our study of regular expressions, going into more detail and learning how to perform more complex operations with them.\n",
    "\n",
    "For this lesson, we will be working with the re library, so let's go ahead and import it. "
   ]
  },
  {
   "cell_type": "code",
   "execution_count": 1,
   "metadata": {},
   "outputs": [],
   "source": [
    "import re"
   ]
  },
  {
   "cell_type": "markdown",
   "metadata": {},
   "source": [
    "In this lesson, we will work exclusively with the findall method of the re library because it allows us to extract every instance in the text that matches the regular expression patterns that we construct. Once you have a solid understanding of that, you can easily use those patterns for splitting or substituting strings as necessary.\n",
    "\n",
    "\n",
    "Components of Regular Expressions\n",
    "\n",
    "Regular expressions are patterns that we can put together using a combination of characters, sets, meta-characters, quantifiers, character classes, and groups. These expressions can be used to find patterns in text strings that match the expressions. In the sections that follow, we will delve into each of these components, describe them, and look at some examples of how they can be used.\n",
    "\n",
    "\n",
    "# Characters and Sets\n",
    "\n",
    "Regular expressions with single characters request a match for those characters. We simply need to put the individual characters in quotes, and the regular expression will extract instances in the text where the characters appear in sequence. The example below will find and return all the single character a instances in the text. "
   ]
  },
  {
   "cell_type": "code",
   "execution_count": 2,
   "metadata": {},
   "outputs": [
    {
     "data": {
      "text/plain": [
       "['a', 'a', 'a']"
      ]
     },
     "execution_count": 2,
     "metadata": {},
     "output_type": "execute_result"
    }
   ],
   "source": [
    "text = \"That person wears marvelous trousers.\"\n",
    "\n",
    "pattern = 'a'\n",
    "re.findall(pattern, text)"
   ]
  },
  {
   "cell_type": "markdown",
   "metadata": {},
   "source": [
    "If we would like to extract a specific sequence of characters, we can just include them all in the quotes in the exact sequence we would like to find and extract them."
   ]
  },
  {
   "cell_type": "code",
   "execution_count": 3,
   "metadata": {},
   "outputs": [
    {
     "data": {
      "text/plain": [
       "['er', 'er']"
      ]
     },
     "execution_count": 3,
     "metadata": {},
     "output_type": "execute_result"
    }
   ],
   "source": [
    "text = \"That person wears marvelous trousers.\"\n",
    "\n",
    "pattern = 'er'\n",
    "re.findall(pattern, text)"
   ]
  },
  {
   "cell_type": "markdown",
   "metadata": {},
   "source": [
    "In the example above, the regular expression matched and returned pattern 'er' from the words person and trousers in the text, as that is where they appear together in that specific sequence.\n",
    "\n",
    "If we wanted to extract all instances of either letter e or r, we could enclose them in square brackets, making them a set. "
   ]
  },
  {
   "cell_type": "code",
   "execution_count": 4,
   "metadata": {},
   "outputs": [
    {
     "data": {
      "text/plain": [
       "['e', 'r', 'e', 'r', 'r', 'e', 'r', 'e', 'r']"
      ]
     },
     "execution_count": 4,
     "metadata": {},
     "output_type": "execute_result"
    }
   ],
   "source": [
    "text = \"That person wears marvelous trousers.\"\n",
    "\n",
    "pattern = '[er]'\n",
    "re.findall(pattern, text)"
   ]
  },
  {
   "cell_type": "markdown",
   "metadata": {},
   "source": [
    "Making them a set will return every instance of any character within the square brackets.\n",
    "\n",
    "You can embed these sets into regular character sequences to return things like versions of a word within the text where there are different accepted spellings."
   ]
  },
  {
   "cell_type": "code",
   "execution_count": 5,
   "metadata": {},
   "outputs": [
    {
     "data": {
      "text/plain": [
       "['gray', 'grey']"
      ]
     },
     "execution_count": 5,
     "metadata": {},
     "output_type": "execute_result"
    }
   ],
   "source": [
    "text = \"Is it spelled gray or grey?\"\n",
    "\n",
    "pattern = 'gr[ae]y'\n",
    "re.findall(pattern, text)"
   ]
  },
  {
   "cell_type": "markdown",
   "metadata": {},
   "source": [
    "If you have a range of characters, either alpha or numeric, that you want included in a set, you don't need to explicitly type out each one. You can simply put the beginning and end of the range inside square brackets with a hyphen (-) in the middle and it will return any characters it finds that are in the specified range."
   ]
  },
  {
   "cell_type": "code",
   "execution_count": 6,
   "metadata": {},
   "outputs": [
    {
     "data": {
      "text/plain": [
       "['A', 'B', 'C']"
      ]
     },
     "execution_count": 6,
     "metadata": {},
     "output_type": "execute_result"
    }
   ],
   "source": [
    "text = \"This is an A and B conversation, so C your way out of it.\"\n",
    "\n",
    "pattern = '[A-C]'\n",
    "re.findall(pattern, text)\n"
   ]
  },
  {
   "cell_type": "code",
   "execution_count": 7,
   "metadata": {},
   "outputs": [
    {
     "data": {
      "text/plain": [
       "['1', '2', '3']"
      ]
     },
     "execution_count": 7,
     "metadata": {},
     "output_type": "execute_result"
    }
   ],
   "source": [
    "text = \"I'm not going to the party because 1) Karen is going, 2) I don't like her, and 3) I already have a headache.\"\n",
    "\n",
    "pattern = '[1-3]'\n",
    "re.findall(pattern, text)"
   ]
  },
  {
   "cell_type": "markdown",
   "metadata": {},
   "source": [
    "You can use these up to their full ranges, listed below.\n",
    "\n",
    "    [a-z]: Any lowercase letter between a and z.\n",
    "    [A-Z]: Any uppercase letter between A and Z.\n",
    "    [0-9]: Any numeric character between 0 and 9.\n",
    "\n",
    "\n",
    "\n",
    "# Meta-characters\n",
    "\n",
    "The square brackets we used to create sets in the previous section are an example of meta-characters, or characters that can be used in regular expressions to mean something other than what they actually are. These meta-characters allow us to concisely write and match more complex patterns. There are many kinds of these meta-characters, and below is a list of them and what they can be used for.\n",
    "\n",
    "    []: Match set of characters\n",
    "    .: Match any character except newline (\\n)\n",
    "    ^: Match characters not listed if within set or match beginning of line\n",
    "    $: Match end of line\n",
    "    |: Functions as an \"OR\" operator\n",
    "\n",
    "Let's see how these meta-characters can be incorporated into our regular expressions and the impact they have on the results returned.\n",
    "\n",
    "We have already seen an example of how square brackets work, so we will start with the . meta-character. "
   ]
  },
  {
   "cell_type": "code",
   "execution_count": 8,
   "metadata": {},
   "outputs": [
    {
     "name": "stdout",
     "output_type": "stream",
     "text": [
      "['M', 'y', ' ', 'b', 'o', 's', 's', ' ', 'a', 's', 'k', 'e', 'd', ' ', 'm', 'e', ' ', 't', 'o', ' ', 't', 'u', 'r', 'n', ' ', 'i', 'n', ' ', 'm', 'y', ' ', 'T', 'P', 'S', ' ', 'r', 'e', 'p', 'o', 'r', 't', 's', '.', ' ', ' ', 'I', ' ', 't', 'o', 'l', 'd', ' ', 'h', 'i', 'm', ' ', 't', 'h', 'e', 'y', ' ', 'w', 'e', 'r', 'e', ' ', 'd', 'o', 'n', 'e', ',', ' ', 'b', 'u', 't', ' ', 't', 'h', 'e', 'y', ' ', 'a', 'r', 'e', ' ', 'n', 'o', 't', '.']\n"
     ]
    }
   ],
   "source": [
    "text = \"My boss asked me to turn in my TPS reports. \\n I told him they were done, but they are not.\"\n",
    "\n",
    "pattern = '.'\n",
    "print(re.findall(pattern, text))"
   ]
  },
  {
   "cell_type": "markdown",
   "metadata": {},
   "source": [
    "As you can see, this returns every character except for the newline (\\n) in our text.\n",
    "\n",
    "Next, let's look at the how the ^ meta-character works. When at the beginning of a character set enclosed in square brackets, it returns all characters not in the set (all characters that are not in the range of lowercase a to lowercase m below). "
   ]
  },
  {
   "cell_type": "code",
   "execution_count": 9,
   "metadata": {},
   "outputs": [
    {
     "name": "stdout",
     "output_type": "stream",
     "text": [
      "['M', 'y', ' ', 'o', 's', 's', ' ', 's', ' ', ' ', 't', 'o', ' ', 't', 'u', 'r', 'n', ' ', 'n', ' ', 'y', ' ', 'T', 'P', 'S', ' ', 'r', 'p', 'o', 'r', 't', 's', '.', ' ', '\\n', ' ', 'I', ' ', 't', 'o', ' ', ' ', 't', 'y', ' ', 'w', 'r', ' ', 'o', 'n', ',', ' ', 'u', 't', ' ', 't', 'y', ' ', 'r', ' ', 'n', 'o', 't', '.']\n"
     ]
    }
   ],
   "source": [
    "pattern = '[^a-m]'\n",
    "print(re.findall(pattern, text))"
   ]
  },
  {
   "cell_type": "markdown",
   "metadata": {},
   "source": [
    "It can also be used outside sets to match a pattern at the beginning of a line."
   ]
  },
  {
   "cell_type": "code",
   "execution_count": 10,
   "metadata": {},
   "outputs": [
    {
     "name": "stdout",
     "output_type": "stream",
     "text": [
      "['My boss']\n"
     ]
    }
   ],
   "source": [
    "pattern = '^My boss'\n",
    "print(re.findall(pattern, text))"
   ]
  },
  {
   "cell_type": "markdown",
   "metadata": {},
   "source": [
    "Similarly, the $ meta-character can be used to match a pattern at the end of a line. "
   ]
  },
  {
   "cell_type": "code",
   "execution_count": 11,
   "metadata": {},
   "outputs": [
    {
     "name": "stdout",
     "output_type": "stream",
     "text": [
      "['they are not.']\n"
     ]
    }
   ],
   "source": [
    "pattern = 'they are not.$'\n",
    "print(re.findall(pattern, text))"
   ]
  },
  {
   "cell_type": "markdown",
   "metadata": {},
   "source": [
    "You might recognize the | meta-character as the OR operator from when we studied conditional statements. It functions the same way in regular expressions, matching a character or another character. "
   ]
  },
  {
   "cell_type": "code",
   "execution_count": 12,
   "metadata": {},
   "outputs": [
    {
     "name": "stdout",
     "output_type": "stream",
     "text": [
      "['boss', 'TPS', 'reports']\n"
     ]
    }
   ],
   "source": [
    "pattern = 'boss|TPS|reports'\n",
    "print(re.findall(pattern, text))"
   ]
  },
  {
   "cell_type": "markdown",
   "metadata": {},
   "source": [
    "# Quantifiers\n",
    "\n",
    "The next set of meta-characters are know as quantifiers because they help you repeat patterns a certain number of times.\n",
    "\n",
    "    *: Matches previous character 0 or more times\n",
    "    +: Matches previous character 1 or more times\n",
    "    ?: Matches previous character 0 or 1 times (optional)\n",
    "    {}: Matches previous characters however many times specified within:\n",
    "        {n} : Exactly n times\n",
    "        {n,} : At least n times\n",
    "        {n,m} : Between n and m times\n",
    "\n",
    "Let's take a look at how these behave when we write regular expressions that include them. In the example below, we use the * quantifier to match zero or more a's between the letters c and t. "
   ]
  },
  {
   "cell_type": "code",
   "execution_count": 13,
   "metadata": {},
   "outputs": [
    {
     "name": "stdout",
     "output_type": "stream",
     "text": [
      "['cat', 'ct', 'cat', 'ct', 'ct']\n"
     ]
    }
   ],
   "source": [
    "text = \"The complicit cat interacted with the other cats exactly as we expected.\"\n",
    "\n",
    "pattern = \"ca*t\"\n",
    "print(re.findall(pattern, text))"
   ]
  },
  {
   "cell_type": "markdown",
   "metadata": {},
   "source": [
    "You will notice that the results include matches for cat where the a appears once as well as matches for ct where the a appears zero times. It does not match the cit in the word complicit because there is no a occurring zero or more times.\n",
    "\n",
    "The + quantifier works similarly, but it returns matches where the previous character appears 1 or more times. In the example below, you'll see that it does not match ct if we swap out the * for a +. "
   ]
  },
  {
   "cell_type": "code",
   "execution_count": 14,
   "metadata": {},
   "outputs": [
    {
     "name": "stdout",
     "output_type": "stream",
     "text": [
      "['cat', 'cat']\n"
     ]
    }
   ],
   "source": [
    "text = \"The complicit cat interacted with the other cats exactly as we expected.\"\n",
    "\n",
    "pattern = \"ca+t\"\n",
    "print(re.findall(pattern, text))"
   ]
  },
  {
   "cell_type": "markdown",
   "metadata": {},
   "source": [
    "The ? quantifier can be used when there is are instances where an optional character is sometimes included. In the example below, we place the ? after the u in our pattern so that we can match both spellings of the word."
   ]
  },
  {
   "cell_type": "code",
   "execution_count": 15,
   "metadata": {},
   "outputs": [
    {
     "name": "stdout",
     "output_type": "stream",
     "text": [
      "['color', 'colour']\n"
     ]
    }
   ],
   "source": [
    "text = \"Is the correct spelling color or colour?\"\n",
    "\n",
    "pattern = \"colou?r\"\n",
    "print(re.findall(pattern, text))"
   ]
  },
  {
   "cell_type": "markdown",
   "metadata": {},
   "source": [
    "If things are a little more complex and we need to deal with numbers besides 0's and 1's, we can use the curly brackets ( {}) to create custom quantifiers that repeat a character n times, at least n times, or a number of times between n and m.\n",
    "\n",
    "In the example below, we are using the curly brackets with a 2 inside to match instances in the text where an a is followed by a w two times. "
   ]
  },
  {
   "cell_type": "code",
   "execution_count": 16,
   "metadata": {},
   "outputs": [
    {
     "name": "stdout",
     "output_type": "stream",
     "text": [
      "['aww', 'aww', 'aww', 'aww']\n"
     ]
    }
   ],
   "source": [
    "text = \"Let's see how we can match the following: aw, aww, awww, awwww, awwwww\"\n",
    "\n",
    "pattern = \"aw{2}\"\n",
    "print(re.findall(pattern, text))"
   ]
  },
  {
   "cell_type": "markdown",
   "metadata": {},
   "source": [
    "If we want to return instances where the * appears at least two times, we can place a comma after the 2."
   ]
  },
  {
   "cell_type": "code",
   "execution_count": 17,
   "metadata": {},
   "outputs": [
    {
     "name": "stdout",
     "output_type": "stream",
     "text": [
      "['aww', 'awww', 'awwww', 'awwwww']\n"
     ]
    }
   ],
   "source": [
    "text = \"Let's see how we can match the following: aw, aww, awww, awwww, awwwww\"\n",
    "\n",
    "pattern = \"aw{2,}\"\n",
    "print(re.findall(pattern, text))"
   ]
  },
  {
   "cell_type": "markdown",
   "metadata": {},
   "source": [
    "As you can see, this returns the full text strings where the w's appear 2, 3, 4, and 5 times after the a.\n",
    "\n",
    "If we would like to cap the number of w's returned at 4, we can add the number 4 after the comma. It will still match the same four results as in the previous example, but it will only include up to four w's in the results even if the string had five. "
   ]
  },
  {
   "cell_type": "code",
   "execution_count": 18,
   "metadata": {},
   "outputs": [
    {
     "name": "stdout",
     "output_type": "stream",
     "text": [
      "['aww', 'awww', 'awwww', 'awwww']\n"
     ]
    }
   ],
   "source": [
    "text = \"Let's see how we can match the following: aw, aww, awww, awwww, awwwww\"\n",
    "\n",
    "pattern = \"aw{2,4}\"\n",
    "print(re.findall(pattern, text))"
   ]
  },
  {
   "cell_type": "markdown",
   "metadata": {},
   "source": [
    "# Character Classes\n",
    "\n",
    "There is one additional meta-character that we did not cover in the section above, and that is the backslash (). The backslash serves a couple of different purposes in regular expressions. It allows you to escape any meta-character (if you want to match *, +, or { characters for example), and it is also used to designate character classes. Character classes are like short-hand for longer patterns that are frequently used. Below is a list of the most commonly used ones and what they match.\n",
    "\n",
    "    \\w: Any alphanumeric character.\n",
    "    \\W: Any non-alphanumeric character.\n",
    "    \\d: Any numeric character.\n",
    "    \\D: Any non-numeric character.\n",
    "    \\s: Any whitespace characters.\n",
    "    \\S: Any non-whitespace characters.\n",
    "\n",
    "As mentioned previously, these serve as short-hand for longer patterns. For example, the \\w character class returns matches for any alphanumeric character. To do this without the /w character class, you would have to put the following set together: [a-zA-Z0-9_]. Let's take a look at how useful these character classes can be when incorporated into our regular expressions. "
   ]
  },
  {
   "cell_type": "code",
   "execution_count": 19,
   "metadata": {},
   "outputs": [
    {
     "name": "stdout",
     "output_type": "stream",
     "text": [
      "['T', 'h', '1', 's', 'i', 's', 'g', 'o', 'i', 'n', 'g', 't', 'o', '_', 'b', 'e', 'a', 'w', 'e', 'i', 'r', 'd', 's', 'e', 'n', 't', 'e', 'n', 'c', 'e', 'w', 'i', 't', 'h', 'b', 'u', 'n', 'c', 'h', 'o', 'f', 't', 'u', 'f', 'f', 'i', 'n', 'i', 't', '3']\n"
     ]
    }
   ],
   "source": [
    "text = \"Th1s is going to_be a weird sentence with @ bunch-of-$tuff in it <3.\"\n",
    "\n",
    "pattern = '\\w'\n",
    "print(re.findall(pattern, text))"
   ]
  },
  {
   "cell_type": "markdown",
   "metadata": {},
   "source": [
    "This returned all the alphanumeric characters in our text. If we wanted to return all the non-alphanumeric characters, we could use the /W character class instead. "
   ]
  },
  {
   "cell_type": "code",
   "execution_count": 20,
   "metadata": {},
   "outputs": [
    {
     "name": "stdout",
     "output_type": "stream",
     "text": [
      "[' ', ' ', ' ', ' ', ' ', ' ', ' ', ' ', '@', ' ', '-', '-', '$', ' ', ' ', ' ', '<', '.']\n"
     ]
    }
   ],
   "source": [
    "pattern = '\\W'\n",
    "print(re.findall(pattern, text))"
   ]
  },
  {
   "cell_type": "markdown",
   "metadata": {},
   "source": [
    "If we wanted only the numeric characters, we could use the /d character class as follows. "
   ]
  },
  {
   "cell_type": "code",
   "execution_count": 21,
   "metadata": {},
   "outputs": [
    {
     "name": "stdout",
     "output_type": "stream",
     "text": [
      "['1', '3']\n"
     ]
    }
   ],
   "source": [
    "pattern = '\\d'\n",
    "print(re.findall(pattern, text))"
   ]
  },
  {
   "cell_type": "markdown",
   "metadata": {},
   "source": [
    "What about if we wanted to match everything but numeric characters? We could use the \\D character class to do that. "
   ]
  },
  {
   "cell_type": "code",
   "execution_count": 22,
   "metadata": {},
   "outputs": [
    {
     "name": "stdout",
     "output_type": "stream",
     "text": [
      "['T', 'h', 's', ' ', 'i', 's', ' ', 'g', 'o', 'i', 'n', 'g', ' ', 't', 'o', '_', 'b', 'e', ' ', 'a', ' ', 'w', 'e', 'i', 'r', 'd', ' ', 's', 'e', 'n', 't', 'e', 'n', 'c', 'e', ' ', 'w', 'i', 't', 'h', ' ', '@', ' ', 'b', 'u', 'n', 'c', 'h', '-', 'o', 'f', '-', '$', 't', 'u', 'f', 'f', ' ', 'i', 'n', ' ', 'i', 't', ' ', '<', '.']\n"
     ]
    }
   ],
   "source": [
    "pattern = '\\D'\n",
    "print(re.findall(pattern, text))"
   ]
  },
  {
   "cell_type": "markdown",
   "metadata": {},
   "source": [
    "We could do the same thing for whitespace and non-whitespace characters using the /s and /S character classes respectively. Give those a try on your own and see what gets returned.\n",
    "\n",
    "Writing More Complex Regular Expressions\n",
    "\n",
    "So far in this lesson, we have looked at the uses of regular expression components and the results they retrieve in isolation. This is useful, but often times you will need to combine various components into more complex regular expressions to extract the information you need to extract. In this section, we will look at several examples that combine these components to retrieve more useful information than just characters.\n",
    "\n",
    "\n",
    "\n",
    "# Extracting Words from a Text\n",
    "\n",
    "Often the information we need to extract from text does not consist of individual characters but of words or phrases that match some criteria communicated in the form of a regular expression. For example, we could use the following pattern to extract a list of all the words (all sequences of alphanumeric characters) in our text."
   ]
  },
  {
   "cell_type": "code",
   "execution_count": 23,
   "metadata": {},
   "outputs": [
    {
     "name": "stdout",
     "output_type": "stream",
     "text": [
      "['If', 'you', 'tell', 'the', 'truth', 'you', 'don', 't', 'have', 'to', 'remember', 'anything']\n"
     ]
    }
   ],
   "source": [
    "text = \"If you tell the truth, you don't have to remember anything.\"\n",
    "\n",
    "pattern = '\\w+'\n",
    "print(re.findall(pattern, text))"
   ]
  },
  {
   "cell_type": "markdown",
   "metadata": {},
   "source": [
    "In the example above, we used a character class ( \\w) followed by a + to return alphanumeric character sequences of a length greater than or equal to 1.\n",
    "\n",
    "When working with text, there is often a need to get remove words that are not meaningful. One way to define that would be based on word length. For example, most words that are three letters or less are very common (a, be, and, the, you, etc.) and do not add much value. We can remove such words by replacing the + in the previous example with a {4,}. "
   ]
  },
  {
   "cell_type": "code",
   "execution_count": 24,
   "metadata": {},
   "outputs": [
    {
     "name": "stdout",
     "output_type": "stream",
     "text": [
      "['tell', 'truth', 'have', 'remember', 'anything']\n"
     ]
    }
   ],
   "source": [
    "pattern = '\\w{4,}'\n",
    "print(re.findall(pattern, text))"
   ]
  },
  {
   "cell_type": "markdown",
   "metadata": {},
   "source": [
    "This removes some of the noise and allows us focus on words that have the potential to be more useful to any analysis we are looking to perform.\n",
    "\n",
    "\n",
    "# Extracting Capitalized Words from Text\n",
    "\n",
    "It is also often useful to extract proper nouns from text. This could tell you what people, places, and things the text is about. Proper nouns start with capital letters, so we could use that as part of our regular expression to extract them."
   ]
  },
  {
   "cell_type": "code",
   "execution_count": 25,
   "metadata": {},
   "outputs": [
    {
     "name": "stdout",
     "output_type": "stream",
     "text": [
      "['Terra', 'Power', 'Bill', 'Gates', 'China', 'Trump']\n"
     ]
    }
   ],
   "source": [
    "text = \"TerraPower, a nuclear-energy company founded by Bill Gates, is unlikely to follow through on building a demonstration reactor in China, due largely to the Trump administration’s crackdown on the country.\"\n",
    "\n",
    "pattern = '[A-Z][a-z]+'\n",
    "print(re.findall(pattern, text))"
   ]
  },
  {
   "cell_type": "markdown",
   "metadata": {},
   "source": [
    "Grouping\n",
    "\n",
    "In the example above, the pattern we are defining is looking for an uppercase letter followed by a series of one or more lowercase letters. This gives us the individual capitalized words, which is good, but ideally, TerraPower and Bill Gates should be grouped together. It turns out that we can improve upon this by using groups. Grouping is done by enclosing regular expression components that belong together within parentheses, and it allows us to create more complex regular expressions like the kind we would need to group consecutively capitalized words together. "
   ]
  },
  {
   "cell_type": "code",
   "execution_count": 26,
   "metadata": {},
   "outputs": [
    {
     "name": "stdout",
     "output_type": "stream",
     "text": [
      "[('TerraPower', ''), ('Bill Gates', ''), ('', 'China'), ('', 'Trump')]\n"
     ]
    }
   ],
   "source": [
    "pattern = '([A-Z][a-z]+ ?[A-Z][a-z]+)|([A-Z][a-z]+)'\n",
    "print(re.findall(pattern, text))"
   ]
  },
  {
   "cell_type": "markdown",
   "metadata": {},
   "source": [
    "In this example, we have two groups in our regular expression. The first matches a capitalized first letter followed by a series of lowercase characters, an optional space, and then another capitalized first letter and series of lowercase characters (essentially two capitalized words optionally separated by a space). The second expression simply matches a single capitalized word, and the OR operator in between them specifies that one or the other should be returned if matched. You can see that the results are formatted as a list of tuples where the result is positioned as the first element if it matches the first grouped expression and the second element if it matches the second grouped expression.\n",
    "\n",
    "If you didn't care for the nested structure and just wanted a single neat list with the results, you could use a list comprehension to obtain that as follows."
   ]
  },
  {
   "cell_type": "code",
   "execution_count": 27,
   "metadata": {},
   "outputs": [
    {
     "data": {
      "text/plain": [
       "['TerraPower', 'Bill Gates', 'China', 'Trump']"
      ]
     },
     "execution_count": 27,
     "metadata": {},
     "output_type": "execute_result"
    }
   ],
   "source": [
    "results = [i for j in re.findall(pattern, text) for i in j if i != '']\n",
    "results"
   ]
  },
  {
   "cell_type": "markdown",
   "metadata": {},
   "source": [
    "You can see that this gets us part of the way toward what is known as Named Entity Recognition, which involves the extraction of proper nouns (names of people, places, things, etc.) from a body of text. NER is much more complex however and often involves both tagging words with their parts-of-speech and also some machine learning. This is beyond the scope of this lesson, but we will provide some coverage in a future lesson.\n",
    "\n",
    "\n",
    "# Extracting Quotes from Text\n",
    "\n",
    "Another useful application of regular expressions is extracting quotes from text. It is relatively straightforward to do this. We simply need to match all characters within a set of quotes in the text. Recall that we can use a dot (.) to retrieve any character except a newline (\\n)."
   ]
  },
  {
   "cell_type": "code",
   "execution_count": 28,
   "metadata": {},
   "outputs": [
    {
     "data": {
      "text/plain": [
       "['\"We’re talking flunk-your-classes, can’t-find-a-job, live-in-a-dark-hole kinds of problems, with depression, anxiety and sometimes suicidal thoughts part of the mix,\"']"
      ]
     },
     "execution_count": 28,
     "metadata": {},
     "output_type": "execute_result"
    }
   ],
   "source": [
    "text = \"\"\"\n",
    "For eight young men the AP tracked down in Seattle, tech obsession has become something much darker, getting in the way of their normal lives.\n",
    "\n",
    "\"We’re talking flunk-your-classes, can’t-find-a-job, live-in-a-dark-hole kinds of problems, with depression, anxiety and sometimes suicidal thoughts part of the mix,\" the AP's Martha Irvine reports.\n",
    "\"\"\"\n",
    "\n",
    "pattern = '\".*\"'\n",
    "re.findall(pattern, text)"
   ]
  },
  {
   "cell_type": "markdown",
   "metadata": {},
   "source": [
    "The regex pattern above looks for double quotes in the text and then returns all the characters ( .) in between them where the series of characters can be of 0 or greater length ( *). The result is a list containing the quoted portion of our text. One important thing to note here is that regular expression quantifiers are greedy. This means they match as much text as they possibly can while allowing the entire pattern to match successfully.\n",
    "\n",
    "\n",
    "# Extracting Formatted Numbers\n",
    "\n",
    "The last set example we will look at in this lesson shows how regular expressions can be used for extracting formatted numbers from a body of text. Formatted numbers can include things such as phone numbers, social security numbers, or certain types of account numbers.\n",
    "\n",
    "For example, let's say you had the following text containing phone numbers for several airlines and wanted to extract only the phone numbers."
   ]
  },
  {
   "cell_type": "code",
   "execution_count": 29,
   "metadata": {},
   "outputs": [],
   "source": [
    "text = \"\"\"\n",
    "Aeromexico 800-237-6639\n",
    "Air Canada 888-247-2262\n",
    "Air Canada Rouge 888-247-2262\n",
    "Air Creebec 800-567-6567\n",
    "Air Inuit 800-361-2965\n",
    "Air North 800-661-0407\n",
    "Air Tindi 888-545-6794\n",
    "Air Transat 866-847-1112\n",
    "Alaska Airlines 800-426-0333, 866-516-1685\n",
    "Allegiant Air 702-505-8888\n",
    "American Airlines 800-433-7300\n",
    "Bearskin Airlines 807-577-1141\n",
    "Buffalo Airways 867-874-3333\n",
    "Calm Air 800-839-2256\n",
    "Cape Air 800-227-3247\n",
    "Delta Air Lines 800-455-2720\n",
    "First Air 800-267-1247\n",
    "Flair Airlines 204-888-2665\n",
    "Frontier Airlines 801-401-9000\n",
    "Harbor Air 800-665-0212\n",
    "Hawaiian Airlines 877-426-4537\n",
    "Horizon Air 800-547-9308\n",
    "InterJet 866-285-8307\n",
    "Island Air 800-388-1105\n",
    "JetBlue 800-538-2583\n",
    "Porter Airlines 888-619-8622\n",
    "Silver Airways 801-401-9100\n",
    "Southwest Airlines 800-435-9792\n",
    "Spirit Airlines 801-401-2222\n",
    "Sun Country Airlines 800-359-6786\n",
    "Sunwing 877-SUN-WING\n",
    "Thunder Airlines 800-803-9943\n",
    "United Airlines 800-864-8331\n",
    "Virgin America 877-359-8474\n",
    "VivaAerobus 888-935-9848 \n",
    "Volaris 855-865-2747\n",
    "WestJet Airlines 888-937-8538\n",
    "\"\"\""
   ]
  },
  {
   "cell_type": "markdown",
   "metadata": {},
   "source": [
    "You could do this easily by writing a regular expression consisting of /d+ character classes separated by hyphens. "
   ]
  },
  {
   "cell_type": "code",
   "execution_count": 30,
   "metadata": {},
   "outputs": [
    {
     "data": {
      "text/plain": [
       "['800-237-6639',\n",
       " '888-247-2262',\n",
       " '888-247-2262',\n",
       " '800-567-6567',\n",
       " '800-361-2965',\n",
       " '800-661-0407',\n",
       " '888-545-6794',\n",
       " '866-847-1112',\n",
       " '800-426-0333',\n",
       " '866-516-1685',\n",
       " '702-505-8888',\n",
       " '800-433-7300',\n",
       " '807-577-1141',\n",
       " '867-874-3333',\n",
       " '800-839-2256',\n",
       " '800-227-3247',\n",
       " '800-455-2720',\n",
       " '800-267-1247',\n",
       " '204-888-2665',\n",
       " '801-401-9000',\n",
       " '800-665-0212',\n",
       " '877-426-4537',\n",
       " '800-547-9308',\n",
       " '866-285-8307',\n",
       " '800-388-1105',\n",
       " '800-538-2583',\n",
       " '888-619-8622',\n",
       " '801-401-9100',\n",
       " '800-435-9792',\n",
       " '801-401-2222',\n",
       " '800-359-6786',\n",
       " '800-803-9943',\n",
       " '800-864-8331',\n",
       " '877-359-8474',\n",
       " '888-935-9848',\n",
       " '855-865-2747',\n",
       " '888-937-8538']"
      ]
     },
     "execution_count": 30,
     "metadata": {},
     "output_type": "execute_result"
    }
   ],
   "source": [
    "pattern = '\\d+-\\d+-\\d+'\n",
    "re.findall(pattern, text)"
   ]
  },
  {
   "cell_type": "markdown",
   "metadata": {},
   "source": [
    "These examples highlight just some of the scenarios where regular expressions really come in handy."
   ]
  },
  {
   "cell_type": "code",
   "execution_count": null,
   "metadata": {},
   "outputs": [],
   "source": []
  }
 ],
 "metadata": {
  "kernelspec": {
   "display_name": "Python 3",
   "language": "python",
   "name": "python3"
  },
  "language_info": {
   "codemirror_mode": {
    "name": "ipython",
    "version": 3
   },
   "file_extension": ".py",
   "mimetype": "text/x-python",
   "name": "python",
   "nbconvert_exporter": "python",
   "pygments_lexer": "ipython3",
   "version": "3.7.6"
  }
 },
 "nbformat": 4,
 "nbformat_minor": 2
}
