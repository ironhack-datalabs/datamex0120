{
 "cells": [
  {
   "cell_type": "markdown",
   "metadata": {},
   "source": [
    "# Pandas Project ( Cleaning Sharks )"
   ]
  },
  {
   "cell_type": "markdown",
   "metadata": {},
   "source": [
    "## Steps:\n",
    "1. Check out the Data\n",
    "2. Drop duplicate rows\n",
    "3. Rename columns\n",
    "4. Drop rows with missing main information\n",
    "5. Fill missing information from Date on Year and vc.\n",
    "6. Fill Country, Area or location from info from other rows.\n",
    "7. Categorize activities\n",
    "8. Categorie injury\n",
    "9. Clasify into main and secundaries. If after all that there are rows missing main data -> drop those rows.\n",
    "\n",
    "\n",
    "Methods I will probably need:\n",
    "\n",
    "* df.fillna(0, inplace=True)\n",
    "* df.isnull()\n",
    "* df.drop_duplicates()\n",
    "* df.reset_index(inplace=True)\n",
    "* df.str.replace()\n",
    "* df.c.value_counts()\n",
    "\n"
   ]
  },
  {
   "cell_type": "code",
   "execution_count": 1,
   "metadata": {},
   "outputs": [],
   "source": [
    "import pandas as pd\n",
    "import numpy as np\n",
    "import re"
   ]
  },
  {
   "cell_type": "code",
   "execution_count": 2,
   "metadata": {},
   "outputs": [],
   "source": [
    "sharks = pd.read_csv('attacks.csv.zip', encoding='latin-1')"
   ]
  },
  {
   "cell_type": "code",
   "execution_count": 3,
   "metadata": {},
   "outputs": [
    {
     "data": {
      "text/html": [
       "<div>\n",
       "<style scoped>\n",
       "    .dataframe tbody tr th:only-of-type {\n",
       "        vertical-align: middle;\n",
       "    }\n",
       "\n",
       "    .dataframe tbody tr th {\n",
       "        vertical-align: top;\n",
       "    }\n",
       "\n",
       "    .dataframe thead th {\n",
       "        text-align: right;\n",
       "    }\n",
       "</style>\n",
       "<table border=\"1\" class=\"dataframe\">\n",
       "  <thead>\n",
       "    <tr style=\"text-align: right;\">\n",
       "      <th></th>\n",
       "      <th>Case Number</th>\n",
       "      <th>Date</th>\n",
       "      <th>Year</th>\n",
       "      <th>Type</th>\n",
       "      <th>Country</th>\n",
       "      <th>Area</th>\n",
       "      <th>Location</th>\n",
       "      <th>Activity</th>\n",
       "      <th>Name</th>\n",
       "      <th>Sex</th>\n",
       "      <th>...</th>\n",
       "      <th>Species</th>\n",
       "      <th>Investigator or Source</th>\n",
       "      <th>pdf</th>\n",
       "      <th>href formula</th>\n",
       "      <th>href</th>\n",
       "      <th>Case Number.1</th>\n",
       "      <th>Case Number.2</th>\n",
       "      <th>original order</th>\n",
       "      <th>Unnamed: 22</th>\n",
       "      <th>Unnamed: 23</th>\n",
       "    </tr>\n",
       "  </thead>\n",
       "  <tbody>\n",
       "    <tr>\n",
       "      <th>0</th>\n",
       "      <td>2018.06.25</td>\n",
       "      <td>25-Jun-2018</td>\n",
       "      <td>2018.0</td>\n",
       "      <td>Boating</td>\n",
       "      <td>USA</td>\n",
       "      <td>California</td>\n",
       "      <td>Oceanside, San Diego County</td>\n",
       "      <td>Paddling</td>\n",
       "      <td>Julie Wolfe</td>\n",
       "      <td>F</td>\n",
       "      <td>...</td>\n",
       "      <td>White shark</td>\n",
       "      <td>R. Collier, GSAF</td>\n",
       "      <td>2018.06.25-Wolfe.pdf</td>\n",
       "      <td>http://sharkattackfile.net/spreadsheets/pdf_di...</td>\n",
       "      <td>http://sharkattackfile.net/spreadsheets/pdf_di...</td>\n",
       "      <td>2018.06.25</td>\n",
       "      <td>2018.06.25</td>\n",
       "      <td>6303.0</td>\n",
       "      <td>NaN</td>\n",
       "      <td>NaN</td>\n",
       "    </tr>\n",
       "    <tr>\n",
       "      <th>1</th>\n",
       "      <td>2018.06.18</td>\n",
       "      <td>18-Jun-2018</td>\n",
       "      <td>2018.0</td>\n",
       "      <td>Unprovoked</td>\n",
       "      <td>USA</td>\n",
       "      <td>Georgia</td>\n",
       "      <td>St. Simon Island, Glynn County</td>\n",
       "      <td>Standing</td>\n",
       "      <td>Adyson McNeely</td>\n",
       "      <td>F</td>\n",
       "      <td>...</td>\n",
       "      <td>NaN</td>\n",
       "      <td>K.McMurray, TrackingSharks.com</td>\n",
       "      <td>2018.06.18-McNeely.pdf</td>\n",
       "      <td>http://sharkattackfile.net/spreadsheets/pdf_di...</td>\n",
       "      <td>http://sharkattackfile.net/spreadsheets/pdf_di...</td>\n",
       "      <td>2018.06.18</td>\n",
       "      <td>2018.06.18</td>\n",
       "      <td>6302.0</td>\n",
       "      <td>NaN</td>\n",
       "      <td>NaN</td>\n",
       "    </tr>\n",
       "    <tr>\n",
       "      <th>2</th>\n",
       "      <td>2018.06.09</td>\n",
       "      <td>09-Jun-2018</td>\n",
       "      <td>2018.0</td>\n",
       "      <td>Invalid</td>\n",
       "      <td>USA</td>\n",
       "      <td>Hawaii</td>\n",
       "      <td>Habush, Oahu</td>\n",
       "      <td>Surfing</td>\n",
       "      <td>John Denges</td>\n",
       "      <td>M</td>\n",
       "      <td>...</td>\n",
       "      <td>NaN</td>\n",
       "      <td>K.McMurray, TrackingSharks.com</td>\n",
       "      <td>2018.06.09-Denges.pdf</td>\n",
       "      <td>http://sharkattackfile.net/spreadsheets/pdf_di...</td>\n",
       "      <td>http://sharkattackfile.net/spreadsheets/pdf_di...</td>\n",
       "      <td>2018.06.09</td>\n",
       "      <td>2018.06.09</td>\n",
       "      <td>6301.0</td>\n",
       "      <td>NaN</td>\n",
       "      <td>NaN</td>\n",
       "    </tr>\n",
       "    <tr>\n",
       "      <th>3</th>\n",
       "      <td>2018.06.08</td>\n",
       "      <td>08-Jun-2018</td>\n",
       "      <td>2018.0</td>\n",
       "      <td>Unprovoked</td>\n",
       "      <td>AUSTRALIA</td>\n",
       "      <td>New South Wales</td>\n",
       "      <td>Arrawarra Headland</td>\n",
       "      <td>Surfing</td>\n",
       "      <td>male</td>\n",
       "      <td>M</td>\n",
       "      <td>...</td>\n",
       "      <td>2 m shark</td>\n",
       "      <td>B. Myatt, GSAF</td>\n",
       "      <td>2018.06.08-Arrawarra.pdf</td>\n",
       "      <td>http://sharkattackfile.net/spreadsheets/pdf_di...</td>\n",
       "      <td>http://sharkattackfile.net/spreadsheets/pdf_di...</td>\n",
       "      <td>2018.06.08</td>\n",
       "      <td>2018.06.08</td>\n",
       "      <td>6300.0</td>\n",
       "      <td>NaN</td>\n",
       "      <td>NaN</td>\n",
       "    </tr>\n",
       "    <tr>\n",
       "      <th>4</th>\n",
       "      <td>2018.06.04</td>\n",
       "      <td>04-Jun-2018</td>\n",
       "      <td>2018.0</td>\n",
       "      <td>Provoked</td>\n",
       "      <td>MEXICO</td>\n",
       "      <td>Colima</td>\n",
       "      <td>La Ticla</td>\n",
       "      <td>Free diving</td>\n",
       "      <td>Gustavo Ramos</td>\n",
       "      <td>M</td>\n",
       "      <td>...</td>\n",
       "      <td>Tiger shark, 3m</td>\n",
       "      <td>A .Kipper</td>\n",
       "      <td>2018.06.04-Ramos.pdf</td>\n",
       "      <td>http://sharkattackfile.net/spreadsheets/pdf_di...</td>\n",
       "      <td>http://sharkattackfile.net/spreadsheets/pdf_di...</td>\n",
       "      <td>2018.06.04</td>\n",
       "      <td>2018.06.04</td>\n",
       "      <td>6299.0</td>\n",
       "      <td>NaN</td>\n",
       "      <td>NaN</td>\n",
       "    </tr>\n",
       "  </tbody>\n",
       "</table>\n",
       "<p>5 rows × 24 columns</p>\n",
       "</div>"
      ],
      "text/plain": [
       "  Case Number         Date    Year        Type    Country             Area  \\\n",
       "0  2018.06.25  25-Jun-2018  2018.0     Boating        USA       California   \n",
       "1  2018.06.18  18-Jun-2018  2018.0  Unprovoked        USA          Georgia   \n",
       "2  2018.06.09  09-Jun-2018  2018.0     Invalid        USA           Hawaii   \n",
       "3  2018.06.08  08-Jun-2018  2018.0  Unprovoked  AUSTRALIA  New South Wales   \n",
       "4  2018.06.04  04-Jun-2018  2018.0    Provoked     MEXICO           Colima   \n",
       "\n",
       "                         Location     Activity             Name Sex   ...  \\\n",
       "0     Oceanside, San Diego County     Paddling      Julie Wolfe    F  ...   \n",
       "1  St. Simon Island, Glynn County     Standing  Adyson McNeely     F  ...   \n",
       "2                    Habush, Oahu      Surfing      John Denges    M  ...   \n",
       "3              Arrawarra Headland      Surfing             male    M  ...   \n",
       "4                        La Ticla  Free diving   Gustavo Ramos     M  ...   \n",
       "\n",
       "          Species           Investigator or Source                       pdf  \\\n",
       "0      White shark                R. Collier, GSAF      2018.06.25-Wolfe.pdf   \n",
       "1              NaN  K.McMurray, TrackingSharks.com    2018.06.18-McNeely.pdf   \n",
       "2              NaN  K.McMurray, TrackingSharks.com     2018.06.09-Denges.pdf   \n",
       "3        2 m shark                  B. Myatt, GSAF  2018.06.08-Arrawarra.pdf   \n",
       "4  Tiger shark, 3m                       A .Kipper      2018.06.04-Ramos.pdf   \n",
       "\n",
       "                                        href formula  \\\n",
       "0  http://sharkattackfile.net/spreadsheets/pdf_di...   \n",
       "1  http://sharkattackfile.net/spreadsheets/pdf_di...   \n",
       "2  http://sharkattackfile.net/spreadsheets/pdf_di...   \n",
       "3  http://sharkattackfile.net/spreadsheets/pdf_di...   \n",
       "4  http://sharkattackfile.net/spreadsheets/pdf_di...   \n",
       "\n",
       "                                                href Case Number.1  \\\n",
       "0  http://sharkattackfile.net/spreadsheets/pdf_di...    2018.06.25   \n",
       "1  http://sharkattackfile.net/spreadsheets/pdf_di...    2018.06.18   \n",
       "2  http://sharkattackfile.net/spreadsheets/pdf_di...    2018.06.09   \n",
       "3  http://sharkattackfile.net/spreadsheets/pdf_di...    2018.06.08   \n",
       "4  http://sharkattackfile.net/spreadsheets/pdf_di...    2018.06.04   \n",
       "\n",
       "  Case Number.2 original order Unnamed: 22 Unnamed: 23  \n",
       "0    2018.06.25         6303.0         NaN         NaN  \n",
       "1    2018.06.18         6302.0         NaN         NaN  \n",
       "2    2018.06.09         6301.0         NaN         NaN  \n",
       "3    2018.06.08         6300.0         NaN         NaN  \n",
       "4    2018.06.04         6299.0         NaN         NaN  \n",
       "\n",
       "[5 rows x 24 columns]"
      ]
     },
     "execution_count": 3,
     "metadata": {},
     "output_type": "execute_result"
    }
   ],
   "source": [
    "sharks.head()"
   ]
  },
  {
   "cell_type": "code",
   "execution_count": 4,
   "metadata": {},
   "outputs": [
    {
     "name": "stdout",
     "output_type": "stream",
     "text": [
      "Case Number               17021\n",
      "Date                      19421\n",
      "Year                      19423\n",
      "Type                      19425\n",
      "Country                   19471\n",
      "Area                      19876\n",
      "Location                  19961\n",
      "Activity                  19965\n",
      "Name                      19631\n",
      "Sex                       19986\n",
      "Age                       22252\n",
      "Injury                    19449\n",
      "Fatal (Y/N)               19960\n",
      "Time                      22775\n",
      "Species                   22259\n",
      "Investigator or Source    19438\n",
      "pdf                       19421\n",
      "href formula              19422\n",
      "href                      19421\n",
      "Case Number.1             19421\n",
      "Case Number.2             19421\n",
      "original order            19414\n",
      "Unnamed: 22               25722\n",
      "Unnamed: 23               25721\n",
      "dtype: int64\n",
      "(25723, 24)\n"
     ]
    }
   ],
   "source": [
    "# Checking for NaNs in every column and shape of dataframe:\n",
    "\n",
    "print(sharks.isna().sum())\n",
    "print(sharks.shape)"
   ]
  },
  {
   "cell_type": "code",
   "execution_count": 5,
   "metadata": {},
   "outputs": [
    {
     "data": {
      "text/plain": [
       "Case Number                object\n",
       "Date                       object\n",
       "Year                      float64\n",
       "Type                       object\n",
       "Country                    object\n",
       "Area                       object\n",
       "Location                   object\n",
       "Activity                   object\n",
       "Name                       object\n",
       "Sex                        object\n",
       "Age                        object\n",
       "Injury                     object\n",
       "Fatal (Y/N)                object\n",
       "Time                       object\n",
       "Species                    object\n",
       "Investigator or Source     object\n",
       "pdf                        object\n",
       "href formula               object\n",
       "href                       object\n",
       "Case Number.1              object\n",
       "Case Number.2              object\n",
       "original order            float64\n",
       "Unnamed: 22                object\n",
       "Unnamed: 23                object\n",
       "dtype: object"
      ]
     },
     "execution_count": 5,
     "metadata": {},
     "output_type": "execute_result"
    }
   ],
   "source": [
    "sharks.dtypes"
   ]
  },
  {
   "cell_type": "code",
   "execution_count": 6,
   "metadata": {},
   "outputs": [
    {
     "name": "stdout",
     "output_type": "stream",
     "text": [
      "Eliminated Duplicates: 19411\n",
      "(25723, 24)\n",
      "(6312, 24)\n"
     ]
    }
   ],
   "source": [
    "# Eliminate duplicate rows:\n",
    "sharks2 = sharks.drop_duplicates()\n",
    "num_dupl = sharks2.shape[0]-sharks.shape[0]\n",
    "sharks2.reset_index(drop=True, inplace=True)\n",
    "print('Eliminated Duplicates: {}'.format(-num_dupl))\n",
    "print(sharks.shape)\n",
    "print(sharks2.shape)"
   ]
  },
  {
   "cell_type": "code",
   "execution_count": 7,
   "metadata": {},
   "outputs": [
    {
     "data": {
      "text/plain": [
       "Case Number                  2\n",
       "Date                        10\n",
       "Year                        12\n",
       "Type                        14\n",
       "Country                     60\n",
       "Area                       465\n",
       "Location                   550\n",
       "Activity                   554\n",
       "Name                       220\n",
       "Sex                        575\n",
       "Age                       2841\n",
       "Injury                      38\n",
       "Fatal (Y/N)                549\n",
       "Time                      3364\n",
       "Species                   2848\n",
       "Investigator or Source      27\n",
       "pdf                         10\n",
       "href formula                11\n",
       "href                        10\n",
       "Case Number.1               10\n",
       "Case Number.2               10\n",
       "original order               3\n",
       "Unnamed: 22               6311\n",
       "Unnamed: 23               6310\n",
       "dtype: int64"
      ]
     },
     "execution_count": 7,
     "metadata": {},
     "output_type": "execute_result"
    }
   ],
   "source": [
    "sharks2.isna().sum()"
   ]
  },
  {
   "cell_type": "code",
   "execution_count": 8,
   "metadata": {},
   "outputs": [
    {
     "data": {
      "text/plain": [
       "Index(['Case', 'Date', 'Year', 'Type', 'Country', 'Area', 'Location',\n",
       "       'Activity', 'Name', 'Sex', 'Age', 'Injury', 'Fatal', 'Time', 'Species',\n",
       "       'Source', 'pdf', 'href_formula', 'href', 'Case Number.1',\n",
       "       'Case Number.2', 'order', 'Unnamed: 22', 'Unnamed: 23'],\n",
       "      dtype='object')"
      ]
     },
     "execution_count": 8,
     "metadata": {},
     "output_type": "execute_result"
    }
   ],
   "source": [
    "# Renaming Columns\n",
    "\n",
    "sharks2 = sharks2.rename(columns={'Case Number': 'Case', 'Fatal (Y/N)': 'Fatal', 'Species ':'Species',\n",
    "                'Investigator or Source':'Source','href formula':'href_formula', 'Sex ':'Sex',\n",
    "                'original order': 'order'})\n",
    "sharks2.columns"
   ]
  },
  {
   "cell_type": "code",
   "execution_count": 9,
   "metadata": {},
   "outputs": [],
   "source": [
    "# Getting only rows with year, case or date\n",
    "\n",
    "sharks2 = sharks2[sharks2['Date'].notna()]\n",
    "\n",
    "# Filling missing Area with Country\n",
    "# Filling Missing Location With Area\n",
    "\n",
    "sharks2['Area'] = sharks2['Area'].fillna(sharks2['Country'])\n",
    "sharks2['Location'] = sharks2['Location'].fillna(sharks2['Area'])"
   ]
  },
  {
   "cell_type": "code",
   "execution_count": 10,
   "metadata": {},
   "outputs": [],
   "source": [
    "# Replace with Name: UNKNOWN\n",
    "\n",
    "sharks2.Name.value_counts(dropna=False).head(30)\n",
    "\n",
    "sharks2['Name'] = sharks2['Name'].fillna('UNKNOWN')\n",
    "\n",
    "    "
   ]
  },
  {
   "cell_type": "code",
   "execution_count": 11,
   "metadata": {},
   "outputs": [],
   "source": [
    "sharks3 = sharks2.copy()"
   ]
  },
  {
   "cell_type": "code",
   "execution_count": 12,
   "metadata": {},
   "outputs": [
    {
     "data": {
      "text/html": [
       "<div>\n",
       "<style scoped>\n",
       "    .dataframe tbody tr th:only-of-type {\n",
       "        vertical-align: middle;\n",
       "    }\n",
       "\n",
       "    .dataframe tbody tr th {\n",
       "        vertical-align: top;\n",
       "    }\n",
       "\n",
       "    .dataframe thead th {\n",
       "        text-align: right;\n",
       "    }\n",
       "</style>\n",
       "<table border=\"1\" class=\"dataframe\">\n",
       "  <thead>\n",
       "    <tr style=\"text-align: right;\">\n",
       "      <th></th>\n",
       "      <th>Case</th>\n",
       "      <th>Date</th>\n",
       "      <th>Year</th>\n",
       "      <th>Type</th>\n",
       "      <th>Country</th>\n",
       "      <th>Area</th>\n",
       "      <th>Location</th>\n",
       "      <th>Activity</th>\n",
       "      <th>Name</th>\n",
       "      <th>Sex</th>\n",
       "      <th>...</th>\n",
       "      <th>Species</th>\n",
       "      <th>Source</th>\n",
       "      <th>pdf</th>\n",
       "      <th>href_formula</th>\n",
       "      <th>href</th>\n",
       "      <th>Case Number.1</th>\n",
       "      <th>Case Number.2</th>\n",
       "      <th>order</th>\n",
       "      <th>Unnamed: 22</th>\n",
       "      <th>Unnamed: 23</th>\n",
       "    </tr>\n",
       "  </thead>\n",
       "  <tbody>\n",
       "    <tr>\n",
       "      <th>0</th>\n",
       "      <td>2018.06.25</td>\n",
       "      <td>25-Jun-2018</td>\n",
       "      <td>2018.0</td>\n",
       "      <td>Boating</td>\n",
       "      <td>USA</td>\n",
       "      <td>California</td>\n",
       "      <td>Oceanside, San Diego County</td>\n",
       "      <td>Paddling</td>\n",
       "      <td>Julie Wolfe</td>\n",
       "      <td>F</td>\n",
       "      <td>...</td>\n",
       "      <td>White shark</td>\n",
       "      <td>R. Collier, GSAF</td>\n",
       "      <td>2018.06.25-Wolfe.pdf</td>\n",
       "      <td>http://sharkattackfile.net/spreadsheets/pdf_di...</td>\n",
       "      <td>http://sharkattackfile.net/spreadsheets/pdf_di...</td>\n",
       "      <td>2018.06.25</td>\n",
       "      <td>2018.06.25</td>\n",
       "      <td>6303.0</td>\n",
       "      <td>NaN</td>\n",
       "      <td>NaN</td>\n",
       "    </tr>\n",
       "    <tr>\n",
       "      <th>1</th>\n",
       "      <td>2018.06.18</td>\n",
       "      <td>18-Jun-2018</td>\n",
       "      <td>2018.0</td>\n",
       "      <td>Unprovoked</td>\n",
       "      <td>USA</td>\n",
       "      <td>Georgia</td>\n",
       "      <td>St. Simon Island, Glynn County</td>\n",
       "      <td>Standing</td>\n",
       "      <td>Adyson McNeely</td>\n",
       "      <td>F</td>\n",
       "      <td>...</td>\n",
       "      <td>NaN</td>\n",
       "      <td>K.McMurray, TrackingSharks.com</td>\n",
       "      <td>2018.06.18-McNeely.pdf</td>\n",
       "      <td>http://sharkattackfile.net/spreadsheets/pdf_di...</td>\n",
       "      <td>http://sharkattackfile.net/spreadsheets/pdf_di...</td>\n",
       "      <td>2018.06.18</td>\n",
       "      <td>2018.06.18</td>\n",
       "      <td>6302.0</td>\n",
       "      <td>NaN</td>\n",
       "      <td>NaN</td>\n",
       "    </tr>\n",
       "    <tr>\n",
       "      <th>2</th>\n",
       "      <td>2018.06.09</td>\n",
       "      <td>09-Jun-2018</td>\n",
       "      <td>2018.0</td>\n",
       "      <td>Invalid</td>\n",
       "      <td>USA</td>\n",
       "      <td>Hawaii</td>\n",
       "      <td>Habush, Oahu</td>\n",
       "      <td>Surfing</td>\n",
       "      <td>John Denges</td>\n",
       "      <td>M</td>\n",
       "      <td>...</td>\n",
       "      <td>NaN</td>\n",
       "      <td>K.McMurray, TrackingSharks.com</td>\n",
       "      <td>2018.06.09-Denges.pdf</td>\n",
       "      <td>http://sharkattackfile.net/spreadsheets/pdf_di...</td>\n",
       "      <td>http://sharkattackfile.net/spreadsheets/pdf_di...</td>\n",
       "      <td>2018.06.09</td>\n",
       "      <td>2018.06.09</td>\n",
       "      <td>6301.0</td>\n",
       "      <td>NaN</td>\n",
       "      <td>NaN</td>\n",
       "    </tr>\n",
       "    <tr>\n",
       "      <th>3</th>\n",
       "      <td>2018.06.08</td>\n",
       "      <td>08-Jun-2018</td>\n",
       "      <td>2018.0</td>\n",
       "      <td>Unprovoked</td>\n",
       "      <td>AUSTRALIA</td>\n",
       "      <td>New South Wales</td>\n",
       "      <td>Arrawarra Headland</td>\n",
       "      <td>Surfing</td>\n",
       "      <td>male</td>\n",
       "      <td>M</td>\n",
       "      <td>...</td>\n",
       "      <td>2 m shark</td>\n",
       "      <td>B. Myatt, GSAF</td>\n",
       "      <td>2018.06.08-Arrawarra.pdf</td>\n",
       "      <td>http://sharkattackfile.net/spreadsheets/pdf_di...</td>\n",
       "      <td>http://sharkattackfile.net/spreadsheets/pdf_di...</td>\n",
       "      <td>2018.06.08</td>\n",
       "      <td>2018.06.08</td>\n",
       "      <td>6300.0</td>\n",
       "      <td>NaN</td>\n",
       "      <td>NaN</td>\n",
       "    </tr>\n",
       "    <tr>\n",
       "      <th>4</th>\n",
       "      <td>2018.06.04</td>\n",
       "      <td>04-Jun-2018</td>\n",
       "      <td>2018.0</td>\n",
       "      <td>Provoked</td>\n",
       "      <td>MEXICO</td>\n",
       "      <td>Colima</td>\n",
       "      <td>La Ticla</td>\n",
       "      <td>Free diving</td>\n",
       "      <td>Gustavo Ramos</td>\n",
       "      <td>M</td>\n",
       "      <td>...</td>\n",
       "      <td>Tiger shark, 3m</td>\n",
       "      <td>A .Kipper</td>\n",
       "      <td>2018.06.04-Ramos.pdf</td>\n",
       "      <td>http://sharkattackfile.net/spreadsheets/pdf_di...</td>\n",
       "      <td>http://sharkattackfile.net/spreadsheets/pdf_di...</td>\n",
       "      <td>2018.06.04</td>\n",
       "      <td>2018.06.04</td>\n",
       "      <td>6299.0</td>\n",
       "      <td>NaN</td>\n",
       "      <td>NaN</td>\n",
       "    </tr>\n",
       "  </tbody>\n",
       "</table>\n",
       "<p>5 rows × 24 columns</p>\n",
       "</div>"
      ],
      "text/plain": [
       "         Case         Date    Year        Type    Country             Area  \\\n",
       "0  2018.06.25  25-Jun-2018  2018.0     Boating        USA       California   \n",
       "1  2018.06.18  18-Jun-2018  2018.0  Unprovoked        USA          Georgia   \n",
       "2  2018.06.09  09-Jun-2018  2018.0     Invalid        USA           Hawaii   \n",
       "3  2018.06.08  08-Jun-2018  2018.0  Unprovoked  AUSTRALIA  New South Wales   \n",
       "4  2018.06.04  04-Jun-2018  2018.0    Provoked     MEXICO           Colima   \n",
       "\n",
       "                         Location     Activity             Name Sex  ...  \\\n",
       "0     Oceanside, San Diego County     Paddling      Julie Wolfe   F  ...   \n",
       "1  St. Simon Island, Glynn County     Standing  Adyson McNeely    F  ...   \n",
       "2                    Habush, Oahu      Surfing      John Denges   M  ...   \n",
       "3              Arrawarra Headland      Surfing             male   M  ...   \n",
       "4                        La Ticla  Free diving   Gustavo Ramos    M  ...   \n",
       "\n",
       "           Species                          Source                       pdf  \\\n",
       "0      White shark                R. Collier, GSAF      2018.06.25-Wolfe.pdf   \n",
       "1              NaN  K.McMurray, TrackingSharks.com    2018.06.18-McNeely.pdf   \n",
       "2              NaN  K.McMurray, TrackingSharks.com     2018.06.09-Denges.pdf   \n",
       "3        2 m shark                  B. Myatt, GSAF  2018.06.08-Arrawarra.pdf   \n",
       "4  Tiger shark, 3m                       A .Kipper      2018.06.04-Ramos.pdf   \n",
       "\n",
       "                                        href_formula  \\\n",
       "0  http://sharkattackfile.net/spreadsheets/pdf_di...   \n",
       "1  http://sharkattackfile.net/spreadsheets/pdf_di...   \n",
       "2  http://sharkattackfile.net/spreadsheets/pdf_di...   \n",
       "3  http://sharkattackfile.net/spreadsheets/pdf_di...   \n",
       "4  http://sharkattackfile.net/spreadsheets/pdf_di...   \n",
       "\n",
       "                                                href Case Number.1  \\\n",
       "0  http://sharkattackfile.net/spreadsheets/pdf_di...    2018.06.25   \n",
       "1  http://sharkattackfile.net/spreadsheets/pdf_di...    2018.06.18   \n",
       "2  http://sharkattackfile.net/spreadsheets/pdf_di...    2018.06.09   \n",
       "3  http://sharkattackfile.net/spreadsheets/pdf_di...    2018.06.08   \n",
       "4  http://sharkattackfile.net/spreadsheets/pdf_di...    2018.06.04   \n",
       "\n",
       "  Case Number.2   order Unnamed: 22 Unnamed: 23  \n",
       "0    2018.06.25  6303.0         NaN         NaN  \n",
       "1    2018.06.18  6302.0         NaN         NaN  \n",
       "2    2018.06.09  6301.0         NaN         NaN  \n",
       "3    2018.06.08  6300.0         NaN         NaN  \n",
       "4    2018.06.04  6299.0         NaN         NaN  \n",
       "\n",
       "[5 rows x 24 columns]"
      ]
     },
     "execution_count": 12,
     "metadata": {},
     "output_type": "execute_result"
    }
   ],
   "source": [
    "sharks3.head()"
   ]
  },
  {
   "cell_type": "markdown",
   "metadata": {},
   "source": [
    "From Here I decided to start checing every column in order:"
   ]
  },
  {
   "cell_type": "markdown",
   "metadata": {},
   "source": [
    "## Case Col"
   ]
  },
  {
   "cell_type": "code",
   "execution_count": 13,
   "metadata": {},
   "outputs": [
    {
     "data": {
      "text/plain": [
       "1980.07.00      2\n",
       "2014.08.02      2\n",
       "1966.12.26      2\n",
       "2013.10.05      2\n",
       "2009.12.18      2\n",
       "               ..\n",
       "2005.09.07      1\n",
       "2012.03.14.b    1\n",
       "1940.03.20      1\n",
       "2000.09.25      1\n",
       "2002.10.14      1\n",
       "Name: Case, Length: 6285, dtype: int64"
      ]
     },
     "execution_count": 13,
     "metadata": {},
     "output_type": "execute_result"
    }
   ],
   "source": [
    "# Checking Case Col:\n",
    "sharks3.Case.value_counts()\n",
    "\n",
    "# There appear to be duplicate cases, si I will check some examples"
   ]
  },
  {
   "cell_type": "code",
   "execution_count": 14,
   "metadata": {},
   "outputs": [
    {
     "data": {
      "text/html": [
       "<div>\n",
       "<style scoped>\n",
       "    .dataframe tbody tr th:only-of-type {\n",
       "        vertical-align: middle;\n",
       "    }\n",
       "\n",
       "    .dataframe tbody tr th {\n",
       "        vertical-align: top;\n",
       "    }\n",
       "\n",
       "    .dataframe thead th {\n",
       "        text-align: right;\n",
       "    }\n",
       "</style>\n",
       "<table border=\"1\" class=\"dataframe\">\n",
       "  <thead>\n",
       "    <tr style=\"text-align: right;\">\n",
       "      <th></th>\n",
       "      <th>Case</th>\n",
       "      <th>Date</th>\n",
       "      <th>Year</th>\n",
       "      <th>Type</th>\n",
       "      <th>Country</th>\n",
       "      <th>Area</th>\n",
       "      <th>Location</th>\n",
       "      <th>Activity</th>\n",
       "      <th>Name</th>\n",
       "      <th>Sex</th>\n",
       "      <th>...</th>\n",
       "      <th>Species</th>\n",
       "      <th>Source</th>\n",
       "      <th>pdf</th>\n",
       "      <th>href_formula</th>\n",
       "      <th>href</th>\n",
       "      <th>Case Number.1</th>\n",
       "      <th>Case Number.2</th>\n",
       "      <th>order</th>\n",
       "      <th>Unnamed: 22</th>\n",
       "      <th>Unnamed: 23</th>\n",
       "    </tr>\n",
       "  </thead>\n",
       "  <tbody>\n",
       "    <tr>\n",
       "      <th>746</th>\n",
       "      <td>2012.09.02.b</td>\n",
       "      <td>02-Sep-2012</td>\n",
       "      <td>2012.0</td>\n",
       "      <td>Unprovoked</td>\n",
       "      <td>USA</td>\n",
       "      <td>Florida</td>\n",
       "      <td>New Smyrna Beach, Volusia County</td>\n",
       "      <td>Boogie boarding</td>\n",
       "      <td>female</td>\n",
       "      <td>F</td>\n",
       "      <td>...</td>\n",
       "      <td>3.5' to 4' shark</td>\n",
       "      <td>WYTV, 9/3/2012</td>\n",
       "      <td>2012.09.02.b-NSB-girl.pdf</td>\n",
       "      <td>http://sharkattackfile.net/spreadsheets/pdf_di...</td>\n",
       "      <td>http://sharkattackfile.net/spreadsheets/pdf_di...</td>\n",
       "      <td>2012.09.02.b</td>\n",
       "      <td>2012.09.02.b</td>\n",
       "      <td>5557.0</td>\n",
       "      <td>NaN</td>\n",
       "      <td>NaN</td>\n",
       "    </tr>\n",
       "    <tr>\n",
       "      <th>747</th>\n",
       "      <td>2012.09.02.b</td>\n",
       "      <td>02-Sep-2012</td>\n",
       "      <td>2012.0</td>\n",
       "      <td>Provoked</td>\n",
       "      <td>USA</td>\n",
       "      <td>Hawaii</td>\n",
       "      <td>Spreckelsville, Maui</td>\n",
       "      <td>Spearfishing</td>\n",
       "      <td>M. Malabon</td>\n",
       "      <td>NaN</td>\n",
       "      <td>...</td>\n",
       "      <td>Tiger shark, 10' to 12'</td>\n",
       "      <td>HawaiiNow.com</td>\n",
       "      <td>2012.09.02.c-Malabon.pdf</td>\n",
       "      <td>http://sharkattackfile.net/spreadsheets/pdf_di...</td>\n",
       "      <td>http://sharkattackfile.net/spreadsheets/pdf_di...</td>\n",
       "      <td>2012.09.02.b</td>\n",
       "      <td>2012.09.02.b</td>\n",
       "      <td>5556.0</td>\n",
       "      <td>NaN</td>\n",
       "      <td>NaN</td>\n",
       "    </tr>\n",
       "  </tbody>\n",
       "</table>\n",
       "<p>2 rows × 24 columns</p>\n",
       "</div>"
      ],
      "text/plain": [
       "             Case         Date    Year        Type Country     Area  \\\n",
       "746  2012.09.02.b  02-Sep-2012  2012.0  Unprovoked     USA  Florida   \n",
       "747  2012.09.02.b  02-Sep-2012  2012.0    Provoked     USA   Hawaii   \n",
       "\n",
       "                             Location         Activity        Name  Sex  ...  \\\n",
       "746  New Smyrna Beach, Volusia County  Boogie boarding      female    F  ...   \n",
       "747              Spreckelsville, Maui     Spearfishing  M. Malabon  NaN  ...   \n",
       "\n",
       "                      Species          Source                        pdf  \\\n",
       "746          3.5' to 4' shark  WYTV, 9/3/2012  2012.09.02.b-NSB-girl.pdf   \n",
       "747  Tiger shark, 10' to 12'    HawaiiNow.com   2012.09.02.c-Malabon.pdf   \n",
       "\n",
       "                                          href_formula  \\\n",
       "746  http://sharkattackfile.net/spreadsheets/pdf_di...   \n",
       "747  http://sharkattackfile.net/spreadsheets/pdf_di...   \n",
       "\n",
       "                                                  href Case Number.1  \\\n",
       "746  http://sharkattackfile.net/spreadsheets/pdf_di...  2012.09.02.b   \n",
       "747  http://sharkattackfile.net/spreadsheets/pdf_di...  2012.09.02.b   \n",
       "\n",
       "    Case Number.2   order Unnamed: 22 Unnamed: 23  \n",
       "746  2012.09.02.b  5557.0         NaN         NaN  \n",
       "747  2012.09.02.b  5556.0         NaN         NaN  \n",
       "\n",
       "[2 rows x 24 columns]"
      ]
     },
     "execution_count": 14,
     "metadata": {},
     "output_type": "execute_result"
    }
   ],
   "source": [
    "sharks3[sharks3.Case == '2012.09.02.b']\n",
    "# Both cases are different so I will instead create my own id system later on."
   ]
  },
  {
   "cell_type": "markdown",
   "metadata": {},
   "source": [
    "## Date Col"
   ]
  },
  {
   "cell_type": "code",
   "execution_count": 15,
   "metadata": {},
   "outputs": [],
   "source": [
    "# Checking Date Col\n",
    "# Some Dates have the word reported, before and Circa. Remove them with .apply\n",
    "\n",
    "\n",
    "sharks3['Date'] = sharks3['Date'].apply(lambda x: re.sub('Reported ', '', str(x)))\n",
    "sharks3['Date'] = sharks3['Date'].apply(lambda x: re.sub('Before ', '', str(x)))\n",
    "sharks3['Date'] = sharks3['Date'].apply(lambda x: re.sub('Circa ', '', str(x)))\n",
    "sharks3['Date'] = sharks3['Date'].apply(lambda x: re.sub(r'', '', str(x)))\n",
    "\n",
    "#sharks3['Date'] = sharks3['Date'].apply(lambda x: re.sub(\"?\", '', str(x)))\n",
    "\n",
    "#Convert column to str\n",
    "\n",
    "sharks3['Date'] = sharks3['Date'].astype(str)\n",
    "\n",
    "#sharks3.head(50)"
   ]
  },
  {
   "cell_type": "markdown",
   "metadata": {},
   "source": [
    "## Year Col"
   ]
  },
  {
   "cell_type": "code",
   "execution_count": 16,
   "metadata": {},
   "outputs": [
    {
     "data": {
      "text/plain": [
       "count    6300.000000\n",
       "mean     1927.272381\n",
       "std       281.116308\n",
       "min         0.000000\n",
       "25%      1942.000000\n",
       "50%      1977.000000\n",
       "75%      2005.000000\n",
       "max      2018.000000\n",
       "Name: Year, dtype: float64"
      ]
     },
     "execution_count": 16,
     "metadata": {},
     "output_type": "execute_result"
    }
   ],
   "source": [
    "# Checking Year Col\n",
    "\n",
    "sharks3.Year.describe()\n",
    "\n",
    "# Fill nans with 0\n",
    "# Converto to string\n",
    "# Fill 0s with info from Date"
   ]
  },
  {
   "cell_type": "code",
   "execution_count": 17,
   "metadata": {},
   "outputs": [],
   "source": [
    "sharks3['Year'] = sharks3['Year'].fillna(0)"
   ]
  },
  {
   "cell_type": "code",
   "execution_count": 18,
   "metadata": {},
   "outputs": [],
   "source": [
    "# Convert to str\n",
    "sharks3['Year'] = sharks3['Year'].astype(str)\n",
    "\n",
    "# to get rid of .0\n",
    "sharks3['Year'] = sharks3['Year'].apply(lambda x: re.sub(\"\\.0\", \"\", x))\n",
    "\n"
   ]
  },
  {
   "cell_type": "code",
   "execution_count": 19,
   "metadata": {},
   "outputs": [],
   "source": [
    "def get_date2(x):\n",
    "    try:\n",
    "        x2 = x.split()\n",
    "        x3 = x2[-1].split('-')\n",
    "        return (x3[-1])\n",
    "    except:\n",
    "        pass\n",
    "    \n",
    "def turn_int(x):\n",
    "    try:\n",
    "        ix = int(x)\n",
    "        return ix\n",
    "    except:\n",
    "        return np.nan"
   ]
  },
  {
   "cell_type": "code",
   "execution_count": 20,
   "metadata": {},
   "outputs": [],
   "source": [
    "sharks3['Year']=sharks3['Date'].apply(get_date2)\n",
    "sharks3['Year'] = sharks3['Year'].apply(turn_int)\n",
    "\n",
    "sharks4 = sharks3.dropna(subset=['Year'])"
   ]
  },
  {
   "cell_type": "markdown",
   "metadata": {},
   "source": [
    "## Type Col"
   ]
  },
  {
   "cell_type": "code",
   "execution_count": 21,
   "metadata": {},
   "outputs": [
    {
     "data": {
      "text/plain": [
       "Unprovoked      4536\n",
       "Provoked         571\n",
       "Invalid          541\n",
       "Sea Disaster     234\n",
       "Boating          201\n",
       "Boat             137\n",
       "Questionable       2\n",
       "Boatomg            1\n",
       "Name: Type, dtype: int64"
      ]
     },
     "execution_count": 21,
     "metadata": {},
     "output_type": "execute_result"
    }
   ],
   "source": [
    "sharks4.Type.value_counts()\n",
    "\n",
    "# Boat & Boatomg & Boating same thing\n",
    "# Questionable -> invalid"
   ]
  },
  {
   "cell_type": "code",
   "execution_count": 22,
   "metadata": {},
   "outputs": [
    {
     "name": "stderr",
     "output_type": "stream",
     "text": [
      "/Library/Frameworks/Python.framework/Versions/3.7/lib/python3.7/site-packages/pandas/core/indexing.py:965: SettingWithCopyWarning: \n",
      "A value is trying to be set on a copy of a slice from a DataFrame.\n",
      "Try using .loc[row_indexer,col_indexer] = value instead\n",
      "\n",
      "See the caveats in the documentation: https://pandas.pydata.org/pandas-docs/stable/user_guide/indexing.html#returning-a-view-versus-a-copy\n",
      "  self.obj[item] = s\n"
     ]
    }
   ],
   "source": [
    "sharks4.loc[sharks4['Type'] == 'Boat', 'Type'] = 'Boating'\n",
    "sharks4.loc[sharks4['Type'] == 'Boatomg', 'Type'] = 'Boating'\n",
    "sharks4.loc[sharks4['Type'] == 'Questionable', 'Type'] = 'Invalid'\n"
   ]
  },
  {
   "cell_type": "code",
   "execution_count": 23,
   "metadata": {},
   "outputs": [
    {
     "data": {
      "text/plain": [
       "Unprovoked      4536\n",
       "Provoked         571\n",
       "Invalid          543\n",
       "Boating          339\n",
       "Sea Disaster     234\n",
       "Name: Type, dtype: int64"
      ]
     },
     "execution_count": 23,
     "metadata": {},
     "output_type": "execute_result"
    }
   ],
   "source": [
    "sharks4.Type.value_counts()"
   ]
  },
  {
   "cell_type": "markdown",
   "metadata": {},
   "source": [
    "## Country, Area Location Cols\n",
    "These columns have been already previously fixed."
   ]
  },
  {
   "cell_type": "code",
   "execution_count": 24,
   "metadata": {},
   "outputs": [
    {
     "data": {
      "text/plain": [
       "USA                      2219\n",
       "AUSTRALIA                1324\n",
       "SOUTH AFRICA              576\n",
       "PAPUA NEW GUINEA          132\n",
       "NEW ZEALAND               127\n",
       "                         ... \n",
       "REUNION ISLAND              1\n",
       "GUATEMALA                   1\n",
       "NORTH ATLANTIC OCEAN        1\n",
       "NEVIS                       1\n",
       "AFRICA                      1\n",
       "Name: Country, Length: 210, dtype: int64"
      ]
     },
     "execution_count": 24,
     "metadata": {},
     "output_type": "execute_result"
    }
   ],
   "source": [
    "sharks4.Country.value_counts()"
   ]
  },
  {
   "cell_type": "markdown",
   "metadata": {},
   "source": [
    "## Activity"
   ]
  },
  {
   "cell_type": "code",
   "execution_count": 25,
   "metadata": {},
   "outputs": [
    {
     "data": {
      "text/plain": [
       "Surfing                           968\n",
       "Swimming                          863\n",
       "Fishing                           427\n",
       "Spearfishing                      328\n",
       "Bathing                           160\n",
       "Wading                            146\n",
       "Diving                            126\n",
       "Standing                           98\n",
       "Snorkeling                         87\n",
       "Scuba diving                       75\n",
       "Body boarding                      61\n",
       "Body surfing                       49\n",
       "Swimming                           47\n",
       "Kayaking                           33\n",
       "Fell overboard                     32\n",
       "Treading water                     32\n",
       "Pearl diving                       31\n",
       "Boogie boarding                    29\n",
       "Free diving                        27\n",
       "Windsurfing                        19\n",
       "Walking                            16\n",
       "Boogie Boarding                    16\n",
       "Shark fishing                      15\n",
       "Floating                           14\n",
       "Fishing                            13\n",
       "Rowing                             12\n",
       "Surf fishing                       12\n",
       "Canoeing                           12\n",
       "Surf skiing                        12\n",
       "Surf-skiing                        12\n",
       "Fishing for sharks                 11\n",
       "Kayak Fishing                      11\n",
       "Freediving                         10\n",
       "Scuba Diving                       10\n",
       "Fell into the water                 9\n",
       "Sailing                             9\n",
       "Diving for trochus                  9\n",
       "Sitting on surfboard                9\n",
       "Sponge diving                       8\n",
       "Sea disaster                        8\n",
       "Paddle boarding                     8\n",
       "Free diving for abalone             7\n",
       "Playing                             7\n",
       "Skindiving                          7\n",
       "Surfing (sitting on his board)      7\n",
       "Boating                             7\n",
       "Surf skiing                         7\n",
       "Diving for abalone                  7\n",
       "Floating on his back                7\n",
       "Fishing for mackerel                6\n",
       "Name: Activity, dtype: int64"
      ]
     },
     "execution_count": 25,
     "metadata": {},
     "output_type": "execute_result"
    }
   ],
   "source": [
    "sharks4.Activity.value_counts().head(50)"
   ]
  },
  {
   "cell_type": "code",
   "execution_count": 26,
   "metadata": {},
   "outputs": [],
   "source": [
    "act_dic = {'surf':'Surfing','swim':'Swimming','fish':'Fishing','bath':'Bathing','divi':'Diving'}\n",
    "\n",
    "def cat_act(act0):\n",
    "    x = 'Other'\n",
    "    for key in act_dic:\n",
    "        if key in act0.lower():\n",
    "            x = act_dic[key]\n",
    "    \n",
    "    return x"
   ]
  },
  {
   "cell_type": "code",
   "execution_count": 27,
   "metadata": {},
   "outputs": [
    {
     "name": "stderr",
     "output_type": "stream",
     "text": [
      "/Library/Frameworks/Python.framework/Versions/3.7/lib/python3.7/site-packages/ipykernel_launcher.py:2: SettingWithCopyWarning: \n",
      "A value is trying to be set on a copy of a slice from a DataFrame.\n",
      "Try using .loc[row_indexer,col_indexer] = value instead\n",
      "\n",
      "See the caveats in the documentation: https://pandas.pydata.org/pandas-docs/stable/user_guide/indexing.html#returning-a-view-versus-a-copy\n",
      "  \n",
      "/Library/Frameworks/Python.framework/Versions/3.7/lib/python3.7/site-packages/ipykernel_launcher.py:5: SettingWithCopyWarning: \n",
      "A value is trying to be set on a copy of a slice from a DataFrame.\n",
      "Try using .loc[row_indexer,col_indexer] = value instead\n",
      "\n",
      "See the caveats in the documentation: https://pandas.pydata.org/pandas-docs/stable/user_guide/indexing.html#returning-a-view-versus-a-copy\n",
      "  \"\"\"\n"
     ]
    }
   ],
   "source": [
    "# Converting to str\n",
    "sharks4['Activity'] = sharks4['Activity'].astype(str)\n",
    "\n",
    "# Categorizing Activities acording to most common ones, naming others as 'others'\n",
    "sharks4['Activity'] = sharks4['Activity'].apply(cat_act)"
   ]
  },
  {
   "cell_type": "code",
   "execution_count": 28,
   "metadata": {},
   "outputs": [
    {
     "data": {
      "text/plain": [
       "Other       2032\n",
       "Surfing     1188\n",
       "Fishing     1155\n",
       "Swimming    1093\n",
       "Diving       569\n",
       "Bathing      190\n",
       "Name: Activity, dtype: int64"
      ]
     },
     "execution_count": 28,
     "metadata": {},
     "output_type": "execute_result"
    }
   ],
   "source": [
    "sharks4.Activity.value_counts()"
   ]
  },
  {
   "cell_type": "markdown",
   "metadata": {},
   "source": [
    "## Sex Cols"
   ]
  },
  {
   "cell_type": "code",
   "execution_count": 29,
   "metadata": {},
   "outputs": [
    {
     "data": {
      "text/plain": [
       "M      5032\n",
       "F       629\n",
       "NaN     560\n",
       "M         2\n",
       "N         2\n",
       "lli       1\n",
       ".         1\n",
       "Name: Sex, dtype: int64"
      ]
     },
     "execution_count": 29,
     "metadata": {},
     "output_type": "execute_result"
    }
   ],
   "source": [
    "sharks4.Sex.value_counts(dropna=False)"
   ]
  },
  {
   "cell_type": "code",
   "execution_count": 30,
   "metadata": {},
   "outputs": [
    {
     "name": "stderr",
     "output_type": "stream",
     "text": [
      "/Library/Frameworks/Python.framework/Versions/3.7/lib/python3.7/site-packages/ipykernel_launcher.py:3: SettingWithCopyWarning: \n",
      "A value is trying to be set on a copy of a slice from a DataFrame.\n",
      "Try using .loc[row_indexer,col_indexer] = value instead\n",
      "\n",
      "See the caveats in the documentation: https://pandas.pydata.org/pandas-docs/stable/user_guide/indexing.html#returning-a-view-versus-a-copy\n",
      "  This is separate from the ipykernel package so we can avoid doing imports until\n",
      "/Library/Frameworks/Python.framework/Versions/3.7/lib/python3.7/site-packages/ipykernel_launcher.py:4: SettingWithCopyWarning: \n",
      "A value is trying to be set on a copy of a slice from a DataFrame.\n",
      "Try using .loc[row_indexer,col_indexer] = value instead\n",
      "\n",
      "See the caveats in the documentation: https://pandas.pydata.org/pandas-docs/stable/user_guide/indexing.html#returning-a-view-versus-a-copy\n",
      "  after removing the cwd from sys.path.\n"
     ]
    },
    {
     "data": {
      "text/plain": [
       "M      5034\n",
       "F       629\n",
       "nan     560\n",
       "N         2\n",
       "lli       1\n",
       ".         1\n",
       "Name: Sex, dtype: int64"
      ]
     },
     "execution_count": 30,
     "metadata": {},
     "output_type": "execute_result"
    }
   ],
   "source": [
    "# Eliminate ' ' from sex\n",
    "\n",
    "sharks4['Sex'] = sharks4['Sex'].astype(str)\n",
    "sharks4['Sex'] = sharks4['Sex'].apply(lambda x: re.sub(r' ', '', str(x)))\n",
    "sharks4.Sex.value_counts()"
   ]
  },
  {
   "cell_type": "code",
   "execution_count": 31,
   "metadata": {},
   "outputs": [
    {
     "name": "stderr",
     "output_type": "stream",
     "text": [
      "/Library/Frameworks/Python.framework/Versions/3.7/lib/python3.7/site-packages/ipykernel_launcher.py:3: SettingWithCopyWarning: \n",
      "A value is trying to be set on a copy of a slice from a DataFrame.\n",
      "Try using .loc[row_indexer,col_indexer] = value instead\n",
      "\n",
      "See the caveats in the documentation: https://pandas.pydata.org/pandas-docs/stable/user_guide/indexing.html#returning-a-view-versus-a-copy\n",
      "  This is separate from the ipykernel package so we can avoid doing imports until\n"
     ]
    }
   ],
   "source": [
    "# 'N', 'lli' & '.' dont tell us anything.\n",
    "\n",
    "sharks4['Sex'] = sharks4[(sharks4['Sex']!='N') & (sharks4['Sex']!='lli') & (sharks4['Sex']!='.')].Sex"
   ]
  },
  {
   "cell_type": "code",
   "execution_count": 32,
   "metadata": {},
   "outputs": [
    {
     "data": {
      "text/plain": [
       "M    5034\n",
       "F     629\n",
       "Name: Sex, dtype: int64"
      ]
     },
     "execution_count": 32,
     "metadata": {},
     "output_type": "execute_result"
    }
   ],
   "source": [
    "# Considering Sex crucial for analysis, droping nans\n",
    "\n",
    "sharks4 = sharks4[sharks4['Sex']!='nan']\n",
    "sharks4.Sex.value_counts()"
   ]
  },
  {
   "cell_type": "markdown",
   "metadata": {},
   "source": [
    "## Name Cols"
   ]
  },
  {
   "cell_type": "code",
   "execution_count": 33,
   "metadata": {},
   "outputs": [],
   "source": [
    "sharks4.Name.value_counts().head(30)\n",
    "\n",
    "lst_unk_names = ['male','female','boy','males','sailor','man','diver','girl','child','soldier',\n",
    "                 'unidentified','men','native','unknown','local','pilot','crew','teacher']\n",
    "\n",
    "sharks4['Name'] = sharks4['Name'].astype(str)\n",
    "\n",
    "def cat_name(name0):\n",
    "    for el in lst_unk_names:\n",
    "        if el in name0.lower():\n",
    "            return 'UNKNOWN'\n",
    "    return name0  \n",
    "\n",
    "#sharks4.Name.value_counts().head(20)"
   ]
  },
  {
   "cell_type": "code",
   "execution_count": 34,
   "metadata": {},
   "outputs": [],
   "source": [
    "sharks4['Name'] = sharks4.Name.apply(cat_name)"
   ]
  },
  {
   "cell_type": "code",
   "execution_count": 35,
   "metadata": {},
   "outputs": [
    {
     "data": {
      "text/plain": [
       "UNKNOWN              1354\n",
       "John Williams           3\n",
       "Kenny Burns             2\n",
       "Seth Mead               2\n",
       "Thomas McDonald         2\n",
       "                     ... \n",
       "Angel B. Escartin       1\n",
       "C.E. Slaughter          1\n",
       "Walter Mitchell         1\n",
       "Michael Carpenter       1\n",
       "Liam Walker             1\n",
       "Name: Name, Length: 4281, dtype: int64"
      ]
     },
     "execution_count": 35,
     "metadata": {},
     "output_type": "execute_result"
    }
   ],
   "source": [
    "sharks4.Name.value_counts()"
   ]
  },
  {
   "cell_type": "markdown",
   "metadata": {},
   "source": [
    "## Injury Cols"
   ]
  },
  {
   "cell_type": "code",
   "execution_count": 36,
   "metadata": {},
   "outputs": [
    {
     "data": {
      "text/plain": [
       "FATAL                      744\n",
       "Foot bitten                 85\n",
       "Survived                    77\n",
       "No injury                   72\n",
       "Leg bitten                  71\n",
       "Left foot bitten            50\n",
       "Right foot bitten           38\n",
       "No injury, board bitten     31\n",
       "Hand bitten                 24\n",
       "Thigh bitten                24\n",
       "Name: Injury, dtype: int64"
      ]
     },
     "execution_count": 36,
     "metadata": {},
     "output_type": "execute_result"
    }
   ],
   "source": [
    "inj_dic = {'fatal':'FATAL', 'foot':'FOOT', 'leg':'LEG','no injury':'NO INJURY',\n",
    "           'thigh':'THIGH','hand':'HAND', 'arm':'ARM','calf':'CALF','heel':'FOOT',\n",
    "           'ankle':'FOOT'}\n",
    "\n",
    "sharks4.Injury.value_counts().head(10)"
   ]
  },
  {
   "cell_type": "code",
   "execution_count": 37,
   "metadata": {},
   "outputs": [],
   "source": [
    "def cat_inj(inj0):\n",
    "    for key in inj_dic:\n",
    "        if key.lower() in inj0.lower():\n",
    "            return inj_dic[key]\n",
    "        \n",
    "    return 'UNKNOWN INJURY'"
   ]
  },
  {
   "cell_type": "code",
   "execution_count": 38,
   "metadata": {},
   "outputs": [],
   "source": [
    "sharks4['Injury'] = sharks4['Injury'].astype(str)\n",
    "sharks4['Injury'] = sharks4['Injury'].apply(cat_inj)"
   ]
  },
  {
   "cell_type": "code",
   "execution_count": 39,
   "metadata": {},
   "outputs": [
    {
     "data": {
      "text/plain": [
       "FATAL             1265\n",
       "UNKNOWN INJURY    1007\n",
       "FOOT               888\n",
       "LEG                734\n",
       "NO INJURY          552\n",
       "ARM                384\n",
       "HAND               352\n",
       "THIGH              299\n",
       "CALF               186\n",
       "Name: Injury, dtype: int64"
      ]
     },
     "execution_count": 39,
     "metadata": {},
     "output_type": "execute_result"
    }
   ],
   "source": [
    "sharks4.Injury.value_counts().head(10)"
   ]
  },
  {
   "cell_type": "markdown",
   "metadata": {},
   "source": [
    "## Faltal Col"
   ]
  },
  {
   "cell_type": "code",
   "execution_count": 40,
   "metadata": {},
   "outputs": [
    {
     "data": {
      "text/plain": [
       "N          3903\n",
       "Y          1259\n",
       "UNKNOWN      40\n",
       " N            7\n",
       "y             1\n",
       "M             1\n",
       "2017          1\n",
       "Name: Fatal, dtype: int64"
      ]
     },
     "execution_count": 40,
     "metadata": {},
     "output_type": "execute_result"
    }
   ],
   "source": [
    "sharks4.Fatal.value_counts()"
   ]
  },
  {
   "cell_type": "code",
   "execution_count": 43,
   "metadata": {},
   "outputs": [],
   "source": [
    "# eliminate white space\n",
    "sharks4['Fatal'] = sharks4['Fatal'].astype(str)\n",
    "sharks4['Fatal'] = sharks4['Fatal'].apply(lambda x: re.sub(r' ', '', str(x)))\n",
    "\n",
    "# Filling nans with UNKNOWN\n",
    "sharks4['Fatal'] = sharks4['Fatal'].apply(lambda x: re.sub(r'nan', 'UNKNOWN', str(x)))\n",
    "\n",
    "# Selecting only n, y or unknown\n",
    "sharks4['Fatal'] = sharks4[(sharks4['Fatal'] == 'N') | (sharks4['Fatal'] == 'Y') | (sharks4['Fatal'] == 'UNKNOWN')].Fatal\n"
   ]
  },
  {
   "cell_type": "code",
   "execution_count": 45,
   "metadata": {},
   "outputs": [
    {
     "data": {
      "text/plain": [
       "N          3910\n",
       "Y          1259\n",
       "UNKNOWN     498\n",
       "Name: Fatal, dtype: int64"
      ]
     },
     "execution_count": 45,
     "metadata": {},
     "output_type": "execute_result"
    }
   ],
   "source": [
    "sharks4.Fatal.value_counts()"
   ]
  },
  {
   "cell_type": "markdown",
   "metadata": {},
   "source": [
    "## Species Col"
   ]
  },
  {
   "cell_type": "code",
   "execution_count": 50,
   "metadata": {},
   "outputs": [
    {
     "data": {
      "text/plain": [
       "UNKNOWN                                               2546\n",
       "White shark                                            139\n",
       "Invalid                                                 87\n",
       "Shark involvement prior to death was not confirmed      86\n",
       "Shark involvement not confirmed                         79\n",
       "                                                      ... \n",
       "Porbeagle shark, 7'                                      1\n",
       "Possibly a broadnose 7-gill shark                        1\n",
       "Raggedtooth shark, 2 m [6'9\"]                            1\n",
       "Blacktip shark, 2'                                       1\n",
       "1.8 m [6'] \"cocktail shark                               1\n",
       "Name: Species, Length: 1424, dtype: int64"
      ]
     },
     "execution_count": 50,
     "metadata": {},
     "output_type": "execute_result"
    }
   ],
   "source": [
    "sharks4.Species.value_counts(dropna=False)"
   ]
  },
  {
   "cell_type": "code",
   "execution_count": 49,
   "metadata": {},
   "outputs": [],
   "source": [
    "sharks4.Species.fillna('UNKNOWN', inplace=True)\n",
    "sharks4['Species'] = sharks4['Species'].astype(str)\n"
   ]
  },
  {
   "cell_type": "code",
   "execution_count": 156,
   "metadata": {},
   "outputs": [
    {
     "data": {
      "text/plain": [
       "UNKNOWN             2622\n",
       "WHITE                580\n",
       "INVALID              428\n",
       "TIGUER               263\n",
       "BULL                 167\n",
       "BLACKTIP              99\n",
       "NURSE                 92\n",
       "BRONZE                58\n",
       "WOBBEGONG             49\n",
       "BLUE                  48\n",
       "MAKO                  43\n",
       "HAMMERHEAD            42\n",
       "RAGGETDTOOTH          41\n",
       "4' shark              39\n",
       "6' shark              39\n",
       "1.8 m [6'] shark      33\n",
       "LEMON                 32\n",
       "1.5 m [5'] shark      31\n",
       "ZAMBESI               28\n",
       "GRAY                  28\n",
       "1.2 m [4'] shark      26\n",
       "3' shark              26\n",
       "4' to 5' shark        24\n",
       "SAND                  24\n",
       "5' shark              23\n",
       "2 m shark             22\n",
       "SPINNER               21\n",
       "3 m [10'] shark       21\n",
       "3' to 4' shark        18\n",
       "CARIBBEAN             16\n",
       "Name: Species, dtype: int64"
      ]
     },
     "execution_count": 156,
     "metadata": {},
     "output_type": "execute_result"
    }
   ],
   "source": [
    "species_dic = {'white':'WHITE','tiger':'TIGUER', 'bull':'BULL', 'wobbegong':'WOBBEGONG', 'blacktip': 'BLACKTIP',\n",
    "               'black t': 'BLACKTIP',\n",
    "               'blue':'BLUE', 'bronze': 'BRONZE', 'raggedtooth':'RAGGETDTOOTH', 'zambesi':'ZAMBESI', 'zambezi':'ZAMBESI', 'mako':'MAKO',\n",
    "               'hammerhead':'HAMMERHEAD', 'spinner':'SPINNER', 'lemon':'LEMON', 'sand':'SAND', 'gray': 'GRAY', 'grey':'GRAY',\n",
    "               'caribbean':'CARIBBEAN','nurse':'NURSE', 'angel': 'ANGEL', 'dusk':'DUSKY', 'reef':'REEF','galapagos':'GALAPAGOS',\n",
    "               'not confirmed':'INVALID', 'unconfirmed':'INVALID','questionable':'INVALID', 'not co':'INVALID','doubt':'INVALID',\n",
    "               'invalid':'INVALID', 'no shark':'INVALID', 'unidentified':'UNKNOWN','small':'UNKNOWN','little':'UNKNOWN'}\n",
    "sharks4.Species.value_counts().head(30)"
   ]
  },
  {
   "cell_type": "code",
   "execution_count": 163,
   "metadata": {},
   "outputs": [],
   "source": [
    "def cat_species(spe0):\n",
    "    for key in species_dic:\n",
    "        if key in spe0.lower():\n",
    "            return species_dic[key]\n",
    "    return 'UNKNOWN'"
   ]
  },
  {
   "cell_type": "code",
   "execution_count": 164,
   "metadata": {},
   "outputs": [],
   "source": [
    "sharks4['Species'] = sharks4.Species.apply(cat_species)"
   ]
  },
  {
   "cell_type": "code",
   "execution_count": 165,
   "metadata": {},
   "outputs": [
    {
     "data": {
      "text/plain": [
       "UNKNOWN       3871\n",
       "WHITE          580\n",
       "INVALID        432\n",
       "BULL           167\n",
       "BLACKTIP        99\n",
       "NURSE           92\n",
       "BRONZE          58\n",
       "WOBBEGONG       49\n",
       "BLUE            48\n",
       "MAKO            43\n",
       "HAMMERHEAD      42\n",
       "LEMON           32\n",
       "ZAMBESI         28\n",
       "GRAY            28\n",
       "SAND            24\n",
       "SPINNER         21\n",
       "CARIBBEAN       16\n",
       "REEF            13\n",
       "DUSKY           12\n",
       "GALAPAGOS        7\n",
       "ANGEL            5\n",
       "Name: Species, dtype: int64"
      ]
     },
     "execution_count": 165,
     "metadata": {},
     "output_type": "execute_result"
    }
   ],
   "source": [
    "sharks4.Species.value_counts().iloc[0:60]\n"
   ]
  },
  {
   "cell_type": "markdown",
   "metadata": {},
   "source": [
    "## Selecting Main\n",
    "### And dropping rows that are missing main info\n",
    "\n",
    "Main:\n",
    "* Type\n",
    "* Country\n",
    "* Sex\n",
    "* Injury\n",
    "* Species"
   ]
  },
  {
   "cell_type": "code",
   "execution_count": 195,
   "metadata": {},
   "outputs": [],
   "source": [
    "sharks4 = sharks4.reset_index(drop=True)"
   ]
  },
  {
   "cell_type": "code",
   "execution_count": 196,
   "metadata": {},
   "outputs": [
    {
     "data": {
      "text/plain": [
       "Unprovoked      4376\n",
       "Provoked         515\n",
       "Invalid          470\n",
       "Sea Disaster     169\n",
       "Boating          133\n",
       "NaN                4\n",
       "Name: Type, dtype: int64"
      ]
     },
     "execution_count": 196,
     "metadata": {},
     "output_type": "execute_result"
    }
   ],
   "source": [
    "sharks4.Type.value_counts(dropna=False)"
   ]
  },
  {
   "cell_type": "code",
   "execution_count": 197,
   "metadata": {},
   "outputs": [
    {
     "data": {
      "text/plain": [
       "USA                 2121\n",
       "AUSTRALIA           1185\n",
       "SOUTH AFRICA         512\n",
       "PAPUA NEW GUINEA     113\n",
       "NEW ZEALAND          112\n",
       "BAHAMAS              106\n",
       "BRAZIL                98\n",
       "MEXICO                79\n",
       "ITALY                 58\n",
       "FIJI                  55\n",
       "REUNION               52\n",
       "PHILIPPINES           47\n",
       "NaN                   44\n",
       "CUBA                  40\n",
       "MOZAMBIQUE            38\n",
       "NEW CALEDONIA         37\n",
       "SPAIN                 37\n",
       "EGYPT                 35\n",
       "INDIA                 33\n",
       "PANAMA                31\n",
       "Name: Country, dtype: int64"
      ]
     },
     "execution_count": 197,
     "metadata": {},
     "output_type": "execute_result"
    }
   ],
   "source": [
    "sharks4.Country.value_counts(dropna=False).head(20)"
   ]
  },
  {
   "cell_type": "code",
   "execution_count": 198,
   "metadata": {},
   "outputs": [
    {
     "data": {
      "text/plain": [
       "M      5034\n",
       "F       629\n",
       "NaN       4\n",
       "Name: Sex, dtype: int64"
      ]
     },
     "execution_count": 198,
     "metadata": {},
     "output_type": "execute_result"
    }
   ],
   "source": [
    "sharks4.Sex.value_counts(dropna=False)"
   ]
  },
  {
   "cell_type": "code",
   "execution_count": 211,
   "metadata": {},
   "outputs": [
    {
     "data": {
      "text/plain": [
       "FATAL             1265\n",
       "UNKNOWN INJURY    1007\n",
       "FOOT               888\n",
       "LEG                734\n",
       "NO INJURY          552\n",
       "ARM                384\n",
       "HAND               352\n",
       "THIGH              299\n",
       "CALF               186\n",
       "Name: Injury, dtype: int64"
      ]
     },
     "execution_count": 211,
     "metadata": {},
     "output_type": "execute_result"
    }
   ],
   "source": [
    "sharks4.Injury.value_counts(dropna=False)"
   ]
  },
  {
   "cell_type": "code",
   "execution_count": 212,
   "metadata": {},
   "outputs": [
    {
     "data": {
      "text/plain": [
       "UNKNOWN       3871\n",
       "WHITE          580\n",
       "INVALID        432\n",
       "BULL           167\n",
       "BLACKTIP        99\n",
       "NURSE           92\n",
       "BRONZE          58\n",
       "WOBBEGONG       49\n",
       "BLUE            48\n",
       "MAKO            43\n",
       "HAMMERHEAD      42\n",
       "LEMON           32\n",
       "ZAMBESI         28\n",
       "GRAY            28\n",
       "SAND            24\n",
       "SPINNER         21\n",
       "CARIBBEAN       16\n",
       "REEF            13\n",
       "DUSKY           12\n",
       "GALAPAGOS        7\n",
       "ANGEL            5\n",
       "Name: Species, dtype: int64"
      ]
     },
     "execution_count": 212,
     "metadata": {},
     "output_type": "execute_result"
    }
   ],
   "source": [
    "sharks4.Species.value_counts(dropna=False)"
   ]
  },
  {
   "cell_type": "code",
   "execution_count": 209,
   "metadata": {},
   "outputs": [],
   "source": [
    "sharks5 = sharks4[sharks4.Type.isnull()==False]\n",
    "sharks5 = sharks5[sharks5.Country.isnull()==False]\n",
    "sharks5 = sharks5[sharks5.Sex.isnull()==False]\n",
    "\n",
    "# sharks4.Country.value_counts(dropna=False).head(20)"
   ]
  },
  {
   "cell_type": "code",
   "execution_count": 219,
   "metadata": {},
   "outputs": [],
   "source": [
    "# Dropping INVALID because they're probably not real attacks\n",
    "\n",
    "sharks5 = sharks5[sharks5.Species!='INVALID']\n",
    "sharks5 = sharks5[sharks5.Type!='Invalid']"
   ]
  },
  {
   "cell_type": "code",
   "execution_count": 221,
   "metadata": {},
   "outputs": [
    {
     "name": "stdout",
     "output_type": "stream",
     "text": [
      "Total Droped Cols: 20581\n"
     ]
    }
   ],
   "source": [
    "print('Total Droped Cols: {}'.format(sharks.shape[0]-sharks5.shape[0]))"
   ]
  },
  {
   "cell_type": "code",
   "execution_count": 222,
   "metadata": {},
   "outputs": [],
   "source": [
    "sharks5.to_csv('sharks_clean.csv')"
   ]
  },
  {
   "cell_type": "code",
   "execution_count": null,
   "metadata": {},
   "outputs": [],
   "source": []
  }
 ],
 "metadata": {
  "kernelspec": {
   "display_name": "Python 3",
   "language": "python",
   "name": "python3"
  },
  "language_info": {
   "codemirror_mode": {
    "name": "ipython",
    "version": 3
   },
   "file_extension": ".py",
   "mimetype": "text/x-python",
   "name": "python",
   "nbconvert_exporter": "python",
   "pygments_lexer": "ipython3",
   "version": "3.7.3"
  }
 },
 "nbformat": 4,
 "nbformat_minor": 2
}
