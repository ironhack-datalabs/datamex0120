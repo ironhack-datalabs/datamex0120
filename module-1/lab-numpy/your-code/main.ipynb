{
 "cells": [
  {
   "cell_type": "code",
   "execution_count": 2,
   "metadata": {},
   "outputs": [],
   "source": [
    "#1. Import the NUMPY package under the name np.\n",
    "import numpy as np"
   ]
  },
  {
   "cell_type": "code",
   "execution_count": 3,
   "metadata": {},
   "outputs": [
    {
     "name": "stdout",
     "output_type": "stream",
     "text": [
      "1.18.1\n"
     ]
    }
   ],
   "source": [
    "#2. Print the NUMPY version and the configuration.\n",
    "print(np.version.version)\n"
   ]
  },
  {
   "cell_type": "code",
   "execution_count": 4,
   "metadata": {},
   "outputs": [
    {
     "data": {
      "text/plain": [
       "array([[[0.20146041, 0.90956068, 0.35340909, 0.77014875, 0.7402752 ],\n",
       "        [0.6043516 , 0.01538098, 0.88123792, 0.26373677, 0.34678654],\n",
       "        [0.9965471 , 0.07041536, 0.23711921, 0.9029004 , 0.24972986]],\n",
       "\n",
       "       [[0.52438375, 0.59946162, 0.80136286, 0.15735357, 0.88622234],\n",
       "        [0.93327638, 0.3496869 , 0.76452743, 0.81689607, 0.37324134],\n",
       "        [0.73817387, 0.26401738, 0.04850065, 0.81974282, 0.56688678]]])"
      ]
     },
     "execution_count": 4,
     "metadata": {},
     "output_type": "execute_result"
    }
   ],
   "source": [
    "#3. Generate a 2x3x5 3-dimensional array with random values. Assign the array to variable \"a\"\n",
    "# Challenge: there are at least three easy ways that use numpy to generate random arrays. How many ways can you find?\n",
    "a = np.random.random((2,3,5))\n",
    "#4. Print a.\n",
    "a"
   ]
  },
  {
   "cell_type": "code",
   "execution_count": 5,
   "metadata": {},
   "outputs": [
    {
     "data": {
      "text/plain": [
       "array([[[1., 1., 1.],\n",
       "        [1., 1., 1.]],\n",
       "\n",
       "       [[1., 1., 1.],\n",
       "        [1., 1., 1.]],\n",
       "\n",
       "       [[1., 1., 1.],\n",
       "        [1., 1., 1.]],\n",
       "\n",
       "       [[1., 1., 1.],\n",
       "        [1., 1., 1.]],\n",
       "\n",
       "       [[1., 1., 1.],\n",
       "        [1., 1., 1.]]])"
      ]
     },
     "execution_count": 5,
     "metadata": {},
     "output_type": "execute_result"
    }
   ],
   "source": [
    "#5. Create a 5x2x3 3-dimensional array with all values equaling 1.\n",
    "#Assign the array to variable \"b\"\n",
    "bp = np.random.random((5,2,3))\n",
    "b = np.full_like(bp,1)\n",
    "\n",
    "\n",
    "#6. Print b\n",
    "b"
   ]
  },
  {
   "cell_type": "code",
   "execution_count": 6,
   "metadata": {},
   "outputs": [
    {
     "data": {
      "text/plain": [
       "False"
      ]
     },
     "execution_count": 6,
     "metadata": {},
     "output_type": "execute_result"
    }
   ],
   "source": [
    "#7. Do a and b have the same size? How do you prove that in Python code?\n",
    "np.array_equal(a,b)\n",
    "# esta funcion de python compara la forma de dos arrays y devuelve un booleano"
   ]
  },
  {
   "cell_type": "code",
   "execution_count": 7,
   "metadata": {},
   "outputs": [
    {
     "ename": "ValueError",
     "evalue": "operands could not be broadcast together with shapes (5,2,3) (3,5) ",
     "output_type": "error",
     "traceback": [
      "\u001b[0;31m---------------------------------------------------------------------------\u001b[0m",
      "\u001b[0;31mValueError\u001b[0m                                Traceback (most recent call last)",
      "\u001b[0;32m<ipython-input-7-eb457c754621>\u001b[0m in \u001b[0;36m<module>\u001b[0;34m\u001b[0m\n\u001b[1;32m      1\u001b[0m \u001b[0;31m#8. Are you able to add a and b? Why or why not?\u001b[0m\u001b[0;34m\u001b[0m\u001b[0;34m\u001b[0m\u001b[0;34m\u001b[0m\u001b[0m\n\u001b[0;32m----> 2\u001b[0;31m \u001b[0msum\u001b[0m\u001b[0;34m(\u001b[0m\u001b[0ma\u001b[0m\u001b[0;34m,\u001b[0m\u001b[0mb\u001b[0m\u001b[0;34m)\u001b[0m\u001b[0;34m\u001b[0m\u001b[0;34m\u001b[0m\u001b[0m\n\u001b[0m\u001b[1;32m      3\u001b[0m \u001b[0;31m# no ya que el tamaño de los valores en el shape de las matrices tienen que ser iguales para poder ser sumadas\u001b[0m\u001b[0;34m\u001b[0m\u001b[0;34m\u001b[0m\u001b[0;34m\u001b[0m\u001b[0m\n",
      "\u001b[0;31mValueError\u001b[0m: operands could not be broadcast together with shapes (5,2,3) (3,5) "
     ]
    }
   ],
   "source": [
    "#8. Are you able to add a and b? Why or why not?\n",
    "sum(a,b)\n",
    "# no ya que el tamaño de los valores en el shape de las matrices tienen que ser iguales para poder ser sumadas"
   ]
  },
  {
   "cell_type": "code",
   "execution_count": 8,
   "metadata": {},
   "outputs": [
    {
     "data": {
      "text/plain": [
       "(2, 3, 5)"
      ]
     },
     "execution_count": 8,
     "metadata": {},
     "output_type": "execute_result"
    }
   ],
   "source": [
    "#9. Transpose b so that it has the same structure of a (i.e. become a 2x3x5 array). Assign the transposed array to varialbe \"c\".\n",
    "\n",
    "c = np.transpose(b,(1,2,0))\n",
    "c.shape"
   ]
  },
  {
   "cell_type": "code",
   "execution_count": 9,
   "metadata": {},
   "outputs": [
    {
     "data": {
      "text/plain": [
       "array([[[1.72584416, 2.5090223 , 2.15477195, 1.92750232, 2.62649754],\n",
       "        [2.53762798, 1.36506788, 2.64576536, 2.08063283, 1.72002788],\n",
       "        [2.73472097, 1.33443274, 1.28561986, 2.72264322, 1.81661663]],\n",
       "\n",
       "       [[1.72584416, 2.5090223 , 2.15477195, 1.92750232, 2.62649754],\n",
       "        [2.53762798, 1.36506788, 2.64576536, 2.08063283, 1.72002788],\n",
       "        [2.73472097, 1.33443274, 1.28561986, 2.72264322, 1.81661663]]])"
      ]
     },
     "execution_count": 9,
     "metadata": {},
     "output_type": "execute_result"
    }
   ],
   "source": [
    "#10. Try to add a and c. Now it should work. Assign the sum to varialbe \"d\". But why does it work now?\n",
    "d = sum(a,c)\n",
    "d\n",
    "# porque los valores dentro de las matrices estan organizadas de la misma forma"
   ]
  },
  {
   "cell_type": "code",
   "execution_count": 10,
   "metadata": {},
   "outputs": [
    {
     "name": "stdout",
     "output_type": "stream",
     "text": [
      "[[[0.20146041 0.90956068 0.35340909 0.77014875 0.7402752 ]\n",
      "  [0.6043516  0.01538098 0.88123792 0.26373677 0.34678654]\n",
      "  [0.9965471  0.07041536 0.23711921 0.9029004  0.24972986]]\n",
      "\n",
      " [[0.52438375 0.59946162 0.80136286 0.15735357 0.88622234]\n",
      "  [0.93327638 0.3496869  0.76452743 0.81689607 0.37324134]\n",
      "  [0.73817387 0.26401738 0.04850065 0.81974282 0.56688678]]]\n",
      "----------------------------------------------------------------------------------------------------\n",
      "[[[1.72584416 2.5090223  2.15477195 1.92750232 2.62649754]\n",
      "  [2.53762798 1.36506788 2.64576536 2.08063283 1.72002788]\n",
      "  [2.73472097 1.33443274 1.28561986 2.72264322 1.81661663]]\n",
      "\n",
      " [[1.72584416 2.5090223  2.15477195 1.92750232 2.62649754]\n",
      "  [2.53762798 1.36506788 2.64576536 2.08063283 1.72002788]\n",
      "  [2.73472097 1.33443274 1.28561986 2.72264322 1.81661663]]]\n"
     ]
    }
   ],
   "source": [
    "#11. Print a and d. Notice the difference and relation of the two array in terms of the values? Explain.\n",
    "print(a)\n",
    "print(\"-\"*100)\n",
    "print(d)\n",
    "# el valor de e es la suma de las matrices de a y c"
   ]
  },
  {
   "cell_type": "code",
   "execution_count": 11,
   "metadata": {},
   "outputs": [
    {
     "data": {
      "text/plain": [
       "array([[[0.20146041, 0.90956068, 0.35340909, 0.77014875, 0.7402752 ],\n",
       "        [0.6043516 , 0.01538098, 0.88123792, 0.26373677, 0.34678654],\n",
       "        [0.9965471 , 0.07041536, 0.23711921, 0.9029004 , 0.24972986]],\n",
       "\n",
       "       [[0.52438375, 0.59946162, 0.80136286, 0.15735357, 0.88622234],\n",
       "        [0.93327638, 0.3496869 , 0.76452743, 0.81689607, 0.37324134],\n",
       "        [0.73817387, 0.26401738, 0.04850065, 0.81974282, 0.56688678]]])"
      ]
     },
     "execution_count": 11,
     "metadata": {},
     "output_type": "execute_result"
    }
   ],
   "source": [
    "#12. Multiply a and c. Assign the result to e.\n",
    "e = a * c\n",
    "e"
   ]
  },
  {
   "cell_type": "code",
   "execution_count": 12,
   "metadata": {},
   "outputs": [
    {
     "name": "stdout",
     "output_type": "stream",
     "text": [
      "[[[0.20146041 0.90956068 0.35340909 0.77014875 0.7402752 ]\n",
      "  [0.6043516  0.01538098 0.88123792 0.26373677 0.34678654]\n",
      "  [0.9965471  0.07041536 0.23711921 0.9029004  0.24972986]]\n",
      "\n",
      " [[0.52438375 0.59946162 0.80136286 0.15735357 0.88622234]\n",
      "  [0.93327638 0.3496869  0.76452743 0.81689607 0.37324134]\n",
      "  [0.73817387 0.26401738 0.04850065 0.81974282 0.56688678]]]\n",
      "----------------------------------------------------------------------------------------------------\n",
      "[[[0.20146041 0.90956068 0.35340909 0.77014875 0.7402752 ]\n",
      "  [0.6043516  0.01538098 0.88123792 0.26373677 0.34678654]\n",
      "  [0.9965471  0.07041536 0.23711921 0.9029004  0.24972986]]\n",
      "\n",
      " [[0.52438375 0.59946162 0.80136286 0.15735357 0.88622234]\n",
      "  [0.93327638 0.3496869  0.76452743 0.81689607 0.37324134]\n",
      "  [0.73817387 0.26401738 0.04850065 0.81974282 0.56688678]]]\n"
     ]
    },
    {
     "data": {
      "text/plain": [
       "True"
      ]
     },
     "execution_count": 12,
     "metadata": {},
     "output_type": "execute_result"
    }
   ],
   "source": [
    "#13. Does e equal to a? Why or why not?\n",
    "print(e)\n",
    "print(\"-\"*100)\n",
    "print(a)\n",
    "np.array_equal(a,e)\n",
    "# son iguales ya que la multiplicacion de los valores en la matriz \n",
    "# a multiplicados por los valores 1 de la matriz c dan el mismo resultado"
   ]
  },
  {
   "cell_type": "code",
   "execution_count": 13,
   "metadata": {},
   "outputs": [
    {
     "name": "stdout",
     "output_type": "stream",
     "text": [
      "2.734720968767415\n",
      "1.2856198558959973\n",
      "2.0791195744734834\n"
     ]
    }
   ],
   "source": [
    "#14. Identify the max, min, and mean values in d. Assign those values to variables \"d_max\", \"d_min\", and \"d_mean\"\n",
    "d_max = d.max()\n",
    "d_min = d.min()\n",
    "d_mean = d.mean()\n",
    "print(d_max)\n",
    "print(d_min)\n",
    "print(d_mean)"
   ]
  },
  {
   "cell_type": "code",
   "execution_count": 14,
   "metadata": {},
   "outputs": [
    {
     "data": {
      "text/plain": [
       "array([[[0.20146041, 0.90956068, 0.35340909, 0.77014875, 0.7402752 ],\n",
       "        [0.6043516 , 0.01538098, 0.88123792, 0.26373677, 0.34678654],\n",
       "        [0.9965471 , 0.07041536, 0.23711921, 0.9029004 , 0.24972986]],\n",
       "\n",
       "       [[0.52438375, 0.59946162, 0.80136286, 0.15735357, 0.88622234],\n",
       "        [0.93327638, 0.3496869 , 0.76452743, 0.81689607, 0.37324134],\n",
       "        [0.73817387, 0.26401738, 0.04850065, 0.81974282, 0.56688678]]])"
      ]
     },
     "execution_count": 14,
     "metadata": {},
     "output_type": "execute_result"
    }
   ],
   "source": [
    "#15. Now we want to label the values in d. First create an empty array \"f\" with the same shape (i.e. 2x3x5) as d using `np.empty`.\n",
    "f = np.empty([2,3,5])\n",
    "f"
   ]
  },
  {
   "cell_type": "code",
   "execution_count": 15,
   "metadata": {},
   "outputs": [
    {
     "name": "stdout",
     "output_type": "stream",
     "text": [
      "[[[1.72584416 2.5090223  2.15477195 1.92750232 2.62649754]\n",
      "  [2.53762798 1.36506788 2.64576536 2.08063283 1.72002788]\n",
      "  [2.73472097 1.33443274 1.28561986 2.72264322 1.81661663]]\n",
      "\n",
      " [[1.72584416 2.5090223  2.15477195 1.92750232 2.62649754]\n",
      "  [2.53762798 1.36506788 2.64576536 2.08063283 1.72002788]\n",
      "  [2.73472097 1.33443274 1.28561986 2.72264322 1.81661663]]]\n",
      "----------------------------------------------------------------------------------------------------\n",
      "[[[0.20146041 0.90956068 0.35340909 0.77014875 0.7402752 ]\n",
      "  [0.6043516  0.01538098 0.88123792 0.26373677 0.34678654]\n",
      "  [0.9965471  0.07041536 0.23711921 0.9029004  0.24972986]]\n",
      "\n",
      " [[0.52438375 0.59946162 0.80136286 0.15735357 0.88622234]\n",
      "  [0.93327638 0.3496869  0.76452743 0.81689607 0.37324134]\n",
      "  [0.73817387 0.26401738 0.04850065 0.81974282 0.56688678]]]\n"
     ]
    }
   ],
   "source": [
    "print(d)\n",
    "print(\"-\"*100)\n",
    "print(f)"
   ]
  },
  {
   "cell_type": "code",
   "execution_count": 41,
   "metadata": {},
   "outputs": [],
   "source": [
    "\"\"\"\n",
    "#16. Populate the values in f. For each value in d, if it's larger than d_min but smaller than d_mean, assign 25 to the corresponding value in f.\n",
    "If a value in d is larger than d_mean but smaller than d_max, assign 75 to the corresponding value in f.\n",
    "If a value equals to d_mean, assign 50 to the corresponding value in f.\n",
    "Assign 0 to the corresponding value(s) in f for d_min in d.\n",
    "Assign 100 to the corresponding value(s) in f for d_max in d.\n",
    "In the end, f should have only the following values: 0, 25, 50, 75, and 100.\n",
    "Note: you don't have to use Numpy in this question.\n",
    "# todavia no resuelto\n",
    "print(f)\n",
    "print(\"-\"*100)\n",
    "\"\"\"\n",
    "for lst in range(d.shape[0]):\n",
    "    for num in range(d.shape[1]):\n",
    "        for nume in range(d.shape[2]):\n",
    "            if d[(lst,num,nume)] == d_max:\n",
    "                f[(lst,num,nume)] = 100\n",
    "            elif d[(lst,num,nume)] == d_min:\n",
    "                f[(lst,num,nume)] = 0\n",
    "            elif d[(lst,num,nume)] == d_mean:\n",
    "                f[(lst,num,nume)] = 50\n",
    "            elif d[(lst,num,nume)] > d_min and d[(lst,num,nume)] <  d_mean:\n",
    "                f[(lst,num,nume)] = 25\n",
    "            elif d[(lst,num,nume)] < d_max and d[(lst,num,nume)] >  d_mean: \n",
    "                f[(lst,num,nume)] = 75\n",
    "\n",
    "\n",
    "# comparacion y adicion de numpy\n",
    "#f_copia = 25 * (d > d_min) * (d < d_mean) + 75 * (d < d_max) * (d > d_mean) + 0 * (d == d_min) + 100 * (d == d_max)\n",
    "#f_copia\n"
   ]
  },
  {
   "cell_type": "code",
   "execution_count": 42,
   "metadata": {},
   "outputs": [
    {
     "name": "stdout",
     "output_type": "stream",
     "text": [
      "[[[ 25.  75.  75.  25.  75.]\n",
      "  [ 75.  25.  75.  75.  25.]\n",
      "  [100.  25.   0.  75.  25.]]\n",
      "\n",
      " [[ 25.  75.  75.  25.  75.]\n",
      "  [ 75.  25.  75.  75.  25.]\n",
      "  [100.  25.   0.  75.  25.]]]\n"
     ]
    }
   ],
   "source": [
    "\"\"\"\n",
    "#17. Print d and f. Do you have your expected f?\n",
    "For instance, if your d is:\n",
    "array([[[1.85836099, 1.67064465, 1.62576044, 1.40243961, 1.88454931],\n",
    "        [1.75354326, 1.69403643, 1.36729252, 1.61415071, 1.12104981],\n",
    "        [1.72201435, 1.1862918 , 1.87078449, 1.7726778 , 1.88180042]],\n",
    "\n",
    "       [[1.44747908, 1.31673383, 1.02000951, 1.52218947, 1.97066381],\n",
    "        [1.79129243, 1.74983003, 1.96028037, 1.85166831, 1.65450881],\n",
    "        [1.18068344, 1.9587381 , 1.00656599, 1.93402165, 1.73514584]]])\n",
    "\n",
    "Your f should be:\n",
    "array([[[ 75.,  75.,  75.,  25.,  75.],\n",
    "        [ 75.,  75.,  25.,  25.,  25.],\n",
    "        [ 75.,  25.,  75.,  75.,  75.]],\n",
    "\n",
    "       [[ 25.,  25.,  25.,  25., 100.],\n",
    "        [ 75.,  75.,  75.,  75.,  75.],\n",
    "        [ 25.,  75.,   0.,  75.,  75.]]])\n",
    "\"\"\"\n",
    "print(f)"
   ]
  },
  {
   "cell_type": "code",
   "execution_count": 40,
   "metadata": {},
   "outputs": [
    {
     "ename": "ValueError",
     "evalue": "could not convert string to float: 'B'",
     "output_type": "error",
     "traceback": [
      "\u001b[0;31m---------------------------------------------------------------------------\u001b[0m",
      "\u001b[0;31mValueError\u001b[0m                                Traceback (most recent call last)",
      "\u001b[0;32m<ipython-input-40-01622c3d6e11>\u001b[0m in \u001b[0;36m<module>\u001b[0;34m\u001b[0m\n\u001b[1;32m     24\u001b[0m                 \u001b[0mf\u001b[0m\u001b[0;34m[\u001b[0m\u001b[0;34m(\u001b[0m\u001b[0mx\u001b[0m\u001b[0;34m,\u001b[0m\u001b[0my\u001b[0m\u001b[0;34m,\u001b[0m\u001b[0mz\u001b[0m\u001b[0;34m)\u001b[0m\u001b[0;34m]\u001b[0m \u001b[0;34m=\u001b[0m \u001b[0;34m'C'\u001b[0m\u001b[0;34m\u001b[0m\u001b[0;34m\u001b[0m\u001b[0m\n\u001b[1;32m     25\u001b[0m             \u001b[0;32melif\u001b[0m \u001b[0md\u001b[0m\u001b[0;34m[\u001b[0m\u001b[0;34m(\u001b[0m\u001b[0mx\u001b[0m\u001b[0;34m,\u001b[0m\u001b[0my\u001b[0m\u001b[0;34m,\u001b[0m\u001b[0mz\u001b[0m\u001b[0;34m)\u001b[0m\u001b[0;34m]\u001b[0m \u001b[0;34m>\u001b[0m \u001b[0md_min\u001b[0m \u001b[0;32mand\u001b[0m \u001b[0md\u001b[0m\u001b[0;34m[\u001b[0m\u001b[0;34m(\u001b[0m\u001b[0mx\u001b[0m\u001b[0;34m,\u001b[0m\u001b[0my\u001b[0m\u001b[0;34m,\u001b[0m\u001b[0mz\u001b[0m\u001b[0;34m)\u001b[0m\u001b[0;34m]\u001b[0m \u001b[0;34m<\u001b[0m  \u001b[0md_mean\u001b[0m\u001b[0;34m:\u001b[0m\u001b[0;34m\u001b[0m\u001b[0;34m\u001b[0m\u001b[0m\n\u001b[0;32m---> 26\u001b[0;31m                 \u001b[0mf\u001b[0m\u001b[0;34m[\u001b[0m\u001b[0;34m(\u001b[0m\u001b[0mx\u001b[0m\u001b[0;34m,\u001b[0m\u001b[0my\u001b[0m\u001b[0;34m,\u001b[0m\u001b[0mz\u001b[0m\u001b[0;34m)\u001b[0m\u001b[0;34m]\u001b[0m \u001b[0;34m=\u001b[0m \u001b[0;34m'B'\u001b[0m\u001b[0;34m\u001b[0m\u001b[0;34m\u001b[0m\u001b[0m\n\u001b[0m\u001b[1;32m     27\u001b[0m             \u001b[0;32melif\u001b[0m \u001b[0md\u001b[0m\u001b[0;34m[\u001b[0m\u001b[0;34m(\u001b[0m\u001b[0mx\u001b[0m\u001b[0;34m,\u001b[0m\u001b[0my\u001b[0m\u001b[0;34m,\u001b[0m\u001b[0mz\u001b[0m\u001b[0;34m)\u001b[0m\u001b[0;34m]\u001b[0m \u001b[0;34m<\u001b[0m \u001b[0md_max\u001b[0m \u001b[0;32mand\u001b[0m \u001b[0md\u001b[0m\u001b[0;34m[\u001b[0m\u001b[0;34m(\u001b[0m\u001b[0mx\u001b[0m\u001b[0;34m,\u001b[0m\u001b[0my\u001b[0m\u001b[0;34m,\u001b[0m\u001b[0mz\u001b[0m\u001b[0;34m)\u001b[0m\u001b[0;34m]\u001b[0m \u001b[0;34m>\u001b[0m  \u001b[0md_mean\u001b[0m\u001b[0;34m:\u001b[0m\u001b[0;34m\u001b[0m\u001b[0;34m\u001b[0m\u001b[0m\n\u001b[1;32m     28\u001b[0m                 \u001b[0mf\u001b[0m\u001b[0;34m[\u001b[0m\u001b[0;34m(\u001b[0m\u001b[0mx\u001b[0m\u001b[0;34m,\u001b[0m\u001b[0my\u001b[0m\u001b[0;34m,\u001b[0m\u001b[0mz\u001b[0m\u001b[0;34m)\u001b[0m\u001b[0;34m]\u001b[0m \u001b[0;34m=\u001b[0m \u001b[0;34m'D'\u001b[0m\u001b[0;34m\u001b[0m\u001b[0;34m\u001b[0m\u001b[0m\n",
      "\u001b[0;31mValueError\u001b[0m: could not convert string to float: 'B'"
     ]
    }
   ],
   "source": [
    "\"\"\"\n",
    "#18. Bonus question: instead of using numbers (i.e. 0, 25, 50, 75, and 100), how to use string values \n",
    "(\"A\", \"B\", \"C\", \"D\", and \"E\") to label the array elements? You are expecting the result to be:\n",
    "array([[[ 'D',  'D',  'D',  'B',  'D'],\n",
    "        [ 'D',  'D',  'B',  'B',  'B'],\n",
    "        [ 'D',  'B',  'D',  'D',  'D']],\n",
    "\n",
    "       [[ 'B',  'B',  'B',  'B',  'E'],\n",
    "        [ 'D',  'D',  'D',  'D',  'D'],\n",
    "        [ 'B',  'D',   'A',  'D', 'D']]])\n",
    "Again, you don't need Numpy in this question.\n",
    "\"\"\"\n",
    "#f_copia = 'B' * (d > d_min) * (d < d_mean) + 'D' * (d < d_max) * (d > d_mean) + 'A' * (d == d_min) + 'E' * (d == d_max)\n",
    "#print('')\n",
    "# tres vectores determinados por x,y,z\n",
    "for x in range(d.shape[0]):\n",
    "    for y in range(d.shape[1]):\n",
    "        for z in range(d.shape[2]):\n",
    "            if d[(x,y,z)] == d_max:\n",
    "                f[(x,y,z)]= 'E'\n",
    "                \n",
    "            elif d[(x,y,z)] == d_min:\n",
    "                f[(x,y,z)] = 'A'\n",
    "                \n",
    "            elif d[(x,y,z)] == d_mean:\n",
    "                f[(x,y,z)] = 'C'\n",
    "                \n",
    "            elif d[(x,y,z)] > d_min and d[(x,y,z)] <  d_mean:\n",
    "                f[(x,y,z)] = 'B'\n",
    "                \n",
    "            elif d[(x,y,z)] < d_max and d[(x,y,z)] >  d_mean: \n",
    "                f[(x,y,z)] = 'D'"
   ]
  },
  {
   "cell_type": "code",
   "execution_count": 36,
   "metadata": {},
   "outputs": [
    {
     "data": {
      "text/plain": [
       "(2, 3, 5)"
      ]
     },
     "execution_count": 36,
     "metadata": {},
     "output_type": "execute_result"
    }
   ],
   "source": [
    "d.shape"
   ]
  }
 ],
 "metadata": {
  "kernelspec": {
   "display_name": "Python 3",
   "language": "python",
   "name": "python3"
  },
  "language_info": {
   "codemirror_mode": {
    "name": "ipython",
    "version": 3
   },
   "file_extension": ".py",
   "mimetype": "text/x-python",
   "name": "python",
   "nbconvert_exporter": "python",
   "pygments_lexer": "ipython3",
   "version": "3.7.3"
  }
 },
 "nbformat": 4,
 "nbformat_minor": 2
}
