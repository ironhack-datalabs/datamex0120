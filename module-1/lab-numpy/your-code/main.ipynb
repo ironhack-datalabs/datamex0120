{
 "cells": [
  {
   "cell_type": "code",
   "execution_count": 121,
   "metadata": {},
   "outputs": [],
   "source": [
    "#1. Import the NUMPY package under the name np.\n",
    "import numpy as np"
   ]
  },
  {
   "cell_type": "code",
   "execution_count": 122,
   "metadata": {},
   "outputs": [
    {
     "name": "stdout",
     "output_type": "stream",
     "text": [
      "1.18.1\n"
     ]
    }
   ],
   "source": [
    "#2. Print the NUMPY version and the configuration.\n",
    "print(np.version.version)\n"
   ]
  },
  {
   "cell_type": "code",
   "execution_count": 123,
   "metadata": {},
   "outputs": [
    {
     "data": {
      "text/plain": [
       "array([[[0.2880793 , 0.52386247, 0.9281335 , 0.866005  , 0.44268496],\n",
       "        [0.22202324, 0.6315064 , 0.45625656, 0.90650461, 0.73352522],\n",
       "        [0.26039694, 0.30472293, 0.17299813, 0.33934089, 0.8676548 ]],\n",
       "\n",
       "       [[0.91687885, 0.15352307, 0.92831257, 0.00495912, 0.11576028],\n",
       "        [0.32570119, 0.77042825, 0.89158693, 0.77703822, 0.61198079],\n",
       "        [0.76476481, 0.61560996, 0.01545197, 0.06728802, 0.8800298 ]]])"
      ]
     },
     "execution_count": 123,
     "metadata": {},
     "output_type": "execute_result"
    }
   ],
   "source": [
    "#3. Generate a 2x3x5 3-dimensional array with random values. Assign the array to variable \"a\"\n",
    "# Challenge: there are at least three easy ways that use numpy to generate random arrays. How many ways can you find?\n",
    "a = np.random.random((2,3,5))\n",
    "#4. Print a.\n",
    "a"
   ]
  },
  {
   "cell_type": "code",
   "execution_count": 124,
   "metadata": {},
   "outputs": [
    {
     "data": {
      "text/plain": [
       "array([[[1., 1., 1.],\n",
       "        [1., 1., 1.]],\n",
       "\n",
       "       [[1., 1., 1.],\n",
       "        [1., 1., 1.]],\n",
       "\n",
       "       [[1., 1., 1.],\n",
       "        [1., 1., 1.]],\n",
       "\n",
       "       [[1., 1., 1.],\n",
       "        [1., 1., 1.]],\n",
       "\n",
       "       [[1., 1., 1.],\n",
       "        [1., 1., 1.]]])"
      ]
     },
     "execution_count": 124,
     "metadata": {},
     "output_type": "execute_result"
    }
   ],
   "source": [
    "#5. Create a 5x2x3 3-dimensional array with all values equaling 1.\n",
    "#Assign the array to variable \"b\"\n",
    "bp = np.random.random((5,2,3))\n",
    "b = np.full_like(bp,1)\n",
    "\n",
    "\n",
    "#6. Print b\n",
    "b"
   ]
  },
  {
   "cell_type": "code",
   "execution_count": 125,
   "metadata": {},
   "outputs": [
    {
     "data": {
      "text/plain": [
       "False"
      ]
     },
     "execution_count": 125,
     "metadata": {},
     "output_type": "execute_result"
    }
   ],
   "source": [
    "#7. Do a and b have the same size? How do you prove that in Python code?\n",
    "np.array_equal(a,b)\n",
    "# esta funcion de python compara la forma de dos arrays y devuelve un booleano"
   ]
  },
  {
   "cell_type": "code",
   "execution_count": 126,
   "metadata": {},
   "outputs": [
    {
     "ename": "ValueError",
     "evalue": "operands could not be broadcast together with shapes (5,2,3) (3,5) ",
     "output_type": "error",
     "traceback": [
      "\u001b[0;31m---------------------------------------------------------------------------\u001b[0m",
      "\u001b[0;31mValueError\u001b[0m                                Traceback (most recent call last)",
      "\u001b[0;32m<ipython-input-126-eb457c754621>\u001b[0m in \u001b[0;36m<module>\u001b[0;34m\u001b[0m\n\u001b[1;32m      1\u001b[0m \u001b[0;31m#8. Are you able to add a and b? Why or why not?\u001b[0m\u001b[0;34m\u001b[0m\u001b[0;34m\u001b[0m\u001b[0;34m\u001b[0m\u001b[0m\n\u001b[0;32m----> 2\u001b[0;31m \u001b[0msum\u001b[0m\u001b[0;34m(\u001b[0m\u001b[0ma\u001b[0m\u001b[0;34m,\u001b[0m\u001b[0mb\u001b[0m\u001b[0;34m)\u001b[0m\u001b[0;34m\u001b[0m\u001b[0;34m\u001b[0m\u001b[0m\n\u001b[0m\u001b[1;32m      3\u001b[0m \u001b[0;31m# no ya que el tamaño de los valores en el shape de las matrices tienen que ser iguales para poder ser sumadas\u001b[0m\u001b[0;34m\u001b[0m\u001b[0;34m\u001b[0m\u001b[0;34m\u001b[0m\u001b[0m\n",
      "\u001b[0;31mValueError\u001b[0m: operands could not be broadcast together with shapes (5,2,3) (3,5) "
     ]
    }
   ],
   "source": [
    "#8. Are you able to add a and b? Why or why not?\n",
    "sum(a,b)\n",
    "# no ya que el tamaño de los valores en el shape de las matrices tienen que ser iguales para poder ser sumadas"
   ]
  },
  {
   "cell_type": "code",
   "execution_count": 127,
   "metadata": {},
   "outputs": [
    {
     "data": {
      "text/plain": [
       "(2, 3, 5)"
      ]
     },
     "execution_count": 127,
     "metadata": {},
     "output_type": "execute_result"
    }
   ],
   "source": [
    "#9. Transpose b so that it has the same structure of a (i.e. become a 2x3x5 array). Assign the transposed array to varialbe \"c\".\n",
    "\n",
    "c = np.transpose(b,(1,2,0))\n",
    "c.shape"
   ]
  },
  {
   "cell_type": "code",
   "execution_count": 128,
   "metadata": {},
   "outputs": [
    {
     "data": {
      "text/plain": [
       "array([[[2.20495815, 1.67738555, 2.85644607, 1.87096413, 1.55844524],\n",
       "        [1.54772444, 2.40193465, 2.34784349, 2.68354283, 2.34550601],\n",
       "        [2.02516175, 1.92033289, 1.18845009, 1.40662891, 2.7476846 ]],\n",
       "\n",
       "       [[2.20495815, 1.67738555, 2.85644607, 1.87096413, 1.55844524],\n",
       "        [1.54772444, 2.40193465, 2.34784349, 2.68354283, 2.34550601],\n",
       "        [2.02516175, 1.92033289, 1.18845009, 1.40662891, 2.7476846 ]]])"
      ]
     },
     "execution_count": 128,
     "metadata": {},
     "output_type": "execute_result"
    }
   ],
   "source": [
    "#10. Try to add a and c. Now it should work. Assign the sum to varialbe \"d\". But why does it work now?\n",
    "d = sum(a,c)\n",
    "d\n",
    "# porque los valores dentro de las matrices estan organizadas de la misma forma"
   ]
  },
  {
   "cell_type": "code",
   "execution_count": 129,
   "metadata": {},
   "outputs": [
    {
     "name": "stdout",
     "output_type": "stream",
     "text": [
      "[[[0.2880793  0.52386247 0.9281335  0.866005   0.44268496]\n",
      "  [0.22202324 0.6315064  0.45625656 0.90650461 0.73352522]\n",
      "  [0.26039694 0.30472293 0.17299813 0.33934089 0.8676548 ]]\n",
      "\n",
      " [[0.91687885 0.15352307 0.92831257 0.00495912 0.11576028]\n",
      "  [0.32570119 0.77042825 0.89158693 0.77703822 0.61198079]\n",
      "  [0.76476481 0.61560996 0.01545197 0.06728802 0.8800298 ]]]\n",
      "----------------------------------------------------------------------------------------------------\n",
      "[[[2.20495815 1.67738555 2.85644607 1.87096413 1.55844524]\n",
      "  [1.54772444 2.40193465 2.34784349 2.68354283 2.34550601]\n",
      "  [2.02516175 1.92033289 1.18845009 1.40662891 2.7476846 ]]\n",
      "\n",
      " [[2.20495815 1.67738555 2.85644607 1.87096413 1.55844524]\n",
      "  [1.54772444 2.40193465 2.34784349 2.68354283 2.34550601]\n",
      "  [2.02516175 1.92033289 1.18845009 1.40662891 2.7476846 ]]]\n"
     ]
    }
   ],
   "source": [
    "#11. Print a and d. Notice the difference and relation of the two array in terms of the values? Explain.\n",
    "print(a)\n",
    "print(\"-\"*100)\n",
    "print(d)\n",
    "# el valor de e es la suma de las matrices de a y c"
   ]
  },
  {
   "cell_type": "code",
   "execution_count": 130,
   "metadata": {},
   "outputs": [
    {
     "data": {
      "text/plain": [
       "array([[[0.2880793 , 0.52386247, 0.9281335 , 0.866005  , 0.44268496],\n",
       "        [0.22202324, 0.6315064 , 0.45625656, 0.90650461, 0.73352522],\n",
       "        [0.26039694, 0.30472293, 0.17299813, 0.33934089, 0.8676548 ]],\n",
       "\n",
       "       [[0.91687885, 0.15352307, 0.92831257, 0.00495912, 0.11576028],\n",
       "        [0.32570119, 0.77042825, 0.89158693, 0.77703822, 0.61198079],\n",
       "        [0.76476481, 0.61560996, 0.01545197, 0.06728802, 0.8800298 ]]])"
      ]
     },
     "execution_count": 130,
     "metadata": {},
     "output_type": "execute_result"
    }
   ],
   "source": [
    "#12. Multiply a and c. Assign the result to e.\n",
    "e = a * c\n",
    "e"
   ]
  },
  {
   "cell_type": "code",
   "execution_count": 131,
   "metadata": {},
   "outputs": [
    {
     "name": "stdout",
     "output_type": "stream",
     "text": [
      "[[[0.2880793  0.52386247 0.9281335  0.866005   0.44268496]\n",
      "  [0.22202324 0.6315064  0.45625656 0.90650461 0.73352522]\n",
      "  [0.26039694 0.30472293 0.17299813 0.33934089 0.8676548 ]]\n",
      "\n",
      " [[0.91687885 0.15352307 0.92831257 0.00495912 0.11576028]\n",
      "  [0.32570119 0.77042825 0.89158693 0.77703822 0.61198079]\n",
      "  [0.76476481 0.61560996 0.01545197 0.06728802 0.8800298 ]]]\n",
      "----------------------------------------------------------------------------------------------------\n",
      "[[[0.2880793  0.52386247 0.9281335  0.866005   0.44268496]\n",
      "  [0.22202324 0.6315064  0.45625656 0.90650461 0.73352522]\n",
      "  [0.26039694 0.30472293 0.17299813 0.33934089 0.8676548 ]]\n",
      "\n",
      " [[0.91687885 0.15352307 0.92831257 0.00495912 0.11576028]\n",
      "  [0.32570119 0.77042825 0.89158693 0.77703822 0.61198079]\n",
      "  [0.76476481 0.61560996 0.01545197 0.06728802 0.8800298 ]]]\n"
     ]
    },
    {
     "data": {
      "text/plain": [
       "True"
      ]
     },
     "execution_count": 131,
     "metadata": {},
     "output_type": "execute_result"
    }
   ],
   "source": [
    "#13. Does e equal to a? Why or why not?\n",
    "print(e)\n",
    "print(\"-\"*100)\n",
    "print(a)\n",
    "np.array_equal(a,e)\n",
    "# son iguales ya que la multiplicacion de los valores en la matriz \n",
    "# a multiplicados por los valores 1 de la matriz c dan el mismo resultado"
   ]
  },
  {
   "cell_type": "code",
   "execution_count": 132,
   "metadata": {},
   "outputs": [
    {
     "name": "stdout",
     "output_type": "stream",
     "text": [
      "2.856446070973438\n",
      "1.1884500939563076\n",
      "2.0522005868428326\n"
     ]
    }
   ],
   "source": [
    "#14. Identify the max, min, and mean values in d. Assign those values to variables \"d_max\", \"d_min\", and \"d_mean\"\n",
    "d_max = d.max()\n",
    "d_min = d.min()\n",
    "d_mean = d.mean()\n",
    "print(d_max)\n",
    "print(d_min)\n",
    "print(d_mean)"
   ]
  },
  {
   "cell_type": "code",
   "execution_count": 133,
   "metadata": {},
   "outputs": [
    {
     "data": {
      "text/plain": [
       "array([[[0.2880793 , 0.52386247, 0.9281335 , 0.866005  , 0.44268496],\n",
       "        [0.22202324, 0.6315064 , 0.45625656, 0.90650461, 0.73352522],\n",
       "        [0.26039694, 0.30472293, 0.17299813, 0.33934089, 0.8676548 ]],\n",
       "\n",
       "       [[0.91687885, 0.15352307, 0.92831257, 0.00495912, 0.11576028],\n",
       "        [0.32570119, 0.77042825, 0.89158693, 0.77703822, 0.61198079],\n",
       "        [0.76476481, 0.61560996, 0.01545197, 0.06728802, 0.8800298 ]]])"
      ]
     },
     "execution_count": 133,
     "metadata": {},
     "output_type": "execute_result"
    }
   ],
   "source": [
    "#15. Now we want to label the values in d. First create an empty array \"f\" with the same shape (i.e. 2x3x5) as d using `np.empty`.\n",
    "f = np.empty([2,3,5])\n",
    "f"
   ]
  },
  {
   "cell_type": "code",
   "execution_count": 134,
   "metadata": {},
   "outputs": [
    {
     "name": "stdout",
     "output_type": "stream",
     "text": [
      "[[[2.20495815 1.67738555 2.85644607 1.87096413 1.55844524]\n",
      "  [1.54772444 2.40193465 2.34784349 2.68354283 2.34550601]\n",
      "  [2.02516175 1.92033289 1.18845009 1.40662891 2.7476846 ]]\n",
      "\n",
      " [[2.20495815 1.67738555 2.85644607 1.87096413 1.55844524]\n",
      "  [1.54772444 2.40193465 2.34784349 2.68354283 2.34550601]\n",
      "  [2.02516175 1.92033289 1.18845009 1.40662891 2.7476846 ]]]\n",
      "----------------------------------------------------------------------------------------------------\n",
      "[[[0.2880793  0.52386247 0.9281335  0.866005   0.44268496]\n",
      "  [0.22202324 0.6315064  0.45625656 0.90650461 0.73352522]\n",
      "  [0.26039694 0.30472293 0.17299813 0.33934089 0.8676548 ]]\n",
      "\n",
      " [[0.91687885 0.15352307 0.92831257 0.00495912 0.11576028]\n",
      "  [0.32570119 0.77042825 0.89158693 0.77703822 0.61198079]\n",
      "  [0.76476481 0.61560996 0.01545197 0.06728802 0.8800298 ]]]\n"
     ]
    }
   ],
   "source": [
    "print(d)\n",
    "print(\"-\"*100)\n",
    "print(f)"
   ]
  },
  {
   "cell_type": "code",
   "execution_count": 135,
   "metadata": {},
   "outputs": [
    {
     "name": "stdout",
     "output_type": "stream",
     "text": [
      "[[[0.2880793  0.52386247 0.9281335  0.866005   0.44268496]\n",
      "  [0.22202324 0.6315064  0.45625656 0.90650461 0.73352522]\n",
      "  [0.26039694 0.30472293 0.17299813 0.33934089 0.8676548 ]]\n",
      "\n",
      " [[0.91687885 0.15352307 0.92831257 0.00495912 0.11576028]\n",
      "  [0.32570119 0.77042825 0.89158693 0.77703822 0.61198079]\n",
      "  [0.76476481 0.61560996 0.01545197 0.06728802 0.8800298 ]]]\n",
      "----------------------------------------------------------------------------------------------------\n"
     ]
    }
   ],
   "source": [
    "\"\"\"\n",
    "#16. Populate the values in f. For each value in d, if it's larger than d_min but smaller than d_mean, assign 25 to the corresponding value in f.\n",
    "If a value in d is larger than d_mean but smaller than d_max, assign 75 to the corresponding value in f.\n",
    "If a value equals to d_mean, assign 50 to the corresponding value in f.\n",
    "Assign 0 to the corresponding value(s) in f for d_min in d.\n",
    "Assign 100 to the corresponding value(s) in f for d_max in d.\n",
    "In the end, f should have only the following values: 0, 25, 50, 75, and 100.\n",
    "Note: you don't have to use Numpy in this question.\n",
    "\"\"\"\n",
    "print(f)\n",
    "print(\"-\"*100)\n",
    "for each_lst in d:\n",
    "    for each_num in each_lst:\n",
    "        for e in each_num:\n",
    "            if e > d_min and e < d_mean:\n",
    "                f.fill(25)\n",
    "            elif e > d_mean and e < d_max:\n",
    "                f.fill(75)\n",
    "            elif e == d_mean:\n",
    "                f.fill(50)\n",
    "            elif e == d_min:\n",
    "                f.fill(0)\n",
    "            elif e == d_max:\n",
    "                f.fill(100)"
   ]
  },
  {
   "cell_type": "code",
   "execution_count": 136,
   "metadata": {},
   "outputs": [
    {
     "data": {
      "text/plain": [
       "'\\n#17. Print d and f. Do you have your expected f?\\nFor instance, if your d is:\\narray([[[1.85836099, 1.67064465, 1.62576044, 1.40243961, 1.88454931],\\n        [1.75354326, 1.69403643, 1.36729252, 1.61415071, 1.12104981],\\n        [1.72201435, 1.1862918 , 1.87078449, 1.7726778 , 1.88180042]],\\n\\n       [[1.44747908, 1.31673383, 1.02000951, 1.52218947, 1.97066381],\\n        [1.79129243, 1.74983003, 1.96028037, 1.85166831, 1.65450881],\\n        [1.18068344, 1.9587381 , 1.00656599, 1.93402165, 1.73514584]]])\\n\\nYour f should be:\\narray([[[ 75.,  75.,  75.,  25.,  75.],\\n        [ 75.,  75.,  25.,  25.,  25.],\\n        [ 75.,  25.,  75.,  75.,  75.]],\\n\\n       [[ 25.,  25.,  25.,  25., 100.],\\n        [ 75.,  75.,  75.,  75.,  75.],\\n        [ 25.,  75.,   0.,  75.,  75.]]])\\n'"
      ]
     },
     "execution_count": 136,
     "metadata": {},
     "output_type": "execute_result"
    }
   ],
   "source": [
    "\"\"\"\n",
    "#17. Print d and f. Do you have your expected f?\n",
    "For instance, if your d is:\n",
    "array([[[1.85836099, 1.67064465, 1.62576044, 1.40243961, 1.88454931],\n",
    "        [1.75354326, 1.69403643, 1.36729252, 1.61415071, 1.12104981],\n",
    "        [1.72201435, 1.1862918 , 1.87078449, 1.7726778 , 1.88180042]],\n",
    "\n",
    "       [[1.44747908, 1.31673383, 1.02000951, 1.52218947, 1.97066381],\n",
    "        [1.79129243, 1.74983003, 1.96028037, 1.85166831, 1.65450881],\n",
    "        [1.18068344, 1.9587381 , 1.00656599, 1.93402165, 1.73514584]]])\n",
    "\n",
    "Your f should be:\n",
    "array([[[ 75.,  75.,  75.,  25.,  75.],\n",
    "        [ 75.,  75.,  25.,  25.,  25.],\n",
    "        [ 75.,  25.,  75.,  75.,  75.]],\n",
    "\n",
    "       [[ 25.,  25.,  25.,  25., 100.],\n",
    "        [ 75.,  75.,  75.,  75.,  75.],\n",
    "        [ 25.,  75.,   0.,  75.,  75.]]])\n",
    "\"\"\"\n"
   ]
  },
  {
   "cell_type": "code",
   "execution_count": 137,
   "metadata": {},
   "outputs": [
    {
     "data": {
      "text/plain": [
       "'\\n#18. Bonus question: instead of using numbers (i.e. 0, 25, 50, 75, and 100), how to use string values \\n(\"A\", \"B\", \"C\", \"D\", and \"E\") to label the array elements? You are expecting the result to be:\\narray([[[ \\'D\\',  \\'D\\',  \\'D\\',  \\'B\\',  \\'D\\'],\\n        [ \\'D\\',  \\'D\\',  \\'B\\',  \\'B\\',  \\'B\\'],\\n        [ \\'D\\',  \\'B\\',  \\'D\\',  \\'D\\',  \\'D\\']],\\n\\n       [[ \\'B\\',  \\'B\\',  \\'B\\',  \\'B\\',  \\'E\\'],\\n        [ \\'D\\',  \\'D\\',  \\'D\\',  \\'D\\',  \\'D\\'],\\n        [ \\'B\\',  \\'D\\',   \\'A\\',  \\'D\\', \\'D\\']]])\\nAgain, you don\\'t need Numpy in this question.\\n'"
      ]
     },
     "execution_count": 137,
     "metadata": {},
     "output_type": "execute_result"
    }
   ],
   "source": [
    "\"\"\"\n",
    "#18. Bonus question: instead of using numbers (i.e. 0, 25, 50, 75, and 100), how to use string values \n",
    "(\"A\", \"B\", \"C\", \"D\", and \"E\") to label the array elements? You are expecting the result to be:\n",
    "array([[[ 'D',  'D',  'D',  'B',  'D'],\n",
    "        [ 'D',  'D',  'B',  'B',  'B'],\n",
    "        [ 'D',  'B',  'D',  'D',  'D']],\n",
    "\n",
    "       [[ 'B',  'B',  'B',  'B',  'E'],\n",
    "        [ 'D',  'D',  'D',  'D',  'D'],\n",
    "        [ 'B',  'D',   'A',  'D', 'D']]])\n",
    "Again, you don't need Numpy in this question.\n",
    "\"\"\""
   ]
  }
 ],
 "metadata": {
  "kernelspec": {
   "display_name": "Python 3",
   "language": "python",
   "name": "python3"
  },
  "language_info": {
   "codemirror_mode": {
    "name": "ipython",
    "version": 3
   },
   "file_extension": ".py",
   "mimetype": "text/x-python",
   "name": "python",
   "nbconvert_exporter": "python",
   "pygments_lexer": "ipython3",
   "version": "3.7.3"
  }
 },
 "nbformat": 4,
 "nbformat_minor": 2
}
