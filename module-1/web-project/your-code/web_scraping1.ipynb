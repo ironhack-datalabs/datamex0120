{
 "cells": [
  {
   "cell_type": "markdown",
   "metadata": {},
   "source": [
    "# Verb forms"
   ]
  },
  {
   "cell_type": "code",
   "execution_count": 2,
   "metadata": {},
   "outputs": [],
   "source": [
    "#Importando librerías\n",
    "\n",
    "import requests\n",
    "import pandas as pd\n",
    "import urllib3.request\n",
    "import numpy as np\n",
    "from bs4 import BeautifulSoup as bs"
   ]
  },
  {
   "cell_type": "code",
   "execution_count": 3,
   "metadata": {},
   "outputs": [
    {
     "data": {
      "text/plain": [
       "b'<!DOCTYPE html>\\n<!--[if lt IE 8]>      <html class=\"no-js lt-ie8\"> <![endif]-->\\n<!--[if IE 8]>         <html class=\"no-js ie8\"> <![endif]-->\\n<!--[if IE 9]>         <html class=\"no-js ie9\"> <![endif]-->\\n<!--[if gt IE 10]><!-->\\n<html class=\"no-js\">\\n<!--<![endif]-->\\n<head>\\n<script async src=\"//pagead2.googlesyndication.com/pagead/js/adsbygoogle.js\"></script>\\n<script>\\n  (adsbygoogle = window.adsbygoogle || []).push({\\n    google_ad_client: \"ca-pub-8275425214945991\",\\n    enable_page_level_ads: true\\n  });\\n</script>\\n    <meta charset=\"utf-8\">  \\n<title>English Grammar, 1000 English Verbs Forms, learn e'"
      ]
     },
     "execution_count": 3,
     "metadata": {},
     "output_type": "execute_result"
    }
   ],
   "source": [
    "#Haciendo request\n",
    "\n",
    "url='https://www.worldclasslearning.com/english/five-verb-forms.html'\n",
    "html=requests.get(url).content\n",
    "html[0:600]"
   ]
  },
  {
   "cell_type": "code",
   "execution_count": 4,
   "metadata": {},
   "outputs": [],
   "source": [
    "#Obteniendo sopa\n",
    "\n",
    "soup=bs(html,'lxml')\n",
    "#soup"
   ]
  },
  {
   "cell_type": "code",
   "execution_count": 5,
   "metadata": {},
   "outputs": [
    {
     "name": "stdout",
     "output_type": "stream",
     "text": [
      "['S.No.', 'Base Form', 'Past Form', 'Past Participle    Form', 's / es/ ies ', '‘ing’ form']\n"
     ]
    }
   ],
   "source": [
    "#Seleccionando el tag que contiene la información relevante\n",
    "\n",
    "verbs = [element.text for element in soup.find_all('td')]\n",
    "\n",
    "#Seleccionando solo lo necesario\n",
    "\n",
    "verbs.pop(0)\n",
    "#print(verbs)\n",
    "\n",
    "#Eliminando los nombres de las columnas que quedaron como strings dentro de la lista de verbos\n",
    "\n",
    "words_to_drop=verbs[0:6]\n",
    "print(words_to_drop)\n",
    "for word in words_to_drop:\n",
    "    verbs.remove(word)"
   ]
  },
  {
   "cell_type": "code",
   "execution_count": 6,
   "metadata": {},
   "outputs": [
    {
     "name": "stdout",
     "output_type": "stream",
     "text": [
      "6000\n",
      "['1', 'abash', 'abashed', 'abashed', 'abashes', 'abashing', '2', 'abate', 'abated', 'abated', 'abates', 'abating', '3', 'abide', 'abode', 'abode', 'abides', 'abiding', '4', 'absorb', 'absorbed', 'absorbed', 'absorbs', 'absorbing', '5', 'accept', 'accepted', 'accepted', 'accepts', 'accepting', '6', 'accompany', 'accompanied', 'accompanied', 'accompanies', 'accompanying', '7', 'ache', 'ached', 'ached', 'aches', 'aching', '8', 'achieve', 'achieved', 'achieved', 'achieves', 'achieving', '9', 'acquire', 'acquired', 'acquired', 'acquires', 'acquiring', '10', 'act', 'acted', 'acted', 'acts', 'acting', '11', 'add', 'added', 'added', 'adds', 'adding', '12', 'address', 'addressed', 'addressed', 'addresses', 'addressing', '13', 'adjust', 'adjusted', 'adjusted', 'adjusts', 'adjusting', '14', 'admire', 'admired', 'admired', 'admires', 'admiring', '15', 'admit', 'admitted', 'admitted', 'admits', 'admitting', '16', 'advise', 'advised', 'advised', 'advises', 'advising', '17', 'afford', 'afforded', 'afforded']\n"
     ]
    }
   ],
   "source": [
    "#Revisando que esté limpio el contenido de la lista\n",
    "\n",
    "print(len(verbs))\n",
    "print(verbs[0:100])"
   ]
  },
  {
   "cell_type": "code",
   "execution_count": 7,
   "metadata": {},
   "outputs": [],
   "source": [
    "#Creando listas para cada columna del dataframe que queremos\n",
    "\n",
    "#Esta es innecesaria en el dataframe solo es para hacer el conteo original\n",
    "#verb_id=[verbs[n] for n in range(0, 6000, 6)]\n",
    "#print(verb_id[0:10])"
   ]
  },
  {
   "cell_type": "code",
   "execution_count": 8,
   "metadata": {},
   "outputs": [
    {
     "name": "stdout",
     "output_type": "stream",
     "text": [
      "1000\n",
      "['abash', 'abate', 'abide', 'absorb', 'accept', 'accompany', 'ache', 'achieve', 'acquire', 'act']\n"
     ]
    }
   ],
   "source": [
    "base_form=[verbs[n] for n in range(1, 6000, 6)]\n",
    "print(len(base_form))\n",
    "print(base_form[0:10])"
   ]
  },
  {
   "cell_type": "code",
   "execution_count": 9,
   "metadata": {},
   "outputs": [
    {
     "name": "stdout",
     "output_type": "stream",
     "text": [
      "1000\n",
      "['abashed', 'abated', 'abode', 'absorbed', 'accepted', 'accompanied', 'ached', 'achieved', 'acquired', 'acted']\n"
     ]
    }
   ],
   "source": [
    "past_form=[verbs[n] for n in range(2, 6000, 6)]\n",
    "print(len(past_form))\n",
    "print(past_form[0:10])"
   ]
  },
  {
   "cell_type": "code",
   "execution_count": 10,
   "metadata": {},
   "outputs": [
    {
     "name": "stdout",
     "output_type": "stream",
     "text": [
      "1000\n",
      "['abashed', 'abated', 'abode', 'absorbed', 'accepted', 'accompanied', 'ached', 'achieved', 'acquired', 'acted']\n"
     ]
    }
   ],
   "source": [
    "past_participle=[verbs[n] for n in range(3, 6000, 6)]\n",
    "print(len(past_participle))\n",
    "print(past_participle[0:10])"
   ]
  },
  {
   "cell_type": "code",
   "execution_count": 11,
   "metadata": {},
   "outputs": [
    {
     "name": "stdout",
     "output_type": "stream",
     "text": [
      "1000\n",
      "['abashes', 'abates', 'abides', 'absorbs', 'accepts', 'accompanies', 'aches', 'achieves', 'acquires', 'acts']\n"
     ]
    }
   ],
   "source": [
    "s_es_ies=[verbs[n] for n in range(4, 6000, 6)]\n",
    "print(len(s_es_ies))\n",
    "print(s_es_ies[0:10])"
   ]
  },
  {
   "cell_type": "code",
   "execution_count": 12,
   "metadata": {},
   "outputs": [
    {
     "name": "stdout",
     "output_type": "stream",
     "text": [
      "1000\n",
      "['abashing', 'abating', 'abiding', 'absorbing', 'accepting', 'accompanying', 'aching', 'achieving', 'acquiring', 'acting']\n"
     ]
    }
   ],
   "source": [
    "ing_form=[verbs[n] for n in range(5, 6000, 6)]\n",
    "print(len(ing_form))\n",
    "print(ing_form[0:10])"
   ]
  },
  {
   "cell_type": "code",
   "execution_count": 13,
   "metadata": {},
   "outputs": [],
   "source": [
    "#Haciendo un diccionario con las listas que creamos anteriormente\n",
    "\n",
    "dict = {'base_form': base_form, 'past_form': past_form, 'past_participle': past_participle, 's_es_ies': s_es_ies, 'ing_form': ing_form}  \n",
    "\n",
    "#Creando dataframe del diccionario\n",
    "\n",
    "df_verbs= pd.DataFrame(dict) \n",
    "#df_verbs.set_index('verb_id', inplace=True)"
   ]
  },
  {
   "cell_type": "code",
   "execution_count": 14,
   "metadata": {},
   "outputs": [
    {
     "data": {
      "text/html": [
       "<div>\n",
       "<style scoped>\n",
       "    .dataframe tbody tr th:only-of-type {\n",
       "        vertical-align: middle;\n",
       "    }\n",
       "\n",
       "    .dataframe tbody tr th {\n",
       "        vertical-align: top;\n",
       "    }\n",
       "\n",
       "    .dataframe thead th {\n",
       "        text-align: right;\n",
       "    }\n",
       "</style>\n",
       "<table border=\"1\" class=\"dataframe\">\n",
       "  <thead>\n",
       "    <tr style=\"text-align: right;\">\n",
       "      <th></th>\n",
       "      <th>base_form</th>\n",
       "      <th>past_form</th>\n",
       "      <th>past_participle</th>\n",
       "      <th>s_es_ies</th>\n",
       "      <th>ing_form</th>\n",
       "    </tr>\n",
       "  </thead>\n",
       "  <tbody>\n",
       "    <tr>\n",
       "      <th>0</th>\n",
       "      <td>abash</td>\n",
       "      <td>abashed</td>\n",
       "      <td>abashed</td>\n",
       "      <td>abashes</td>\n",
       "      <td>abashing</td>\n",
       "    </tr>\n",
       "    <tr>\n",
       "      <th>1</th>\n",
       "      <td>abate</td>\n",
       "      <td>abated</td>\n",
       "      <td>abated</td>\n",
       "      <td>abates</td>\n",
       "      <td>abating</td>\n",
       "    </tr>\n",
       "    <tr>\n",
       "      <th>2</th>\n",
       "      <td>abide</td>\n",
       "      <td>abode</td>\n",
       "      <td>abode</td>\n",
       "      <td>abides</td>\n",
       "      <td>abiding</td>\n",
       "    </tr>\n",
       "    <tr>\n",
       "      <th>3</th>\n",
       "      <td>absorb</td>\n",
       "      <td>absorbed</td>\n",
       "      <td>absorbed</td>\n",
       "      <td>absorbs</td>\n",
       "      <td>absorbing</td>\n",
       "    </tr>\n",
       "    <tr>\n",
       "      <th>4</th>\n",
       "      <td>accept</td>\n",
       "      <td>accepted</td>\n",
       "      <td>accepted</td>\n",
       "      <td>accepts</td>\n",
       "      <td>accepting</td>\n",
       "    </tr>\n",
       "  </tbody>\n",
       "</table>\n",
       "</div>"
      ],
      "text/plain": [
       "  base_form past_form past_participle s_es_ies   ing_form\n",
       "0     abash   abashed         abashed  abashes   abashing\n",
       "1     abate    abated          abated   abates    abating\n",
       "2     abide     abode           abode   abides    abiding\n",
       "3    absorb  absorbed        absorbed  absorbs  absorbing\n",
       "4    accept  accepted        accepted  accepts  accepting"
      ]
     },
     "execution_count": 14,
     "metadata": {},
     "output_type": "execute_result"
    }
   ],
   "source": [
    "df_verbs.head()"
   ]
  },
  {
   "cell_type": "code",
   "execution_count": 15,
   "metadata": {},
   "outputs": [],
   "source": [
    "#Exportando el dataframe a csv\n",
    "\n",
    "df_verbs.to_csv('verb_forms.csv')"
   ]
  },
  {
   "cell_type": "code",
   "execution_count": 16,
   "metadata": {},
   "outputs": [
    {
     "data": {
      "text/html": [
       "<div>\n",
       "<style scoped>\n",
       "    .dataframe tbody tr th:only-of-type {\n",
       "        vertical-align: middle;\n",
       "    }\n",
       "\n",
       "    .dataframe tbody tr th {\n",
       "        vertical-align: top;\n",
       "    }\n",
       "\n",
       "    .dataframe thead th {\n",
       "        text-align: right;\n",
       "    }\n",
       "</style>\n",
       "<table border=\"1\" class=\"dataframe\">\n",
       "  <thead>\n",
       "    <tr style=\"text-align: right;\">\n",
       "      <th></th>\n",
       "      <th>base_form</th>\n",
       "      <th>past_form</th>\n",
       "      <th>past_participle</th>\n",
       "      <th>s_es_ies</th>\n",
       "      <th>ing_form</th>\n",
       "    </tr>\n",
       "  </thead>\n",
       "  <tbody>\n",
       "    <tr>\n",
       "      <th>986</th>\n",
       "      <td>win</td>\n",
       "      <td>won</td>\n",
       "      <td>won</td>\n",
       "      <td>wins</td>\n",
       "      <td>winning</td>\n",
       "    </tr>\n",
       "  </tbody>\n",
       "</table>\n",
       "</div>"
      ],
      "text/plain": [
       "    base_form past_form past_participle s_es_ies ing_form\n",
       "986       win       won             won     wins  winning"
      ]
     },
     "execution_count": 16,
     "metadata": {},
     "output_type": "execute_result"
    }
   ],
   "source": [
    "#Probando buscar verbos en el data frame\n",
    "\n",
    "#busca en columna específica\n",
    "\n",
    "df_verbs[df_verbs['base_form'].str.contains(r'\\bwin\\b')]"
   ]
  },
  {
   "cell_type": "code",
   "execution_count": 17,
   "metadata": {},
   "outputs": [
    {
     "data": {
      "text/html": [
       "<div>\n",
       "<style scoped>\n",
       "    .dataframe tbody tr th:only-of-type {\n",
       "        vertical-align: middle;\n",
       "    }\n",
       "\n",
       "    .dataframe tbody tr th {\n",
       "        vertical-align: top;\n",
       "    }\n",
       "\n",
       "    .dataframe thead th {\n",
       "        text-align: right;\n",
       "    }\n",
       "</style>\n",
       "<table border=\"1\" class=\"dataframe\">\n",
       "  <thead>\n",
       "    <tr style=\"text-align: right;\">\n",
       "      <th></th>\n",
       "      <th>base_form</th>\n",
       "      <th>past_form</th>\n",
       "      <th>past_participle</th>\n",
       "      <th>s_es_ies</th>\n",
       "      <th>ing_form</th>\n",
       "    </tr>\n",
       "  </thead>\n",
       "  <tbody>\n",
       "    <tr>\n",
       "      <th>702</th>\n",
       "      <td>rewind</td>\n",
       "      <td>rewound</td>\n",
       "      <td>rewound</td>\n",
       "      <td>rewinds</td>\n",
       "      <td>rewinding</td>\n",
       "    </tr>\n",
       "    <tr>\n",
       "      <th>987</th>\n",
       "      <td>wind</td>\n",
       "      <td>wound</td>\n",
       "      <td>wound</td>\n",
       "      <td>winds</td>\n",
       "      <td>winding</td>\n",
       "    </tr>\n",
       "  </tbody>\n",
       "</table>\n",
       "</div>"
      ],
      "text/plain": [
       "    base_form past_form past_participle s_es_ies   ing_form\n",
       "702    rewind   rewound         rewound  rewinds  rewinding\n",
       "987      wind     wound           wound    winds    winding"
      ]
     },
     "execution_count": 17,
     "metadata": {},
     "output_type": "execute_result"
    }
   ],
   "source": [
    "#busca lista de verbos en columna específica\n",
    "\n",
    "unalista=['win','wound','rewind']\n",
    "df_verbs[df_verbs['past_form'].str.contains('|'.join(unalista))] "
   ]
  },
  {
   "cell_type": "code",
   "execution_count": 21,
   "metadata": {},
   "outputs": [
    {
     "data": {
      "text/html": [
       "<div>\n",
       "<style scoped>\n",
       "    .dataframe tbody tr th:only-of-type {\n",
       "        vertical-align: middle;\n",
       "    }\n",
       "\n",
       "    .dataframe tbody tr th {\n",
       "        vertical-align: top;\n",
       "    }\n",
       "\n",
       "    .dataframe thead th {\n",
       "        text-align: right;\n",
       "    }\n",
       "</style>\n",
       "<table border=\"1\" class=\"dataframe\">\n",
       "  <thead>\n",
       "    <tr style=\"text-align: right;\">\n",
       "      <th></th>\n",
       "      <th>base_form</th>\n",
       "      <th>past_form</th>\n",
       "      <th>past_participle</th>\n",
       "      <th>s_es_ies</th>\n",
       "      <th>ing_form</th>\n",
       "    </tr>\n",
       "  </thead>\n",
       "  <tbody>\n",
       "    <tr>\n",
       "      <th>702</th>\n",
       "      <td>rewind</td>\n",
       "      <td>rewound</td>\n",
       "      <td>rewound</td>\n",
       "      <td>rewinds</td>\n",
       "      <td>rewinding</td>\n",
       "    </tr>\n",
       "    <tr>\n",
       "      <th>986</th>\n",
       "      <td>win</td>\n",
       "      <td>won</td>\n",
       "      <td>won</td>\n",
       "      <td>wins</td>\n",
       "      <td>winning</td>\n",
       "    </tr>\n",
       "    <tr>\n",
       "      <th>987</th>\n",
       "      <td>wind</td>\n",
       "      <td>wound</td>\n",
       "      <td>wound</td>\n",
       "      <td>winds</td>\n",
       "      <td>winding</td>\n",
       "    </tr>\n",
       "  </tbody>\n",
       "</table>\n",
       "</div>"
      ],
      "text/plain": [
       "    base_form past_form past_participle s_es_ies   ing_form\n",
       "702    rewind   rewound         rewound  rewinds  rewinding\n",
       "986       win       won             won     wins    winning\n",
       "987      wind     wound           wound    winds    winding"
      ]
     },
     "execution_count": 21,
     "metadata": {},
     "output_type": "execute_result"
    }
   ],
   "source": [
    "#busca en todas las columnas la lista de verbos, con match busca al inicio de string\n",
    "\n",
    "lamask=np.column_stack([df_verbs[col].str.match(verb) for col in df_verbs for verb in unalista])\n",
    "df_verbs.loc[lamask.any(axis=1)]"
   ]
  },
  {
   "cell_type": "code",
   "execution_count": null,
   "metadata": {},
   "outputs": [],
   "source": []
  }
 ],
 "metadata": {
  "kernelspec": {
   "display_name": "Python 3",
   "language": "python",
   "name": "python3"
  },
  "language_info": {
   "codemirror_mode": {
    "name": "ipython",
    "version": 3
   },
   "file_extension": ".py",
   "mimetype": "text/x-python",
   "name": "python",
   "nbconvert_exporter": "python",
   "pygments_lexer": "ipython3",
   "version": "3.7.3"
  }
 },
 "nbformat": 4,
 "nbformat_minor": 2
}
