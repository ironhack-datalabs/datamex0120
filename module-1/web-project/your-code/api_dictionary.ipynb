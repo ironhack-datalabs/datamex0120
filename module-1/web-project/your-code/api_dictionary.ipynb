{
 "cells": [
  {
   "cell_type": "code",
   "execution_count": 2,
   "metadata": {},
   "outputs": [],
   "source": [
    "#Importando librerias\n",
    "\n",
    "import requests\n",
    "import json\n",
    "import pandas as pd\n",
    "from pandas.io.json import json_normalize"
   ]
  },
  {
   "cell_type": "code",
   "execution_count": 3,
   "metadata": {},
   "outputs": [
    {
     "name": "stdout",
     "output_type": "stream",
     "text": [
      "code 200\n",
      "\n"
     ]
    }
   ],
   "source": [
    "#Haciendo request\n",
    "\n",
    "app_id = '7f3799d9'\n",
    "app_key = '07d636d3ecf38d32b2ffbf299a13e871'\n",
    "language = 'en'\n",
    "word_id = 'effort'\n",
    "url = 'https://od-api.oxforddictionaries.com:443/api/v2/entries/'  + language + '/'  + word_id.lower()\n",
    "\n",
    "# for url Normalized frequency NO LO OCUPO POR AHORA\n",
    "#urlFR = 'https://od-api.oxforddictionaries.com:443/api/v2/stats/frequency/word/'  + language + '/?corpus=nmc&lemma=' + word_id.lower()\n",
    "\n",
    "r = requests.get(url, headers = {'app_id' : app_id, 'app_key' : app_key})\n",
    "\n",
    "print(\"code {}\\n\".format(r.status_code))\n"
   ]
  },
  {
   "cell_type": "code",
   "execution_count": 14,
   "metadata": {},
   "outputs": [
    {
     "data": {
      "text/plain": [
       "{'id': 'effort',\n",
       " 'metadata': {'operation': 'retrieve',\n",
       "  'provider': 'Oxford University Press',\n",
       "  'schema': 'RetrieveEntry'},\n",
       " 'results': [{'id': 'effort',\n",
       "   'language': 'en-gb',\n",
       "   'lexicalEntries': [{'entries': [{'etymologies': ['late 15th century: from French, from Old French esforcier, based on Latin ex-‘out’ + fortis‘strong’'],\n",
       "       'senses': [{'constructions': [{'text': 'in an effort to'}],\n",
       "         'definitions': ['a vigorous or determined attempt'],\n",
       "         'examples': [{'text': '\\n              in an effort to reduce inflation, the government increased interest rates'}],\n",
       "         'id': 'm_en_gbus0313400.006',\n",
       "         'shortDefinitions': ['vigorous or determined attempt'],\n",
       "         'subsenses': [{'definitions': ['the result of an attempt'],\n",
       "           'examples': [{'text': 'he was a keen gardener, winning many prizes for his efforts'}],\n",
       "           'id': 'm_en_gbus0313400.009',\n",
       "           'shortDefinitions': ['result of attempt'],\n",
       "           'thesaurusLinks': [{'entry_id': 'effort',\n",
       "             'sense_id': 't_en_gb0004655.002'}]},\n",
       "          {'definitions': ['strenuous physical or mental exertion'],\n",
       "           'examples': [{'text': 'achieving independence requires some effort and self-discipline'}],\n",
       "           'id': 'm_en_gbus0313400.010',\n",
       "           'notes': [{'text': 'mass noun', 'type': 'grammaticalNote'}],\n",
       "           'shortDefinitions': ['strenuous exertion'],\n",
       "           'thesaurusLinks': [{'entry_id': 'effort',\n",
       "             'sense_id': 't_en_gb0004655.003'}]},\n",
       "          {'definitions': ['the activities of a group of people with a common purpose'],\n",
       "           'examples': [{'text': 'the war effort'}],\n",
       "           'id': 'm_en_gbus0313400.012',\n",
       "           'notes': [{'text': 'with modifier', 'type': 'grammaticalNote'}],\n",
       "           'shortDefinitions': ['activities of group with shared purpose']}],\n",
       "         'thesaurusLinks': [{'entry_id': 'effort',\n",
       "           'sense_id': 't_en_gb0004655.001'}]},\n",
       "        {'definitions': ['a force exerted by a machine or in a process.'],\n",
       "         'domains': [{'id': 'mechanics', 'text': 'Mechanics'}],\n",
       "         'id': 'm_en_gbus0313400.014',\n",
       "         'registers': [{'id': 'technical', 'text': 'Technical'}],\n",
       "         'shortDefinitions': ['force exerted by machine']}]}],\n",
       "     'language': 'en-gb',\n",
       "     'lexicalCategory': {'id': 'noun', 'text': 'Noun'},\n",
       "     'pronunciations': [{'audioFile': 'http://audio.oxforddictionaries.com/en/mp3/effort_gb_1.mp3',\n",
       "       'dialects': ['British English'],\n",
       "       'phoneticNotation': 'IPA',\n",
       "       'phoneticSpelling': 'ˈɛfət'}],\n",
       "     'text': 'effort'}],\n",
       "   'type': 'headword',\n",
       "   'word': 'effort'}],\n",
       " 'word': 'effort'}"
      ]
     },
     "execution_count": 14,
     "metadata": {},
     "output_type": "execute_result"
    }
   ],
   "source": [
    "#Obteniendo json\n",
    "\n",
    "a_dict = r.json()\n",
    "a_dict"
   ]
  },
  {
   "cell_type": "code",
   "execution_count": 13,
   "metadata": {},
   "outputs": [
    {
     "data": {
      "text/plain": [
       "[{'id': 'effort',\n",
       "  'language': 'en-gb',\n",
       "  'lexicalEntries': [{'entries': [{'etymologies': ['late 15th century: from French, from Old French esforcier, based on Latin ex-‘out’ + fortis‘strong’'],\n",
       "      'senses': [{'constructions': [{'text': 'in an effort to'}],\n",
       "        'definitions': ['a vigorous or determined attempt'],\n",
       "        'examples': [{'text': '\\n              in an effort to reduce inflation, the government increased interest rates'}],\n",
       "        'id': 'm_en_gbus0313400.006',\n",
       "        'shortDefinitions': ['vigorous or determined attempt'],\n",
       "        'subsenses': [{'definitions': ['the result of an attempt'],\n",
       "          'examples': [{'text': 'he was a keen gardener, winning many prizes for his efforts'}],\n",
       "          'id': 'm_en_gbus0313400.009',\n",
       "          'shortDefinitions': ['result of attempt'],\n",
       "          'thesaurusLinks': [{'entry_id': 'effort',\n",
       "            'sense_id': 't_en_gb0004655.002'}]},\n",
       "         {'definitions': ['strenuous physical or mental exertion'],\n",
       "          'examples': [{'text': 'achieving independence requires some effort and self-discipline'}],\n",
       "          'id': 'm_en_gbus0313400.010',\n",
       "          'notes': [{'text': 'mass noun', 'type': 'grammaticalNote'}],\n",
       "          'shortDefinitions': ['strenuous exertion'],\n",
       "          'thesaurusLinks': [{'entry_id': 'effort',\n",
       "            'sense_id': 't_en_gb0004655.003'}]},\n",
       "         {'definitions': ['the activities of a group of people with a common purpose'],\n",
       "          'examples': [{'text': 'the war effort'}],\n",
       "          'id': 'm_en_gbus0313400.012',\n",
       "          'notes': [{'text': 'with modifier', 'type': 'grammaticalNote'}],\n",
       "          'shortDefinitions': ['activities of group with shared purpose']}],\n",
       "        'thesaurusLinks': [{'entry_id': 'effort',\n",
       "          'sense_id': 't_en_gb0004655.001'}]},\n",
       "       {'definitions': ['a force exerted by a machine or in a process.'],\n",
       "        'domains': [{'id': 'mechanics', 'text': 'Mechanics'}],\n",
       "        'id': 'm_en_gbus0313400.014',\n",
       "        'registers': [{'id': 'technical', 'text': 'Technical'}],\n",
       "        'shortDefinitions': ['force exerted by machine']}]}],\n",
       "    'language': 'en-gb',\n",
       "    'lexicalCategory': {'id': 'noun', 'text': 'Noun'},\n",
       "    'pronunciations': [{'audioFile': 'http://audio.oxforddictionaries.com/en/mp3/effort_gb_1.mp3',\n",
       "      'dialects': ['British English'],\n",
       "      'phoneticNotation': 'IPA',\n",
       "      'phoneticSpelling': 'ˈɛfət'}],\n",
       "    'text': 'effort'}],\n",
       "  'type': 'headword',\n",
       "  'word': 'effort'}]"
      ]
     },
     "execution_count": 13,
     "metadata": {},
     "output_type": "execute_result"
    }
   ],
   "source": [
    "#La información que sirve está bajo el key de results que a su vez es otro diccionario, así que sacamos los keys para ir accediendo a los elementos\n",
    "\n",
    "results = a_dict['results']\n",
    "results"
   ]
  },
  {
   "cell_type": "code",
   "execution_count": 15,
   "metadata": {},
   "outputs": [
    {
     "data": {
      "text/plain": [
       "[dict_keys(['id', 'language', 'lexicalEntries', 'type', 'word'])]"
      ]
     },
     "execution_count": 15,
     "metadata": {},
     "output_type": "execute_result"
    }
   ],
   "source": [
    "#Sacamos los keys de 'results'\n",
    "\n",
    "keys_results = [i.keys() for i in results] \n",
    "keys_results"
   ]
  },
  {
   "cell_type": "code",
   "execution_count": 9,
   "metadata": {},
   "outputs": [
    {
     "data": {
      "text/plain": [
       "['a vigorous or determined attempt']"
      ]
     },
     "execution_count": 9,
     "metadata": {},
     "output_type": "execute_result"
    }
   ],
   "source": [
    "#Accediendo solo a la definición no.1 u_u\n",
    "\n",
    "#a_dict['results'][0]['lexicalEntries'][0]['entries'][0]['senses'][0]['definitions']\n",
    "results[0]['lexicalEntries'][0]['entries'][0]['senses'][0]['definitions']"
   ]
  },
  {
   "cell_type": "code",
   "execution_count": 10,
   "metadata": {},
   "outputs": [
    {
     "data": {
      "text/plain": [
       "{'text': '\\n              in an effort to reduce inflation, the government increased interest rates'}"
      ]
     },
     "execution_count": 10,
     "metadata": {},
     "output_type": "execute_result"
    }
   ],
   "source": [
    "#Para acceder a los ejemplos de la definición 1\n",
    "\n",
    "results[0]['lexicalEntries'][0]['entries'][0]['senses'][0]['examples'][0]"
   ]
  },
  {
   "cell_type": "code",
   "execution_count": 46,
   "metadata": {},
   "outputs": [],
   "source": [
    "#Probando en función con la búsqueda de varias palabras\n",
    "\n",
    "word_id=['born', 'into', 'lovers', 'existence']\n",
    "\n",
    "def busqueda(word_id):\n",
    "    definition=[]\n",
    "    #example=[]\n",
    "    \n",
    "    url = 'https://od-api.oxforddictionaries.com:443/api/v2/entries/'  + language + '/'  + word_id.lower()\n",
    "    \n",
    "    #request \n",
    "    r = requests.get(url, headers = {'app_id' : app_id, 'app_key' : app_key})\n",
    "    print(\"code {}\\n\".format(r.status_code))\n",
    "    \n",
    "    #json\n",
    "    a_dict = r.json()\n",
    "    a_dict\n",
    "    \n",
    "    #busqueda dentro del json para la definicion y ejemplo\n",
    "    \n",
    "    definition.append(a_dict['results'][0]['lexicalEntries'][0]['entries'][0]['senses'][0]['definitions'])\n",
    "    #example.append(a_dict['results'][0]['lexicalEntries'][0]['entries'][0]['senses'][0]['examples'][0])\n",
    "    \n",
    "    return definition #, example "
   ]
  },
  {
   "cell_type": "code",
   "execution_count": 47,
   "metadata": {},
   "outputs": [
    {
     "name": "stdout",
     "output_type": "stream",
     "text": [
      "code 200\n",
      "\n",
      "born [['existing as a result of birth']]\n",
      "code 200\n",
      "\n",
      "into [['expressing movement or action with the result that someone or something becomes enclosed or surrounded by something else']]\n",
      "code 404\n",
      "\n",
      "Key error\n",
      "code 200\n",
      "\n",
      "existence [['the fact or state of living or having objective reality']]\n"
     ]
    }
   ],
   "source": [
    "for word in word_id:\n",
    "    try:\n",
    "        definition=busqueda(word)\n",
    "        print(word,definition)\n",
    "    except:\n",
    "        print('Key error')"
   ]
  },
  {
   "cell_type": "code",
   "execution_count": null,
   "metadata": {},
   "outputs": [],
   "source": [
    "# Al final no fue tan fácil depurar la información que necesitaba porque la estructura no es la misma para todas las palabras."
   ]
  }
 ],
 "metadata": {
  "kernelspec": {
   "display_name": "Python 3",
   "language": "python",
   "name": "python3"
  },
  "language_info": {
   "codemirror_mode": {
    "name": "ipython",
    "version": 3
   },
   "file_extension": ".py",
   "mimetype": "text/x-python",
   "name": "python",
   "nbconvert_exporter": "python",
   "pygments_lexer": "ipython3",
   "version": "3.7.3"
  }
 },
 "nbformat": 4,
 "nbformat_minor": 4
}
