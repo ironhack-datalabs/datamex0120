{
 "cells": [
  {
   "cell_type": "code",
   "execution_count": 78,
   "metadata": {},
   "outputs": [],
   "source": [
    "import requests\n",
    "import pandas as pd\n",
    "from pandas.io.json import json_normalize\n",
    "import re"
   ]
  },
  {
   "cell_type": "markdown",
   "metadata": {},
   "source": [
    "# Leyendo csv de los datos historicos"
   ]
  },
  {
   "cell_type": "code",
   "execution_count": 79,
   "metadata": {},
   "outputs": [
    {
     "data": {
      "text/html": [
       "<div>\n",
       "<style scoped>\n",
       "    .dataframe tbody tr th:only-of-type {\n",
       "        vertical-align: middle;\n",
       "    }\n",
       "\n",
       "    .dataframe tbody tr th {\n",
       "        vertical-align: top;\n",
       "    }\n",
       "\n",
       "    .dataframe thead th {\n",
       "        text-align: right;\n",
       "    }\n",
       "</style>\n",
       "<table border=\"1\" class=\"dataframe\">\n",
       "  <thead>\n",
       "    <tr style=\"text-align: right;\">\n",
       "      <th></th>\n",
       "      <th>index</th>\n",
       "      <th>Date</th>\n",
       "      <th>Price</th>\n",
       "      <th>Open</th>\n",
       "      <th>High</th>\n",
       "      <th>Low</th>\n",
       "      <th>Vol.</th>\n",
       "      <th>Change %</th>\n",
       "    </tr>\n",
       "  </thead>\n",
       "  <tbody>\n",
       "    <tr>\n",
       "      <th>1122</th>\n",
       "      <td>4</td>\n",
       "      <td>2020-01-20</td>\n",
       "      <td>166.87</td>\n",
       "      <td>166.92</td>\n",
       "      <td>169.24</td>\n",
       "      <td>161.61</td>\n",
       "      <td>11.30M</td>\n",
       "      <td>-0.03%</td>\n",
       "    </tr>\n",
       "    <tr>\n",
       "      <th>1123</th>\n",
       "      <td>3</td>\n",
       "      <td>2020-01-21</td>\n",
       "      <td>169.41</td>\n",
       "      <td>166.87</td>\n",
       "      <td>169.79</td>\n",
       "      <td>165.53</td>\n",
       "      <td>11.52M</td>\n",
       "      <td>1.52%</td>\n",
       "    </tr>\n",
       "    <tr>\n",
       "      <th>1124</th>\n",
       "      <td>2</td>\n",
       "      <td>2020-01-22</td>\n",
       "      <td>168.13</td>\n",
       "      <td>169.41</td>\n",
       "      <td>171.27</td>\n",
       "      <td>166.19</td>\n",
       "      <td>11.30M</td>\n",
       "      <td>-0.76%</td>\n",
       "    </tr>\n",
       "    <tr>\n",
       "      <th>1125</th>\n",
       "      <td>1</td>\n",
       "      <td>2020-01-23</td>\n",
       "      <td>162.80</td>\n",
       "      <td>168.15</td>\n",
       "      <td>168.25</td>\n",
       "      <td>159.78</td>\n",
       "      <td>14.86M</td>\n",
       "      <td>-3.17%</td>\n",
       "    </tr>\n",
       "    <tr>\n",
       "      <th>1126</th>\n",
       "      <td>0</td>\n",
       "      <td>2020-01-24</td>\n",
       "      <td>163.08</td>\n",
       "      <td>162.80</td>\n",
       "      <td>164.27</td>\n",
       "      <td>155.65</td>\n",
       "      <td>15.33M</td>\n",
       "      <td>0.18%</td>\n",
       "    </tr>\n",
       "  </tbody>\n",
       "</table>\n",
       "</div>"
      ],
      "text/plain": [
       "      index       Date   Price    Open    High     Low    Vol. Change %\n",
       "1122      4 2020-01-20  166.87  166.92  169.24  161.61  11.30M   -0.03%\n",
       "1123      3 2020-01-21  169.41  166.87  169.79  165.53  11.52M    1.52%\n",
       "1124      2 2020-01-22  168.13  169.41  171.27  166.19  11.30M   -0.76%\n",
       "1125      1 2020-01-23  162.80  168.15  168.25  159.78  14.86M   -3.17%\n",
       "1126      0 2020-01-24  163.08  162.80  164.27  155.65  15.33M    0.18%"
      ]
     },
     "execution_count": 79,
     "metadata": {},
     "output_type": "execute_result"
    }
   ],
   "source": [
    "# precio de etherium por dia desde el 24 de dic de 2016 hasta el 24 de enero de 2020\n",
    "csv = pd.read_csv('Ethereum Historical Data - Investing.com.csv')\n",
    "csv['Date'] = pd.to_datetime(csv['Date'], infer_datetime_format=True)\n",
    "csv_df = csv.sort_values(by='Date').reset_index()\n",
    "csv_df.tail(5)"
   ]
  },
  {
   "cell_type": "markdown",
   "metadata": {},
   "source": [
    "# request de la api de cryptocompare"
   ]
  },
  {
   "cell_type": "code",
   "execution_count": 80,
   "metadata": {
    "scrolled": true
   },
   "outputs": [],
   "source": [
    "# ultimas 1000 transacciones registradas en el mercado de etherium por dia, todos los precios son en usd\n",
    "response = requests.get('https://min-api.cryptocompare.com/data/v2/histoday?fsym=ETH&tsym=USD&limit=1126')\n",
    "read = response.json()\n",
    "high = []\n",
    "low = []\n",
    "open=[]\n",
    "close = []\n",
    "for i in read['Data']['Data']:\n",
    "    high.append(i['high'])\n",
    "    low.append(i['low'])\n",
    "    open.append(i['open'])\n",
    "    close.append(i['close'])"
   ]
  },
  {
   "cell_type": "code",
   "execution_count": 81,
   "metadata": {},
   "outputs": [
    {
     "data": {
      "text/html": [
       "<div>\n",
       "<style scoped>\n",
       "    .dataframe tbody tr th:only-of-type {\n",
       "        vertical-align: middle;\n",
       "    }\n",
       "\n",
       "    .dataframe tbody tr th {\n",
       "        vertical-align: top;\n",
       "    }\n",
       "\n",
       "    .dataframe thead th {\n",
       "        text-align: right;\n",
       "    }\n",
       "</style>\n",
       "<table border=\"1\" class=\"dataframe\">\n",
       "  <thead>\n",
       "    <tr style=\"text-align: right;\">\n",
       "      <th></th>\n",
       "      <th>OPEN</th>\n",
       "      <th>HIGH</th>\n",
       "      <th>LOW</th>\n",
       "      <th>Close</th>\n",
       "    </tr>\n",
       "  </thead>\n",
       "  <tbody>\n",
       "    <tr>\n",
       "      <th>1122</th>\n",
       "      <td>166.92</td>\n",
       "      <td>168.97</td>\n",
       "      <td>162.92</td>\n",
       "      <td>166.64</td>\n",
       "    </tr>\n",
       "    <tr>\n",
       "      <th>1123</th>\n",
       "      <td>166.64</td>\n",
       "      <td>171.09</td>\n",
       "      <td>166.56</td>\n",
       "      <td>169.09</td>\n",
       "    </tr>\n",
       "    <tr>\n",
       "      <th>1124</th>\n",
       "      <td>169.09</td>\n",
       "      <td>170.22</td>\n",
       "      <td>165.28</td>\n",
       "      <td>167.97</td>\n",
       "    </tr>\n",
       "    <tr>\n",
       "      <th>1125</th>\n",
       "      <td>167.97</td>\n",
       "      <td>164.02</td>\n",
       "      <td>160.41</td>\n",
       "      <td>162.51</td>\n",
       "    </tr>\n",
       "    <tr>\n",
       "      <th>1126</th>\n",
       "      <td>162.63</td>\n",
       "      <td>164.22</td>\n",
       "      <td>155.29</td>\n",
       "      <td>161.95</td>\n",
       "    </tr>\n",
       "  </tbody>\n",
       "</table>\n",
       "</div>"
      ],
      "text/plain": [
       "        OPEN    HIGH     LOW   Close\n",
       "1122  166.92  168.97  162.92  166.64\n",
       "1123  166.64  171.09  166.56  169.09\n",
       "1124  169.09  170.22  165.28  167.97\n",
       "1125  167.97  164.02  160.41  162.51\n",
       "1126  162.63  164.22  155.29  161.95"
      ]
     },
     "execution_count": 81,
     "metadata": {},
     "output_type": "execute_result"
    }
   ],
   "source": [
    "df = pd.DataFrame()\n",
    "df['OPEN'] = open\n",
    "df['HIGH'] = high\n",
    "df['LOW'] = low\n",
    "df['Close'] = close\n",
    "df.tail(5)"
   ]
  },
  {
   "cell_type": "markdown",
   "metadata": {},
   "source": [
    "# csv yahoo finances"
   ]
  },
  {
   "cell_type": "code",
   "execution_count": 82,
   "metadata": {},
   "outputs": [
    {
     "data": {
      "text/html": [
       "<div>\n",
       "<style scoped>\n",
       "    .dataframe tbody tr th:only-of-type {\n",
       "        vertical-align: middle;\n",
       "    }\n",
       "\n",
       "    .dataframe tbody tr th {\n",
       "        vertical-align: top;\n",
       "    }\n",
       "\n",
       "    .dataframe thead th {\n",
       "        text-align: right;\n",
       "    }\n",
       "</style>\n",
       "<table border=\"1\" class=\"dataframe\">\n",
       "  <thead>\n",
       "    <tr style=\"text-align: right;\">\n",
       "      <th></th>\n",
       "      <th>Date</th>\n",
       "      <th>Open</th>\n",
       "      <th>High</th>\n",
       "      <th>Low</th>\n",
       "      <th>Close</th>\n",
       "      <th>Adj Close</th>\n",
       "      <th>Volume</th>\n",
       "    </tr>\n",
       "  </thead>\n",
       "  <tbody>\n",
       "    <tr>\n",
       "      <th>1122</th>\n",
       "      <td>2020-01-20</td>\n",
       "      <td>166.904129</td>\n",
       "      <td>169.114883</td>\n",
       "      <td>162.331604</td>\n",
       "      <td>167.120514</td>\n",
       "      <td>167.120514</td>\n",
       "      <td>11144529787</td>\n",
       "    </tr>\n",
       "    <tr>\n",
       "      <th>1123</th>\n",
       "      <td>2020-01-21</td>\n",
       "      <td>167.060471</td>\n",
       "      <td>169.910110</td>\n",
       "      <td>165.819717</td>\n",
       "      <td>169.697159</td>\n",
       "      <td>169.697159</td>\n",
       "      <td>9789369362</td>\n",
       "    </tr>\n",
       "    <tr>\n",
       "      <th>1124</th>\n",
       "      <td>2020-01-22</td>\n",
       "      <td>169.608536</td>\n",
       "      <td>171.008698</td>\n",
       "      <td>166.774231</td>\n",
       "      <td>168.294159</td>\n",
       "      <td>168.294159</td>\n",
       "      <td>9209827927</td>\n",
       "    </tr>\n",
       "    <tr>\n",
       "      <th>1125</th>\n",
       "      <td>2020-01-23</td>\n",
       "      <td>168.295700</td>\n",
       "      <td>168.312241</td>\n",
       "      <td>160.295319</td>\n",
       "      <td>162.928558</td>\n",
       "      <td>162.928558</td>\n",
       "      <td>10396868698</td>\n",
       "    </tr>\n",
       "    <tr>\n",
       "      <th>1126</th>\n",
       "      <td>2020-01-24</td>\n",
       "      <td>162.950241</td>\n",
       "      <td>164.293701</td>\n",
       "      <td>156.750778</td>\n",
       "      <td>163.630173</td>\n",
       "      <td>163.630173</td>\n",
       "      <td>10699618304</td>\n",
       "    </tr>\n",
       "  </tbody>\n",
       "</table>\n",
       "</div>"
      ],
      "text/plain": [
       "           Date        Open        High         Low       Close   Adj Close  \\\n",
       "1122 2020-01-20  166.904129  169.114883  162.331604  167.120514  167.120514   \n",
       "1123 2020-01-21  167.060471  169.910110  165.819717  169.697159  169.697159   \n",
       "1124 2020-01-22  169.608536  171.008698  166.774231  168.294159  168.294159   \n",
       "1125 2020-01-23  168.295700  168.312241  160.295319  162.928558  162.928558   \n",
       "1126 2020-01-24  162.950241  164.293701  156.750778  163.630173  163.630173   \n",
       "\n",
       "           Volume  \n",
       "1122  11144529787  \n",
       "1123   9789369362  \n",
       "1124   9209827927  \n",
       "1125  10396868698  \n",
       "1126  10699618304  "
      ]
     },
     "execution_count": 82,
     "metadata": {},
     "output_type": "execute_result"
    }
   ],
   "source": [
    "yah = pd.read_csv('ETH-USD.csv')\n",
    "yah['Date'] = pd.to_datetime(yah['Date'], infer_datetime_format=True)\n",
    "yah.tail(5)"
   ]
  },
  {
   "cell_type": "code",
   "execution_count": 57,
   "metadata": {},
   "outputs": [
    {
     "data": {
      "text/plain": [
       "Index(['id', 'symbol', 'name', 'asset_platform_id', 'block_time_in_minutes',\n",
       "       'hashing_algorithm', 'categories', 'country_origin', 'genesis_date',\n",
       "       'sentiment_votes_up_percentage',\n",
       "       ...\n",
       "       'developer_data.total_issues', 'developer_data.closed_issues',\n",
       "       'developer_data.pull_requests_merged',\n",
       "       'developer_data.pull_request_contributors',\n",
       "       'developer_data.code_additions_deletions_4_weeks.additions',\n",
       "       'developer_data.code_additions_deletions_4_weeks.deletions',\n",
       "       'developer_data.commit_count_4_weeks',\n",
       "       'developer_data.last_4_weeks_commit_activity_series',\n",
       "       'public_interest_stats.alexa_rank',\n",
       "       'public_interest_stats.bing_matches'],\n",
       "      dtype='object', length=1354)"
      ]
     },
     "execution_count": 57,
     "metadata": {},
     "output_type": "execute_result"
    }
   ],
   "source": [
    "json_normalize(cg.get_coin_by_id('ethereum')).columns"
   ]
  },
  {
   "cell_type": "code",
   "execution_count": 113,
   "metadata": {},
   "outputs": [
    {
     "data": {
      "text/plain": [
       "Date         datetime64[ns]\n",
       "Price                object\n",
       "Open                 object\n",
       "High                 object\n",
       "Low                  object\n",
       "Close               float64\n",
       "Adj Close           float64\n",
       "Vol.                 object\n",
       "Volume                int64\n",
       "Change %             object\n",
       "dtype: object"
      ]
     },
     "execution_count": 113,
     "metadata": {},
     "output_type": "execute_result"
    }
   ],
   "source": [
    "data = csv_df.join(df['Close'])\n",
    "final = data.join(yah[['Adj Close', 'Volume']])\n",
    "final2 = final.drop('index', axis=1)\n",
    "final3 = final2[['Date','Price','Open','High','Low','Close','Adj Close','Vol.','Volume','Change %']]\n",
    "\n",
    "final3.dtypes"
   ]
  },
  {
   "cell_type": "code",
   "execution_count": 115,
   "metadata": {},
   "outputs": [],
   "source": [
    "final3['Price'] = final3['Price'].str.replace(',','')\n",
    "final3['Open']=final3['Open'].str.replace(',','')\n",
    "final3['High']=final3['High'].str.replace(',','')\n",
    "final3['Low']=final3['Low'].str.replace(',','')"
   ]
  },
  {
   "cell_type": "code",
   "execution_count": 127,
   "metadata": {},
   "outputs": [
    {
     "data": {
      "text/plain": [
       "Date         datetime64[ns]\n",
       "Price               float64\n",
       "Open                float64\n",
       "High                float64\n",
       "Low                 float64\n",
       "Close               float64\n",
       "Adj Close           float64\n",
       "Vol.                 object\n",
       "Volume                int64\n",
       "Change %             object\n",
       "dtype: object"
      ]
     },
     "execution_count": 127,
     "metadata": {},
     "output_type": "execute_result"
    }
   ],
   "source": [
    "final4 = final3.astype({'Price':'float64'})\n",
    "final4 = final4.astype({'Open':'float64'})\n",
    "final4 = final4.astype({'High':'float64'})\n",
    "final4 = final4.astype({'Low':'float64'})\n",
    "final4.dtypes"
   ]
  }
 ],
 "metadata": {
  "kernelspec": {
   "display_name": "Python 3",
   "language": "python",
   "name": "python3"
  },
  "language_info": {
   "codemirror_mode": {
    "name": "ipython",
    "version": 3
   },
   "file_extension": ".py",
   "mimetype": "text/x-python",
   "name": "python",
   "nbconvert_exporter": "python",
   "pygments_lexer": "ipython3",
   "version": "3.7.3"
  }
 },
 "nbformat": 4,
 "nbformat_minor": 2
}
