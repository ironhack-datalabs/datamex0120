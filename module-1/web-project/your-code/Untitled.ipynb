{
 "cells": [
  {
   "cell_type": "code",
   "execution_count": 1,
   "metadata": {},
   "outputs": [],
   "source": [
    "import requests\n",
    "import pandas as pd\n",
    "from pandas.io.json import json_normalize\n",
    "import re"
   ]
  },
  {
   "cell_type": "markdown",
   "metadata": {},
   "source": [
    "# Leyendo csv de los datos historicos"
   ]
  },
  {
   "cell_type": "code",
   "execution_count": 2,
   "metadata": {},
   "outputs": [
    {
     "data": {
      "text/html": [
       "<div>\n",
       "<style scoped>\n",
       "    .dataframe tbody tr th:only-of-type {\n",
       "        vertical-align: middle;\n",
       "    }\n",
       "\n",
       "    .dataframe tbody tr th {\n",
       "        vertical-align: top;\n",
       "    }\n",
       "\n",
       "    .dataframe thead th {\n",
       "        text-align: right;\n",
       "    }\n",
       "</style>\n",
       "<table border=\"1\" class=\"dataframe\">\n",
       "  <thead>\n",
       "    <tr style=\"text-align: right;\">\n",
       "      <th></th>\n",
       "      <th>index</th>\n",
       "      <th>Date</th>\n",
       "      <th>Price</th>\n",
       "      <th>Open</th>\n",
       "      <th>High</th>\n",
       "      <th>Low</th>\n",
       "      <th>Vol.</th>\n",
       "      <th>Change %</th>\n",
       "    </tr>\n",
       "  </thead>\n",
       "  <tbody>\n",
       "    <tr>\n",
       "      <th>1122</th>\n",
       "      <td>4</td>\n",
       "      <td>2020-01-20</td>\n",
       "      <td>166.87</td>\n",
       "      <td>166.92</td>\n",
       "      <td>169.24</td>\n",
       "      <td>161.61</td>\n",
       "      <td>11.30M</td>\n",
       "      <td>-0.03%</td>\n",
       "    </tr>\n",
       "    <tr>\n",
       "      <th>1123</th>\n",
       "      <td>3</td>\n",
       "      <td>2020-01-21</td>\n",
       "      <td>169.41</td>\n",
       "      <td>166.87</td>\n",
       "      <td>169.79</td>\n",
       "      <td>165.53</td>\n",
       "      <td>11.52M</td>\n",
       "      <td>1.52%</td>\n",
       "    </tr>\n",
       "    <tr>\n",
       "      <th>1124</th>\n",
       "      <td>2</td>\n",
       "      <td>2020-01-22</td>\n",
       "      <td>168.13</td>\n",
       "      <td>169.41</td>\n",
       "      <td>171.27</td>\n",
       "      <td>166.19</td>\n",
       "      <td>11.30M</td>\n",
       "      <td>-0.76%</td>\n",
       "    </tr>\n",
       "    <tr>\n",
       "      <th>1125</th>\n",
       "      <td>1</td>\n",
       "      <td>2020-01-23</td>\n",
       "      <td>162.80</td>\n",
       "      <td>168.15</td>\n",
       "      <td>168.25</td>\n",
       "      <td>159.78</td>\n",
       "      <td>14.86M</td>\n",
       "      <td>-3.17%</td>\n",
       "    </tr>\n",
       "    <tr>\n",
       "      <th>1126</th>\n",
       "      <td>0</td>\n",
       "      <td>2020-01-24</td>\n",
       "      <td>163.08</td>\n",
       "      <td>162.80</td>\n",
       "      <td>164.27</td>\n",
       "      <td>155.65</td>\n",
       "      <td>15.33M</td>\n",
       "      <td>0.18%</td>\n",
       "    </tr>\n",
       "  </tbody>\n",
       "</table>\n",
       "</div>"
      ],
      "text/plain": [
       "      index       Date   Price    Open    High     Low    Vol. Change %\n",
       "1122      4 2020-01-20  166.87  166.92  169.24  161.61  11.30M   -0.03%\n",
       "1123      3 2020-01-21  169.41  166.87  169.79  165.53  11.52M    1.52%\n",
       "1124      2 2020-01-22  168.13  169.41  171.27  166.19  11.30M   -0.76%\n",
       "1125      1 2020-01-23  162.80  168.15  168.25  159.78  14.86M   -3.17%\n",
       "1126      0 2020-01-24  163.08  162.80  164.27  155.65  15.33M    0.18%"
      ]
     },
     "execution_count": 2,
     "metadata": {},
     "output_type": "execute_result"
    }
   ],
   "source": [
    "# precio de etherium por dia desde el 24 de dic de 2016 hasta el 24 de enero de 2020\n",
    "csv = pd.read_csv('Ethereum Historical Data - Investing.com.csv')\n",
    "csv['Date'] = pd.to_datetime(csv['Date'], infer_datetime_format=True)\n",
    "csv_df = csv.sort_values(by='Date').reset_index()\n",
    "csv_df.tail(5)"
   ]
  },
  {
   "cell_type": "markdown",
   "metadata": {},
   "source": [
    "# request de la api de cryptocompare"
   ]
  },
  {
   "cell_type": "code",
   "execution_count": 3,
   "metadata": {
    "scrolled": true
   },
   "outputs": [],
   "source": [
    "# ultimas 1000 transacciones registradas en el mercado de etherium por dia, todos los precios son en usd\n",
    "response = requests.get('https://min-api.cryptocompare.com/data/v2/histoday?fsym=ETH&tsym=USD&limit=1126')\n",
    "read = response.json()\n",
    "high = []\n",
    "low = []\n",
    "open=[]\n",
    "close = []\n",
    "for i in read['Data']['Data']:\n",
    "    high.append(i['high'])\n",
    "    low.append(i['low'])\n",
    "    open.append(i['open'])\n",
    "    close.append(i['close'])"
   ]
  },
  {
   "cell_type": "code",
   "execution_count": 4,
   "metadata": {},
   "outputs": [
    {
     "data": {
      "text/html": [
       "<div>\n",
       "<style scoped>\n",
       "    .dataframe tbody tr th:only-of-type {\n",
       "        vertical-align: middle;\n",
       "    }\n",
       "\n",
       "    .dataframe tbody tr th {\n",
       "        vertical-align: top;\n",
       "    }\n",
       "\n",
       "    .dataframe thead th {\n",
       "        text-align: right;\n",
       "    }\n",
       "</style>\n",
       "<table border=\"1\" class=\"dataframe\">\n",
       "  <thead>\n",
       "    <tr style=\"text-align: right;\">\n",
       "      <th></th>\n",
       "      <th>Open</th>\n",
       "      <th>High</th>\n",
       "      <th>Low</th>\n",
       "      <th>Close</th>\n",
       "    </tr>\n",
       "  </thead>\n",
       "  <tbody>\n",
       "    <tr>\n",
       "      <th>1122</th>\n",
       "      <td>166.64</td>\n",
       "      <td>171.09</td>\n",
       "      <td>166.56</td>\n",
       "      <td>169.09</td>\n",
       "    </tr>\n",
       "    <tr>\n",
       "      <th>1123</th>\n",
       "      <td>169.09</td>\n",
       "      <td>170.22</td>\n",
       "      <td>165.28</td>\n",
       "      <td>167.97</td>\n",
       "    </tr>\n",
       "    <tr>\n",
       "      <th>1124</th>\n",
       "      <td>167.97</td>\n",
       "      <td>164.02</td>\n",
       "      <td>160.41</td>\n",
       "      <td>162.51</td>\n",
       "    </tr>\n",
       "    <tr>\n",
       "      <th>1125</th>\n",
       "      <td>162.51</td>\n",
       "      <td>163.75</td>\n",
       "      <td>158.77</td>\n",
       "      <td>162.40</td>\n",
       "    </tr>\n",
       "    <tr>\n",
       "      <th>1126</th>\n",
       "      <td>162.45</td>\n",
       "      <td>162.47</td>\n",
       "      <td>157.64</td>\n",
       "      <td>159.94</td>\n",
       "    </tr>\n",
       "  </tbody>\n",
       "</table>\n",
       "</div>"
      ],
      "text/plain": [
       "        Open    High     Low   Close\n",
       "1122  166.64  171.09  166.56  169.09\n",
       "1123  169.09  170.22  165.28  167.97\n",
       "1124  167.97  164.02  160.41  162.51\n",
       "1125  162.51  163.75  158.77  162.40\n",
       "1126  162.45  162.47  157.64  159.94"
      ]
     },
     "execution_count": 4,
     "metadata": {},
     "output_type": "execute_result"
    }
   ],
   "source": [
    "df = pd.DataFrame()\n",
    "df['Open'] = open\n",
    "df['High'] = high\n",
    "df['Low'] = low\n",
    "df['Close'] = close\n",
    "df.tail(5)"
   ]
  },
  {
   "cell_type": "markdown",
   "metadata": {},
   "source": [
    "# csv yahoo finances"
   ]
  },
  {
   "cell_type": "code",
   "execution_count": 5,
   "metadata": {},
   "outputs": [
    {
     "data": {
      "text/html": [
       "<div>\n",
       "<style scoped>\n",
       "    .dataframe tbody tr th:only-of-type {\n",
       "        vertical-align: middle;\n",
       "    }\n",
       "\n",
       "    .dataframe tbody tr th {\n",
       "        vertical-align: top;\n",
       "    }\n",
       "\n",
       "    .dataframe thead th {\n",
       "        text-align: right;\n",
       "    }\n",
       "</style>\n",
       "<table border=\"1\" class=\"dataframe\">\n",
       "  <thead>\n",
       "    <tr style=\"text-align: right;\">\n",
       "      <th></th>\n",
       "      <th>Date</th>\n",
       "      <th>Open</th>\n",
       "      <th>High</th>\n",
       "      <th>Low</th>\n",
       "      <th>Close</th>\n",
       "      <th>Adj Close</th>\n",
       "      <th>Volume</th>\n",
       "    </tr>\n",
       "  </thead>\n",
       "  <tbody>\n",
       "    <tr>\n",
       "      <th>1122</th>\n",
       "      <td>2020-01-20</td>\n",
       "      <td>166.904129</td>\n",
       "      <td>169.114883</td>\n",
       "      <td>162.331604</td>\n",
       "      <td>167.120514</td>\n",
       "      <td>167.120514</td>\n",
       "      <td>11144529787</td>\n",
       "    </tr>\n",
       "    <tr>\n",
       "      <th>1123</th>\n",
       "      <td>2020-01-21</td>\n",
       "      <td>167.060471</td>\n",
       "      <td>169.910110</td>\n",
       "      <td>165.819717</td>\n",
       "      <td>169.697159</td>\n",
       "      <td>169.697159</td>\n",
       "      <td>9789369362</td>\n",
       "    </tr>\n",
       "    <tr>\n",
       "      <th>1124</th>\n",
       "      <td>2020-01-22</td>\n",
       "      <td>169.608536</td>\n",
       "      <td>171.008698</td>\n",
       "      <td>166.774231</td>\n",
       "      <td>168.294159</td>\n",
       "      <td>168.294159</td>\n",
       "      <td>9209827927</td>\n",
       "    </tr>\n",
       "    <tr>\n",
       "      <th>1125</th>\n",
       "      <td>2020-01-23</td>\n",
       "      <td>168.295700</td>\n",
       "      <td>168.312241</td>\n",
       "      <td>160.295319</td>\n",
       "      <td>162.928558</td>\n",
       "      <td>162.928558</td>\n",
       "      <td>10396868698</td>\n",
       "    </tr>\n",
       "    <tr>\n",
       "      <th>1126</th>\n",
       "      <td>2020-01-24</td>\n",
       "      <td>162.950241</td>\n",
       "      <td>164.293701</td>\n",
       "      <td>156.750778</td>\n",
       "      <td>163.630173</td>\n",
       "      <td>163.630173</td>\n",
       "      <td>10699618304</td>\n",
       "    </tr>\n",
       "  </tbody>\n",
       "</table>\n",
       "</div>"
      ],
      "text/plain": [
       "           Date        Open        High         Low       Close   Adj Close  \\\n",
       "1122 2020-01-20  166.904129  169.114883  162.331604  167.120514  167.120514   \n",
       "1123 2020-01-21  167.060471  169.910110  165.819717  169.697159  169.697159   \n",
       "1124 2020-01-22  169.608536  171.008698  166.774231  168.294159  168.294159   \n",
       "1125 2020-01-23  168.295700  168.312241  160.295319  162.928558  162.928558   \n",
       "1126 2020-01-24  162.950241  164.293701  156.750778  163.630173  163.630173   \n",
       "\n",
       "           Volume  \n",
       "1122  11144529787  \n",
       "1123   9789369362  \n",
       "1124   9209827927  \n",
       "1125  10396868698  \n",
       "1126  10699618304  "
      ]
     },
     "execution_count": 5,
     "metadata": {},
     "output_type": "execute_result"
    }
   ],
   "source": [
    "yah = pd.read_csv('ETH-USD.csv')\n",
    "yah['Date'] = pd.to_datetime(yah['Date'], infer_datetime_format=True)\n",
    "yah.tail(5)"
   ]
  },
  {
   "cell_type": "code",
   "execution_count": 6,
   "metadata": {},
   "outputs": [
    {
     "data": {
      "text/plain": [
       "Date         datetime64[ns]\n",
       "Price                object\n",
       "Open                 object\n",
       "High                 object\n",
       "Low                  object\n",
       "Close               float64\n",
       "Adj Close           float64\n",
       "Vol.                 object\n",
       "Volume                int64\n",
       "Change %             object\n",
       "dtype: object"
      ]
     },
     "execution_count": 6,
     "metadata": {},
     "output_type": "execute_result"
    }
   ],
   "source": [
    "data = csv_df.join(df['Close'])\n",
    "final = data.join(yah[['Adj Close', 'Volume']])\n",
    "final2 = final.drop('index', axis=1)\n",
    "final3 = final2[['Date','Price','Open','High','Low','Close','Adj Close','Vol.','Volume','Change %']]\n",
    "\n",
    "final3.dtypes"
   ]
  },
  {
   "cell_type": "code",
   "execution_count": 7,
   "metadata": {},
   "outputs": [],
   "source": [
    "final3['Price'] = final3['Price'].str.replace(',','')\n",
    "final3['Open']=final3['Open'].str.replace(',','')\n",
    "final3['High']=final3['High'].str.replace(',','')\n",
    "final3['Low']=final3['Low'].str.replace(',','')"
   ]
  },
  {
   "cell_type": "code",
   "execution_count": 8,
   "metadata": {},
   "outputs": [
    {
     "data": {
      "text/plain": [
       "Date         datetime64[ns]\n",
       "Price               float64\n",
       "Open                float64\n",
       "High                float64\n",
       "Low                 float64\n",
       "Close               float64\n",
       "Adj Close           float64\n",
       "Vol.                 object\n",
       "Volume                int64\n",
       "Change %             object\n",
       "dtype: object"
      ]
     },
     "execution_count": 8,
     "metadata": {},
     "output_type": "execute_result"
    }
   ],
   "source": [
    "final3 = final3.astype({'Price':'float64'})\n",
    "final3 = final3.astype({'Open':'float64'})\n",
    "final3 = final3.astype({'High':'float64'})\n",
    "final3 = final3.astype({'Low':'float64'})\n",
    "final3.dtypes"
   ]
  },
  {
   "cell_type": "code",
   "execution_count": 9,
   "metadata": {},
   "outputs": [],
   "source": [
    "import matplotlib.pyplot as plt\n",
    "from matplotlib.pyplot import figure"
   ]
  },
  {
   "cell_type": "code",
   "execution_count": 23,
   "metadata": {},
   "outputs": [
    {
     "data": {
      "text/plain": [
       "[<matplotlib.lines.Line2D at 0x7f1983811c88>]"
      ]
     },
     "execution_count": 23,
     "metadata": {},
     "output_type": "execute_result"
    },
    {
     "data": {
      "image/png": "[encoded data removed]",
      "text/plain": [
       "<Figure size 432x288 with 1 Axes>"
      ]
     },
     "metadata": {
      "needs_background": "light"
     },
     "output_type": "display_data"
    }
   ],
   "source": [
    "degrees = 70\n",
    "date = final3['Date']\n",
    "ope = final3['Open']\n",
    "plt.xticks(rotation=degrees)\n",
    "plt.plot(date, ope)"
   ]
  },
  {
   "cell_type": "code",
   "execution_count": 11,
   "metadata": {},
   "outputs": [
    {
     "data": {
      "text/plain": [
       "[<matplotlib.lines.Line2D at 0x7f19842a0278>]"
      ]
     },
     "execution_count": 11,
     "metadata": {},
     "output_type": "execute_result"
    },
    {
     "data": {
      "image/png": "[encoded data removed]",
      "text/plain": [
       "<Figure size 432x288 with 1 Axes>"
      ]
     },
     "metadata": {
      "needs_background": "light"
     },
     "output_type": "display_data"
    }
   ],
   "source": [
    "hig = final3['High']\n",
    "plt.xticks(rotation=degrees)\n",
    "plt.plot(date,hig)"
   ]
  },
  {
   "cell_type": "code",
   "execution_count": 12,
   "metadata": {},
   "outputs": [
    {
     "data": {
      "text/plain": [
       "[<matplotlib.lines.Line2D at 0x7f198428a198>]"
      ]
     },
     "execution_count": 12,
     "metadata": {},
     "output_type": "execute_result"
    },
    {
     "data": {
      "image/png": "[encoded data removed]",
      "text/plain": [
       "<Figure size 432x288 with 1 Axes>"
      ]
     },
     "metadata": {
      "needs_background": "light"
     },
     "output_type": "display_data"
    }
   ],
   "source": [
    "lo = final3['Low']\n",
    "plt.xticks(rotation=degrees)\n",
    "plt.plot(date,lo)"
   ]
  },
  {
   "cell_type": "code",
   "execution_count": 17,
   "metadata": {},
   "outputs": [
    {
     "data": {
      "image/png": "[encoded data removed]",
      "text/plain": [
       "<Figure size 432x288 with 1 Axes>"
      ]
     },
     "metadata": {
      "needs_background": "light"
     },
     "output_type": "display_data"
    }
   ],
   "source": [
    "clo = final3['Close']\n",
    "plt.xticks(rotation=degrees)\n",
    "plt.plot(date,clo)\n",
    "plt.show()"
   ]
  },
  {
   "cell_type": "code",
   "execution_count": 14,
   "metadata": {},
   "outputs": [
    {
     "data": {
      "text/html": [
       "<div>\n",
       "<style scoped>\n",
       "    .dataframe tbody tr th:only-of-type {\n",
       "        vertical-align: middle;\n",
       "    }\n",
       "\n",
       "    .dataframe tbody tr th {\n",
       "        vertical-align: top;\n",
       "    }\n",
       "\n",
       "    .dataframe thead th {\n",
       "        text-align: right;\n",
       "    }\n",
       "</style>\n",
       "<table border=\"1\" class=\"dataframe\">\n",
       "  <thead>\n",
       "    <tr style=\"text-align: right;\">\n",
       "      <th></th>\n",
       "      <th>Date</th>\n",
       "      <th>Price</th>\n",
       "      <th>Open</th>\n",
       "      <th>High</th>\n",
       "      <th>Low</th>\n",
       "      <th>Close</th>\n",
       "      <th>Adj Close</th>\n",
       "      <th>Vol.</th>\n",
       "      <th>Volume</th>\n",
       "      <th>Change %</th>\n",
       "      <th>Mediana</th>\n",
       "    </tr>\n",
       "  </thead>\n",
       "  <tbody>\n",
       "    <tr>\n",
       "      <th>0</th>\n",
       "      <td>2016-12-24</td>\n",
       "      <td>7.25</td>\n",
       "      <td>7.11</td>\n",
       "      <td>7.35</td>\n",
       "      <td>7.11</td>\n",
       "      <td>7.164</td>\n",
       "      <td>7.265770</td>\n",
       "      <td>56.77K</td>\n",
       "      <td>7626020</td>\n",
       "      <td>1.26%</td>\n",
       "      <td>-0.0270</td>\n",
       "    </tr>\n",
       "    <tr>\n",
       "      <th>1</th>\n",
       "      <td>2016-12-25</td>\n",
       "      <td>7.23</td>\n",
       "      <td>7.25</td>\n",
       "      <td>7.32</td>\n",
       "      <td>7.17</td>\n",
       "      <td>7.212</td>\n",
       "      <td>7.175080</td>\n",
       "      <td>16.44K</td>\n",
       "      <td>8671840</td>\n",
       "      <td>-0.28%</td>\n",
       "      <td>0.0190</td>\n",
       "    </tr>\n",
       "    <tr>\n",
       "      <th>2</th>\n",
       "      <td>2016-12-26</td>\n",
       "      <td>7.27</td>\n",
       "      <td>7.11</td>\n",
       "      <td>7.35</td>\n",
       "      <td>7.05</td>\n",
       "      <td>7.142</td>\n",
       "      <td>7.274090</td>\n",
       "      <td>78.87K</td>\n",
       "      <td>5836810</td>\n",
       "      <td>0.55%</td>\n",
       "      <td>-0.0160</td>\n",
       "    </tr>\n",
       "    <tr>\n",
       "      <th>3</th>\n",
       "      <td>2016-12-27</td>\n",
       "      <td>7.12</td>\n",
       "      <td>7.27</td>\n",
       "      <td>7.33</td>\n",
       "      <td>7.08</td>\n",
       "      <td>7.465</td>\n",
       "      <td>7.170820</td>\n",
       "      <td>40.80K</td>\n",
       "      <td>8778610</td>\n",
       "      <td>-2.06%</td>\n",
       "      <td>-0.0975</td>\n",
       "    </tr>\n",
       "    <tr>\n",
       "      <th>4</th>\n",
       "      <td>2016-12-28</td>\n",
       "      <td>7.58</td>\n",
       "      <td>7.20</td>\n",
       "      <td>7.76</td>\n",
       "      <td>7.10</td>\n",
       "      <td>8.214</td>\n",
       "      <td>7.520110</td>\n",
       "      <td>177.26K</td>\n",
       "      <td>17453300</td>\n",
       "      <td>6.46%</td>\n",
       "      <td>-0.5070</td>\n",
       "    </tr>\n",
       "    <tr>\n",
       "      <th>...</th>\n",
       "      <td>...</td>\n",
       "      <td>...</td>\n",
       "      <td>...</td>\n",
       "      <td>...</td>\n",
       "      <td>...</td>\n",
       "      <td>...</td>\n",
       "      <td>...</td>\n",
       "      <td>...</td>\n",
       "      <td>...</td>\n",
       "      <td>...</td>\n",
       "      <td>...</td>\n",
       "    </tr>\n",
       "    <tr>\n",
       "      <th>1122</th>\n",
       "      <td>2020-01-20</td>\n",
       "      <td>166.87</td>\n",
       "      <td>166.92</td>\n",
       "      <td>169.24</td>\n",
       "      <td>161.61</td>\n",
       "      <td>169.090</td>\n",
       "      <td>167.120514</td>\n",
       "      <td>11.30M</td>\n",
       "      <td>11144529787</td>\n",
       "      <td>-0.03%</td>\n",
       "      <td>-1.0850</td>\n",
       "    </tr>\n",
       "    <tr>\n",
       "      <th>1123</th>\n",
       "      <td>2020-01-21</td>\n",
       "      <td>169.41</td>\n",
       "      <td>166.87</td>\n",
       "      <td>169.79</td>\n",
       "      <td>165.53</td>\n",
       "      <td>167.970</td>\n",
       "      <td>169.697159</td>\n",
       "      <td>11.52M</td>\n",
       "      <td>9789369362</td>\n",
       "      <td>1.52%</td>\n",
       "      <td>-0.5500</td>\n",
       "    </tr>\n",
       "    <tr>\n",
       "      <th>1124</th>\n",
       "      <td>2020-01-22</td>\n",
       "      <td>168.13</td>\n",
       "      <td>169.41</td>\n",
       "      <td>171.27</td>\n",
       "      <td>166.19</td>\n",
       "      <td>162.510</td>\n",
       "      <td>168.294159</td>\n",
       "      <td>11.30M</td>\n",
       "      <td>9209827927</td>\n",
       "      <td>-0.76%</td>\n",
       "      <td>3.4500</td>\n",
       "    </tr>\n",
       "    <tr>\n",
       "      <th>1125</th>\n",
       "      <td>2020-01-23</td>\n",
       "      <td>162.80</td>\n",
       "      <td>168.15</td>\n",
       "      <td>168.25</td>\n",
       "      <td>159.78</td>\n",
       "      <td>162.400</td>\n",
       "      <td>162.928558</td>\n",
       "      <td>14.86M</td>\n",
       "      <td>10396868698</td>\n",
       "      <td>-3.17%</td>\n",
       "      <td>2.8750</td>\n",
       "    </tr>\n",
       "    <tr>\n",
       "      <th>1126</th>\n",
       "      <td>2020-01-24</td>\n",
       "      <td>163.08</td>\n",
       "      <td>162.80</td>\n",
       "      <td>164.27</td>\n",
       "      <td>155.65</td>\n",
       "      <td>159.940</td>\n",
       "      <td>163.630173</td>\n",
       "      <td>15.33M</td>\n",
       "      <td>10699618304</td>\n",
       "      <td>0.18%</td>\n",
       "      <td>1.4300</td>\n",
       "    </tr>\n",
       "  </tbody>\n",
       "</table>\n",
       "<p>1127 rows × 11 columns</p>\n",
       "</div>"
      ],
      "text/plain": [
       "           Date   Price    Open    High     Low    Close   Adj Close     Vol.  \\\n",
       "0    2016-12-24    7.25    7.11    7.35    7.11    7.164    7.265770   56.77K   \n",
       "1    2016-12-25    7.23    7.25    7.32    7.17    7.212    7.175080   16.44K   \n",
       "2    2016-12-26    7.27    7.11    7.35    7.05    7.142    7.274090   78.87K   \n",
       "3    2016-12-27    7.12    7.27    7.33    7.08    7.465    7.170820   40.80K   \n",
       "4    2016-12-28    7.58    7.20    7.76    7.10    8.214    7.520110  177.26K   \n",
       "...         ...     ...     ...     ...     ...      ...         ...      ...   \n",
       "1122 2020-01-20  166.87  166.92  169.24  161.61  169.090  167.120514   11.30M   \n",
       "1123 2020-01-21  169.41  166.87  169.79  165.53  167.970  169.697159   11.52M   \n",
       "1124 2020-01-22  168.13  169.41  171.27  166.19  162.510  168.294159   11.30M   \n",
       "1125 2020-01-23  162.80  168.15  168.25  159.78  162.400  162.928558   14.86M   \n",
       "1126 2020-01-24  163.08  162.80  164.27  155.65  159.940  163.630173   15.33M   \n",
       "\n",
       "           Volume Change %  Mediana  \n",
       "0         7626020    1.26%  -0.0270  \n",
       "1         8671840   -0.28%   0.0190  \n",
       "2         5836810    0.55%  -0.0160  \n",
       "3         8778610   -2.06%  -0.0975  \n",
       "4        17453300    6.46%  -0.5070  \n",
       "...           ...      ...      ...  \n",
       "1122  11144529787   -0.03%  -1.0850  \n",
       "1123   9789369362    1.52%  -0.5500  \n",
       "1124   9209827927   -0.76%   3.4500  \n",
       "1125  10396868698   -3.17%   2.8750  \n",
       "1126  10699618304    0.18%   1.4300  \n",
       "\n",
       "[1127 rows x 11 columns]"
      ]
     },
     "execution_count": 14,
     "metadata": {},
     "output_type": "execute_result"
    }
   ],
   "source": [
    "final3['Mediana'] = (final3['Open']-final3['Close'])/2\n",
    "final3"
   ]
  }
 ],
 "metadata": {
  "kernelspec": {
   "display_name": "Python 3",
   "language": "python",
   "name": "python3"
  },
  "language_info": {
   "codemirror_mode": {
    "name": "ipython",
    "version": 3
   },
   "file_extension": ".py",
   "mimetype": "text/x-python",
   "name": "python",
   "nbconvert_exporter": "python",
   "pygments_lexer": "ipython3",
   "version": "3.7.3"
  }
 },
 "nbformat": 4,
 "nbformat_minor": 2
}
