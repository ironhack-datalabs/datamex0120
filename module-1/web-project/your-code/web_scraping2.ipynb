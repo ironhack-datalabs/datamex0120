{
 "cells": [
  {
   "cell_type": "markdown",
   "metadata": {},
   "source": [
    "# Translator"
   ]
  },
  {
   "cell_type": "code",
   "execution_count": 2,
   "metadata": {},
   "outputs": [],
   "source": [
    "#Importando librerías\n",
    "\n",
    "import requests\n",
    "import pandas as pd\n",
    "import urllib3.request\n",
    "from bs4 import BeautifulSoup as bs"
   ]
  },
  {
   "cell_type": "code",
   "execution_count": 3,
   "metadata": {},
   "outputs": [],
   "source": [
    "#Probando con algunas palabras\n",
    "\n",
    "words=['born', 'into', 'existence','repressed']"
   ]
  },
  {
   "cell_type": "code",
   "execution_count": 4,
   "metadata": {},
   "outputs": [
    {
     "name": "stdout",
     "output_type": "stream",
     "text": [
      "born\n",
      "into\n",
      "existence\n",
      "repressed\n"
     ]
    }
   ],
   "source": [
    "#Haciendo request\n",
    "\n",
    "translations=[]\n",
    "examples=[]\n",
    "for word in words:\n",
    "    print(word)\n",
    "    url='https://www.lexico.com/en-es/translate/'+word\n",
    "    html=requests.get(url).content\n",
    "    soup=bs(html,'lxml')\n",
    "    trnsltns=soup.find_all(\"span\", {\"class\": \"hw head-translation\"})\n",
    "    xmpls=soup.find_all(\"div\", {\"class\": \"ex\"})\n",
    "    translations.append(trnsltns)\n",
    "    examples.append(xmpls)"
   ]
  },
  {
   "cell_type": "code",
   "execution_count": 5,
   "metadata": {},
   "outputs": [
    {
     "name": "stdout",
     "output_type": "stream",
     "text": [
      "[]\n",
      "[]\n",
      "[<span class=\"hw head-translation\">existencia, <em class=\"rs_skip\">n.</em></span>]\n",
      "[<span class=\"hw head-translation\">reprimido, <em class=\"rs_skip\">adj.</em></span>]\n"
     ]
    }
   ],
   "source": [
    "for trans in translations:\n",
    "    print(trans)"
   ]
  },
  {
   "cell_type": "code",
   "execution_count": 6,
   "metadata": {},
   "outputs": [
    {
     "name": "stdout",
     "output_type": "stream",
     "text": [
      "[<div class=\"ex\"><em>to be born blind</em></div>, <div class=\"ex\"><em>to be born into sth</em></div>, <div class=\"ex\"><em>to be born of sb/sth</em></div>, <div class=\"ex\"><em>to be born to sb</em></div>, <div class=\"ex\"><em>to be born</em> <span>—</span> <em>nacer</em></div>, <div class=\"ex\"><em>to be born to sth/to + inf</em></div>, <div class=\"ex\"><em>she has a born aptitude for teaching</em> <span>—</span> <em>tiene una aptitud innata para la enseñanza</em></div>]\n",
      "[<div class=\"ex\"><em>to get into bed</em> <span>—</span> <em>meterse en la cama</em></div>, <div class=\"ex\"><em>she walked into a tree</em> <span>—</span> <em>se dio contra un árbol</em></div>, <div class=\"ex\"><em>3 into 15 goes / is 5</em> <span>—</span> <em>15 dividido (por) 3 / entre 3 es 5</em></div>, <div class=\"ex\"><em>ten minutes into the game</em> <span>—</span> <em>a los diez minutos de empezar el partido</em></div>, <div class=\"ex\"><em>we split into two groups</em> <span>—</span> <em>nos dividimos en dos grupos</em></div>, <div class=\"ex\"><em>to be into sth/-ing</em></div>, <div class=\"ex\"><em>to be into sb for sth</em> <span>—</span> <em>deberle algo a algn</em><br/></div>]\n",
      "[<div class=\"ex\"><em>this is the only copy still in existence</em> <span>—</span> <em>este es el único ejemplar existente</em></div>, <div class=\"ex\"><em>what an existence!</em> <span>—</span> <em>¡qué vida!</em></div>]\n",
      "[]\n"
     ]
    }
   ],
   "source": [
    "for i in range(len(examples)):\n",
    "    print(examples[i])"
   ]
  },
  {
   "cell_type": "code",
   "execution_count": null,
   "metadata": {},
   "outputs": [],
   "source": []
  },
  {
   "cell_type": "code",
   "execution_count": 10,
   "metadata": {},
   "outputs": [
    {
     "name": "stdout",
     "output_type": "stream",
     "text": [
      "born\n",
      "into\n",
      "existence\n",
      "repressed\n"
     ]
    }
   ],
   "source": [
    "#Haciendo request a otro diccionario\n",
    "\n",
    "t_cbrdg=[]\n",
    "for word in words:\n",
    "    print(word)\n",
    "    url='https://dictionary.cambridge.org/us/dictionary/english-spanish/'+word\n",
    "    html=requests.get(url).content\n",
    "    soup=bs(html,'lxml')\n",
    "    res=soup.find_all(\"span\", {\"class\": \"trans dtrans dtrans-se\"})\n",
    "    t_cbrdg.append(res)\n",
    "    "
   ]
  },
  {
   "cell_type": "code",
   "execution_count": 9,
   "metadata": {},
   "outputs": [
    {
     "name": "stdout",
     "output_type": "stream",
     "text": [
      "[[<span class=\"trans dtrans dtrans-se\" lang=\"es\">\n",
      "                                                nacer</span>, <span class=\"trans dtrans dtrans-se\" lang=\"es\">\n",
      "                                                ¡no me he caído de un guindo!</span>], [<span class=\"trans dtrans dtrans-se\" lang=\"es\">\n",
      "                                                en</span>, <span class=\"trans dtrans dtrans-se\" lang=\"es\">\n",
      "                                                en</span>, <span class=\"trans dtrans dtrans-se\" lang=\"es\">\n",
      "                                                a, hacia</span>, <span class=\"trans dtrans dtrans-se\" lang=\"es\">\n",
      "                                                contra</span>, <span class=\"trans dtrans dtrans-se\" lang=\"es\">\n",
      "                                                sobre</span>, <span class=\"trans dtrans dtrans-se\" lang=\"es\">\n",
      "                                                tener pasión por algo</span>, <span class=\"trans dtrans dtrans-se\" lang=\"es\">\n",
      "                                                en, dentro de</span>, <span class=\"trans dtrans dtrans-se\" lang=\"es\">\n",
      "                                                contra</span>, <span class=\"trans dtrans dtrans-se\" lang=\"es\">\n",
      "                                                en</span>, <span class=\"trans dtrans dtrans-se\" lang=\"es\">\n",
      "                                                entre</span>], [<span class=\"trans dtrans dtrans-se\" lang=\"es\">\n",
      "                                                existencia, vida</span>, <span class=\"trans dtrans dtrans-se\" lang=\"es\">\n",
      "                                                existencia</span>, <span class=\"trans dtrans dtrans-se\" lang=\"es\">\n",
      "                                                existencia</span>], [<span class=\"trans dtrans dtrans-se\" lang=\"es\">\n",
      "                                                reprimido</span>]]\n"
     ]
    }
   ],
   "source": [
    "print(t_cbrdg)"
   ]
  },
  {
   "cell_type": "code",
   "execution_count": null,
   "metadata": {},
   "outputs": [],
   "source": []
  }
 ],
 "metadata": {
  "kernelspec": {
   "display_name": "Python 3",
   "language": "python",
   "name": "python3"
  },
  "language_info": {
   "codemirror_mode": {
    "name": "ipython",
    "version": 3
   },
   "file_extension": ".py",
   "mimetype": "text/x-python",
   "name": "python",
   "nbconvert_exporter": "python",
   "pygments_lexer": "ipython3",
   "version": "3.7.3"
  }
 },
 "nbformat": 4,
 "nbformat_minor": 2
}
