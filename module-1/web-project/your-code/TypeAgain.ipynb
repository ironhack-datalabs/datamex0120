{
 "cells": [
  {
   "cell_type": "code",
   "execution_count": 4,
   "metadata": {},
   "outputs": [],
   "source": [
    "#libraries\n",
    "\n",
    "from termcolor import colored"
   ]
  },
  {
   "cell_type": "code",
   "execution_count": 5,
   "metadata": {},
   "outputs": [],
   "source": [
    "def readfile(file):\n",
    "    with open(file,'r') as f:\n",
    "        content=f.read()\n",
    "    return content"
   ]
  },
  {
   "cell_type": "code",
   "execution_count": 8,
   "metadata": {},
   "outputs": [
    {
     "name": "stdout",
     "output_type": "stream",
     "text": [
      "\u001b[34mTo start with your English practice, read the text below:\n",
      "\u001b[0m\n",
      "What if thatâ€™s not actually true? Perhaps itâ€™s more useful to consider that in every moment, on every project, no one is actually doing their best.\n",
      "\n",
      "Because thereâ€™s always a need to hold a little bit in reserve.\n",
      "\n",
      "Because there are always competing priorities.\n",
      "\n",
      "Because everyone has a noise in their head.\n",
      "\n",
      "Because thereâ€™s fear, a hundred kinds of fear.\n",
      "\n",
      "Because no one has actually done the lopsided work of 100% preparation and commitment, not for this precise moment.\n",
      "\n",
      "Iâ€™m not doing my best and neither are you. Because weâ€™re not optimized algorithms, weâ€™re people.\n",
      "\n",
      "Okay, now that we can see that no one is doing their best, what are our options?\n"
     ]
    }
   ],
   "source": [
    "content=readfile('texto.txt')\n",
    "print(colored('To start with your English practice, read the text below:\\n','blue'))\n",
    "print(content)"
   ]
  },
  {
   "cell_type": "code",
   "execution_count": 9,
   "metadata": {},
   "outputs": [],
   "source": [
    "def cleaning(file):\n",
    "    #replace punctuation marks\n",
    "    with open(file,'r') as f:\n",
    "        content=f.read().lower().replace('.','').replace('-','').replace(',','').replace('  ',' ').replace('?','').replace('!','').replace('\"','').replace('’','').split()\n",
    "        \n",
    "    #drop small words\n",
    "    small_words=[x for x in content if len(x) <=3]\n",
    "    for word in small_words:\n",
    "        if word in content:\n",
    "            content.remove(word)\n",
    "\n",
    "    #unique words\n",
    "    a_set=set(content)\n",
    "    a_list=list(a_set)\n",
    "    return a_list"
   ]
  },
  {
   "cell_type": "code",
   "execution_count": 10,
   "metadata": {},
   "outputs": [],
   "source": [
    "original_content=cleaning('texto.txt')\n",
    "#print(original_content)"
   ]
  },
  {
   "cell_type": "code",
   "execution_count": 11,
   "metadata": {},
   "outputs": [],
   "source": [
    "def interaction0():\n",
    "    user_words=input(\"Write the words that you remember: \")\n",
    "    split_user_words=user_words.split()\n",
    "    return split_user_words"
   ]
  },
  {
   "cell_type": "code",
   "execution_count": 12,
   "metadata": {},
   "outputs": [
    {
     "name": "stdout",
     "output_type": "stream",
     "text": [
      "Write the words that you remember: people their best your option kind better what moment\n"
     ]
    }
   ],
   "source": [
    "user_words=interaction0()"
   ]
  },
  {
   "cell_type": "code",
   "execution_count": 13,
   "metadata": {},
   "outputs": [],
   "source": [
    "#print(user_words)"
   ]
  },
  {
   "cell_type": "code",
   "execution_count": 14,
   "metadata": {},
   "outputs": [],
   "source": [
    "true_w=[]\n",
    "false_w=[]\n",
    "def evaluation(original_content,user_words):\n",
    "    for word in user_words:\n",
    "        if word in original_content:\n",
    "            true_w.append(word)\n",
    "        else:\n",
    "            false_w.append(word)\n",
    "    return true_w, false_w"
   ]
  },
  {
   "cell_type": "code",
   "execution_count": 15,
   "metadata": {},
   "outputs": [
    {
     "data": {
      "text/plain": [
       "(['people', 'their', 'best', 'what', 'moment'],\n",
       " ['your', 'option', 'kind', 'better'])"
      ]
     },
     "execution_count": 15,
     "metadata": {},
     "output_type": "execute_result"
    }
   ],
   "source": [
    "evaluation(original_content,user_words)"
   ]
  },
  {
   "cell_type": "code",
   "execution_count": 16,
   "metadata": {},
   "outputs": [],
   "source": [
    "#print(true_w, false_w)"
   ]
  },
  {
   "cell_type": "code",
   "execution_count": 17,
   "metadata": {},
   "outputs": [],
   "source": [
    "def user_performance(original_content,true_w,false_w):\n",
    "    percent=int((len(true_w)/len(original_content))*100)\n",
    "    if percent >= 50:\n",
    "        print('Success rate:',percent,'%','\\nTerrific! You have good memory.')\n",
    "    elif percent <= 50:\n",
    "        print('Success rate:',percent,'%','\\nUhhhmm You can do it better... Try again!')\n",
    "    print(colored(\"Words contained in the text:\",'green'),true_w)\n",
    "    print(colored(\"Words not contained in the text:\",'red'),false_w)"
   ]
  },
  {
   "cell_type": "code",
   "execution_count": 18,
   "metadata": {},
   "outputs": [
    {
     "name": "stdout",
     "output_type": "stream",
     "text": [
      "Success rate: 10 % \n",
      "Uhhhmm You can do it better... Try again!\n",
      "\u001b[32mWords contained in the text:\u001b[0m ['people', 'their', 'best', 'what', 'moment']\n",
      "\u001b[31mWords not contained in the text:\u001b[0m ['your', 'option', 'kind', 'better']\n"
     ]
    }
   ],
   "source": [
    "user_performance(original_content,true_w,false_w)"
   ]
  },
  {
   "cell_type": "code",
   "execution_count": 19,
   "metadata": {},
   "outputs": [],
   "source": [
    "def interaction1():\n",
    "    user_words1=input(\"Do you want to know more about a specific word?: \")\n",
    "    split_user_words1=user_words1.split()\n",
    "    return split_user_words1"
   ]
  },
  {
   "cell_type": "code",
   "execution_count": 20,
   "metadata": {},
   "outputs": [
    {
     "name": "stdout",
     "output_type": "stream",
     "text": [
      "Do you want to know more about a specific word?: kind\n"
     ]
    }
   ],
   "source": [
    "more_info=interaction1()"
   ]
  },
  {
   "cell_type": "markdown",
   "metadata": {},
   "source": [
    "# Obtaining definitions, examples ..."
   ]
  },
  {
   "cell_type": "code",
   "execution_count": 21,
   "metadata": {},
   "outputs": [
    {
     "name": "stderr",
     "output_type": "stream",
     "text": [
      "C:\\Users\\Sativa\\Anaconda3\\lib\\site-packages\\requests\\__init__.py:91: RequestsDependencyWarning: urllib3 (1.25.8) or chardet (3.0.4) doesn't match a supported version!\n",
      "  RequestsDependencyWarning)\n"
     ]
    }
   ],
   "source": [
    "import pandas as pd\n",
    "import numpy as np\n",
    "import json\n",
    "import requests\n",
    "from bs4 import BeautifulSoup as bs"
   ]
  },
  {
   "cell_type": "markdown",
   "metadata": {},
   "source": [
    "#### 1. From the VERB FORMS (csv of web scraping)"
   ]
  },
  {
   "cell_type": "code",
   "execution_count": 22,
   "metadata": {},
   "outputs": [],
   "source": [
    "df_verbs = pd.read_csv('verb_forms.csv') \n",
    "#df_verbs.head()"
   ]
  },
  {
   "cell_type": "code",
   "execution_count": 23,
   "metadata": {},
   "outputs": [],
   "source": [
    "#df_verbs.columns"
   ]
  },
  {
   "cell_type": "code",
   "execution_count": 24,
   "metadata": {},
   "outputs": [],
   "source": [
    "df_verbs.drop(['Unnamed: 0'], axis=1, inplace=True)\n",
    "#df_verbs.head()"
   ]
  },
  {
   "cell_type": "code",
   "execution_count": 25,
   "metadata": {},
   "outputs": [
    {
     "data": {
      "text/html": [
       "<div>\n",
       "<style scoped>\n",
       "    .dataframe tbody tr th:only-of-type {\n",
       "        vertical-align: middle;\n",
       "    }\n",
       "\n",
       "    .dataframe tbody tr th {\n",
       "        vertical-align: top;\n",
       "    }\n",
       "\n",
       "    .dataframe thead th {\n",
       "        text-align: right;\n",
       "    }\n",
       "</style>\n",
       "<table border=\"1\" class=\"dataframe\">\n",
       "  <thead>\n",
       "    <tr style=\"text-align: right;\">\n",
       "      <th></th>\n",
       "      <th>base_form</th>\n",
       "      <th>past_form</th>\n",
       "      <th>past_participle</th>\n",
       "      <th>s_es_ies</th>\n",
       "      <th>ing_form</th>\n",
       "    </tr>\n",
       "  </thead>\n",
       "  <tbody>\n",
       "    <tr>\n",
       "      <th>48</th>\n",
       "      <td>bear</td>\n",
       "      <td>bore</td>\n",
       "      <td>born</td>\n",
       "      <td>bears</td>\n",
       "      <td>bearing</td>\n",
       "    </tr>\n",
       "  </tbody>\n",
       "</table>\n",
       "</div>"
      ],
      "text/plain": [
       "   base_form past_form past_participle s_es_ies ing_form\n",
       "48      bear      bore            born    bears  bearing"
      ]
     },
     "execution_count": 25,
     "metadata": {},
     "output_type": "execute_result"
    }
   ],
   "source": [
    "#mejorar esto porque no pude pasar las palabras de word_info u_u\n",
    "\n",
    "lamask=np.column_stack([df_verbs[col].str.contains(r'\\bborn\\b') for col in df_verbs])\n",
    "df_verbs.loc[lamask.any(axis=1)]"
   ]
  },
  {
   "cell_type": "markdown",
   "metadata": {},
   "source": [
    "#### 2. From the DICTIONARY (json from Kaggle)"
   ]
  },
  {
   "cell_type": "code",
   "execution_count": 26,
   "metadata": {},
   "outputs": [],
   "source": [
    "with open('dictionary.json','r') as mydict:\n",
    "    dictionary=mydict.read()"
   ]
  },
  {
   "cell_type": "code",
   "execution_count": 27,
   "metadata": {},
   "outputs": [],
   "source": [
    "datadict=json.loads(dictionary)\n",
    "#datadict"
   ]
  },
  {
   "cell_type": "code",
   "execution_count": 28,
   "metadata": {},
   "outputs": [],
   "source": [
    "#testing\n",
    "#datadict['before']"
   ]
  },
  {
   "cell_type": "code",
   "execution_count": 29,
   "metadata": {},
   "outputs": [
    {
     "name": "stdout",
     "output_type": "stream",
     "text": [
      "\u001b[32mkind\u001b[0m ['Possessing charm and attractiveness.', 'A category of things distinguished by a common characteristic or quality.']\n"
     ]
    }
   ],
   "source": [
    "for w in more_info:\n",
    "    if w in datadict:\n",
    "        print(colored(w,'green'),datadict[w])\n",
    "    else:\n",
    "        print(colored(w,'red'),'not found in dictionary!')"
   ]
  },
  {
   "cell_type": "markdown",
   "metadata": {},
   "source": [
    "#### 3. From  API Oxford"
   ]
  },
  {
   "cell_type": "code",
   "execution_count": 30,
   "metadata": {},
   "outputs": [],
   "source": [
    "app_id = '7f3799d9'\n",
    "app_key = '07d636d3ecf38d32b2ffbf299a13e871'\n",
    "language = 'en'\n",
    "#word_id = 'effort'\n",
    "#url = 'https://od-api.oxforddictionaries.com:443/api/v2/entries/'  + language + '/'  + word_id.lower()"
   ]
  },
  {
   "cell_type": "code",
   "execution_count": 31,
   "metadata": {},
   "outputs": [],
   "source": [
    "def busqueda(word_id):\n",
    "    definition=[]\n",
    "    url = 'https://od-api.oxforddictionaries.com:443/api/v2/entries/'  + language + '/'  + word_id.lower()\n",
    "    \n",
    "    #request \n",
    "    r = requests.get(url, headers = {'app_id' : app_id, 'app_key' : app_key})\n",
    "    #print(\"code {}\\n\".format(r.status_code))\n",
    "    \n",
    "    #json\n",
    "    a_dict = r.json()\n",
    "    a_dict\n",
    "    \n",
    "    #busqueda dentro del json para la definicion\n",
    "    definition.append(a_dict['results'][0]['lexicalEntries'][0]['entries'][0]['senses'][0]['definitions'])\n",
    "    \n",
    "    return definition "
   ]
  },
  {
   "cell_type": "code",
   "execution_count": 35,
   "metadata": {},
   "outputs": [
    {
     "name": "stdout",
     "output_type": "stream",
     "text": [
      "\u001b[32mkind\u001b[0m [['a group of people or things having similar characteristics']]\n"
     ]
    }
   ],
   "source": [
    "for word in more_info: #more_info es la lista de palabras que el usuario quiere saber más\n",
    "    try:\n",
    "        definition=busqueda(word)\n",
    "        print(colored(word,'green'),definition)\n",
    "    except:\n",
    "        print(colored(word,'red'),'Not found! or Key error')"
   ]
  },
  {
   "cell_type": "markdown",
   "metadata": {},
   "source": [
    "#### 4. From web scraping (lexico-translation)"
   ]
  },
  {
   "cell_type": "code",
   "execution_count": 36,
   "metadata": {},
   "outputs": [],
   "source": [
    "def translation(word):\n",
    "    translations=[]\n",
    "    url='https://www.lexico.com/en-es/translate/'+word\n",
    "    html=requests.get(url).content\n",
    "    soup=bs(html,'lxml')\n",
    "    trnsltns=soup.find_all(\"span\", {\"class\": \"hw head-translation\"})\n",
    "    translations.append(trnsltns)\n",
    "    return translations"
   ]
  },
  {
   "cell_type": "code",
   "execution_count": 37,
   "metadata": {},
   "outputs": [
    {
     "name": "stdout",
     "output_type": "stream",
     "text": [
      "\u001b[32mkind\u001b[0m [[<span class=\"hw head-translation\">tipo, <em class=\"rs_skip\">n.</em></span>, <span class=\"hw head-translation\">amable, <em class=\"rs_skip\">adj.</em></span>]]\n"
     ]
    }
   ],
   "source": [
    "for word in more_info: #more_info es la lista de palabras que el usuario quiere saber más\n",
    "    try:\n",
    "        w_trans=translation(word)\n",
    "        print(colored(word,'green'),w_trans)\n",
    "    except:\n",
    "        print(colored(word,'red'),'Not found!')"
   ]
  },
  {
   "cell_type": "code",
   "execution_count": null,
   "metadata": {},
   "outputs": [],
   "source": []
  }
 ],
 "metadata": {
  "kernelspec": {
   "display_name": "Python 3",
   "language": "python",
   "name": "python3"
  },
  "language_info": {
   "codemirror_mode": {
    "name": "ipython",
    "version": 3
   },
   "file_extension": ".py",
   "mimetype": "text/x-python",
   "name": "python",
   "nbconvert_exporter": "python",
   "pygments_lexer": "ipython3",
   "version": "3.7.3"
  }
 },
 "nbformat": 4,
 "nbformat_minor": 4
}
