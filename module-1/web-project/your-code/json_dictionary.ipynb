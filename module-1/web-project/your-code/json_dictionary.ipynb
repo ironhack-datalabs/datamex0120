{
 "cells": [
  {
   "cell_type": "code",
   "execution_count": 1,
   "metadata": {},
   "outputs": [],
   "source": [
    "#Importando librerías\n",
    "\n",
    "import json\n",
    "import pandas as pd"
   ]
  },
  {
   "cell_type": "code",
   "execution_count": 2,
   "metadata": {},
   "outputs": [],
   "source": [
    "#Leyendo archivo json\n",
    "\n",
    "with open('dictionary.json','r') as mydict:\n",
    "    dictionary=mydict.read()"
   ]
  },
  {
   "cell_type": "code",
   "execution_count": 26,
   "metadata": {
    "scrolled": true
   },
   "outputs": [
    {
     "data": {
      "text/plain": [
       "49537"
      ]
     },
     "execution_count": 26,
     "metadata": {},
     "output_type": "execute_result"
    }
   ],
   "source": [
    "#Convirtiendo contenido json a diccionario\n",
    "\n",
    "datadict=json.loads(dictionary)\n",
    "len(datadict.items()) "
   ]
  },
  {
   "cell_type": "code",
   "execution_count": 4,
   "metadata": {},
   "outputs": [
    {
     "data": {
      "text/html": [
       "<div>\n",
       "<style scoped>\n",
       "    .dataframe tbody tr th:only-of-type {\n",
       "        vertical-align: middle;\n",
       "    }\n",
       "\n",
       "    .dataframe tbody tr th {\n",
       "        vertical-align: top;\n",
       "    }\n",
       "\n",
       "    .dataframe thead th {\n",
       "        text-align: right;\n",
       "    }\n",
       "</style>\n",
       "<table border=\"1\" class=\"dataframe\">\n",
       "  <thead>\n",
       "    <tr style=\"text-align: right;\">\n",
       "      <th></th>\n",
       "      <th>word</th>\n",
       "      <th>definition</th>\n",
       "    </tr>\n",
       "  </thead>\n",
       "  <tbody>\n",
       "    <tr>\n",
       "      <th>0</th>\n",
       "      <td>abandoned industrial site</td>\n",
       "      <td>[Site that cannot be used for any purpose, bei...</td>\n",
       "    </tr>\n",
       "    <tr>\n",
       "      <th>1</th>\n",
       "      <td>abandoned vehicle</td>\n",
       "      <td>[A vehicle that has been discarded in the envi...</td>\n",
       "    </tr>\n",
       "    <tr>\n",
       "      <th>2</th>\n",
       "      <td>abiotic factor</td>\n",
       "      <td>[Physical, chemical and other non-living envir...</td>\n",
       "    </tr>\n",
       "    <tr>\n",
       "      <th>3</th>\n",
       "      <td>access road</td>\n",
       "      <td>[Any street or narrow stretch of paved surface...</td>\n",
       "    </tr>\n",
       "    <tr>\n",
       "      <th>4</th>\n",
       "      <td>access to the sea</td>\n",
       "      <td>[The ability to bring goods to and from a port...</td>\n",
       "    </tr>\n",
       "  </tbody>\n",
       "</table>\n",
       "</div>"
      ],
      "text/plain": [
       "                        word  \\\n",
       "0  abandoned industrial site   \n",
       "1          abandoned vehicle   \n",
       "2             abiotic factor   \n",
       "3                access road   \n",
       "4          access to the sea   \n",
       "\n",
       "                                          definition  \n",
       "0  [Site that cannot be used for any purpose, bei...  \n",
       "1  [A vehicle that has been discarded in the envi...  \n",
       "2  [Physical, chemical and other non-living envir...  \n",
       "3  [Any street or narrow stretch of paved surface...  \n",
       "4  [The ability to bring goods to and from a port...  "
      ]
     },
     "execution_count": 4,
     "metadata": {},
     "output_type": "execute_result"
    }
   ],
   "source": [
    "#Convirtiendo a dataframe\n",
    "\n",
    "df_dictionary=pd.DataFrame(datadict.items(),columns=['word','definition'])\n",
    "df_dictionary.head()"
   ]
  },
  {
   "cell_type": "code",
   "execution_count": 5,
   "metadata": {},
   "outputs": [],
   "source": [
    "#Exportando el dataframe a csv\n",
    "\n",
    "df_dictionary.to_csv('dictionary.json.csv')"
   ]
  },
  {
   "cell_type": "code",
   "execution_count": 6,
   "metadata": {},
   "outputs": [
    {
     "data": {
      "text/plain": [
       "['At a time before that.',\n",
       " 'In front of in space',\n",
       " 'In front of, according to system of ordering items.',\n",
       " 'Earlier than (in time).',\n",
       " 'Under consideration, judgment, authority of (someone).',\n",
       " 'In the future of (someone).',\n",
       " 'At a higher or greater position in a subjective ranking.']"
      ]
     },
     "execution_count": 6,
     "metadata": {},
     "output_type": "execute_result"
    }
   ],
   "source": [
    "#Probando buscar palabras\n",
    "#directamente en diccionario antes de convertir a df\n",
    "\n",
    "datadict['before']"
   ]
  },
  {
   "cell_type": "code",
   "execution_count": 9,
   "metadata": {},
   "outputs": [
    {
     "data": {
      "text/html": [
       "<div>\n",
       "<style scoped>\n",
       "    .dataframe tbody tr th:only-of-type {\n",
       "        vertical-align: middle;\n",
       "    }\n",
       "\n",
       "    .dataframe tbody tr th {\n",
       "        vertical-align: top;\n",
       "    }\n",
       "\n",
       "    .dataframe thead th {\n",
       "        text-align: right;\n",
       "    }\n",
       "</style>\n",
       "<table border=\"1\" class=\"dataframe\">\n",
       "  <thead>\n",
       "    <tr style=\"text-align: right;\">\n",
       "      <th></th>\n",
       "      <th>word</th>\n",
       "      <th>definition</th>\n",
       "    </tr>\n",
       "  </thead>\n",
       "  <tbody>\n",
       "    <tr>\n",
       "      <th>5341</th>\n",
       "      <td>before</td>\n",
       "      <td>[At a time before that., In front of in space,...</td>\n",
       "    </tr>\n",
       "    <tr>\n",
       "      <th>9654</th>\n",
       "      <td>before a court</td>\n",
       "      <td>[At court, facing a lawsuit.]</td>\n",
       "    </tr>\n",
       "    <tr>\n",
       "      <th>11806</th>\n",
       "      <td>the day before yesterday</td>\n",
       "      <td>[On the day before yesterday.]</td>\n",
       "    </tr>\n",
       "    <tr>\n",
       "      <th>47596</th>\n",
       "      <td>don't count your chickens before they're hatched</td>\n",
       "      <td>[One shouldn't take for granted that something...</td>\n",
       "    </tr>\n",
       "  </tbody>\n",
       "</table>\n",
       "</div>"
      ],
      "text/plain": [
       "                                                   word  \\\n",
       "5341                                             before   \n",
       "9654                                     before a court   \n",
       "11806                          the day before yesterday   \n",
       "47596  don't count your chickens before they're hatched   \n",
       "\n",
       "                                              definition  \n",
       "5341   [At a time before that., In front of in space,...  \n",
       "9654                       [At court, facing a lawsuit.]  \n",
       "11806                     [On the day before yesterday.]  \n",
       "47596  [One shouldn't take for granted that something...  "
      ]
     },
     "execution_count": 9,
     "metadata": {},
     "output_type": "execute_result"
    }
   ],
   "source": [
    "#ya en el df\n",
    "#exactamente la palabra en la columna word\n",
    "\n",
    "df_dictionary[df_dictionary['word'].str.contains(r'\\bbefore\\b')]"
   ]
  },
  {
   "cell_type": "code",
   "execution_count": 8,
   "metadata": {},
   "outputs": [
    {
     "data": {
      "text/html": [
       "<div>\n",
       "<style scoped>\n",
       "    .dataframe tbody tr th:only-of-type {\n",
       "        vertical-align: middle;\n",
       "    }\n",
       "\n",
       "    .dataframe tbody tr th {\n",
       "        vertical-align: top;\n",
       "    }\n",
       "\n",
       "    .dataframe thead th {\n",
       "        text-align: right;\n",
       "    }\n",
       "</style>\n",
       "<table border=\"1\" class=\"dataframe\">\n",
       "  <thead>\n",
       "    <tr style=\"text-align: right;\">\n",
       "      <th></th>\n",
       "      <th>word</th>\n",
       "      <th>definition</th>\n",
       "    </tr>\n",
       "  </thead>\n",
       "  <tbody>\n",
       "    <tr>\n",
       "      <th>5341</th>\n",
       "      <td>before</td>\n",
       "      <td>[At a time before that., In front of in space,...</td>\n",
       "    </tr>\n",
       "    <tr>\n",
       "      <th>9654</th>\n",
       "      <td>before a court</td>\n",
       "      <td>[At court, facing a lawsuit.]</td>\n",
       "    </tr>\n",
       "    <tr>\n",
       "      <th>11806</th>\n",
       "      <td>the day before yesterday</td>\n",
       "      <td>[On the day before yesterday.]</td>\n",
       "    </tr>\n",
       "    <tr>\n",
       "      <th>29627</th>\n",
       "      <td>beforehand</td>\n",
       "      <td>[Being ahead of time or need., At an earlier o...</td>\n",
       "    </tr>\n",
       "    <tr>\n",
       "      <th>47596</th>\n",
       "      <td>don't count your chickens before they're hatched</td>\n",
       "      <td>[One shouldn't take for granted that something...</td>\n",
       "    </tr>\n",
       "  </tbody>\n",
       "</table>\n",
       "</div>"
      ],
      "text/plain": [
       "                                                   word  \\\n",
       "5341                                             before   \n",
       "9654                                     before a court   \n",
       "11806                          the day before yesterday   \n",
       "29627                                        beforehand   \n",
       "47596  don't count your chickens before they're hatched   \n",
       "\n",
       "                                              definition  \n",
       "5341   [At a time before that., In front of in space,...  \n",
       "9654                       [At court, facing a lawsuit.]  \n",
       "11806                     [On the day before yesterday.]  \n",
       "29627  [Being ahead of time or need., At an earlier o...  \n",
       "47596  [One shouldn't take for granted that something...  "
      ]
     },
     "execution_count": 8,
     "metadata": {},
     "output_type": "execute_result"
    }
   ],
   "source": [
    "#busca la palabra como substr en la columna word\n",
    "\n",
    "df_dictionary[df_dictionary['word'].str.contains('before')]"
   ]
  }
 ],
 "metadata": {
  "kernelspec": {
   "display_name": "Python 3",
   "language": "python",
   "name": "python3"
  },
  "language_info": {
   "codemirror_mode": {
    "name": "ipython",
    "version": 3
   },
   "file_extension": ".py",
   "mimetype": "text/x-python",
   "name": "python",
   "nbconvert_exporter": "python",
   "pygments_lexer": "ipython3",
   "version": "3.7.3"
  }
 },
 "nbformat": 4,
 "nbformat_minor": 2
}
