{
 "cells": [
  {
   "cell_type": "code",
   "execution_count": 3,
   "metadata": {},
   "outputs": [
    {
     "data": {
      "text/plain": [
       "[0, 1, 2, 3, 4, 5, 6, 7, 8, 9, 10]"
      ]
     },
     "execution_count": 3,
     "metadata": {},
     "output_type": "execute_result"
    }
   ],
   "source": [
    "lista = [i for i in range(11)]\n",
    "lista"
   ]
  },
  {
   "cell_type": "code",
   "execution_count": 7,
   "metadata": {},
   "outputs": [
    {
     "data": {
      "text/plain": [
       "[0, 2, 4, 6]"
      ]
     },
     "execution_count": 7,
     "metadata": {},
     "output_type": "execute_result"
    }
   ],
   "source": [
    "lista2 = [ i for i in range(11) if i%2==0 and i<7]\n",
    "lista2"
   ]
  },
  {
   "cell_type": "code",
   "execution_count": 10,
   "metadata": {},
   "outputs": [
    {
     "data": {
      "text/plain": [
       "[[], [], [], [], [], [], [], [], [], [], []]"
      ]
     },
     "execution_count": 10,
     "metadata": {},
     "output_type": "execute_result"
    }
   ],
   "source": [
    "lista_lista=[]\n",
    "for i in range(11):\n",
    "    lista_lista.append([])\n",
    "    \n",
    "lista_lista"
   ]
  },
  {
   "cell_type": "code",
   "execution_count": 14,
   "metadata": {},
   "outputs": [
    {
     "data": {
      "text/plain": [
       "[[0, 1, 2], [0, 1, 2], [0, 1, 2]]"
      ]
     },
     "execution_count": 14,
     "metadata": {},
     "output_type": "execute_result"
    }
   ],
   "source": [
    "lista_lista = [[i for i in range(3)] for i in range(3)]\n",
    "lista_lista"
   ]
  },
  {
   "cell_type": "code",
   "execution_count": 15,
   "metadata": {},
   "outputs": [],
   "source": [
    "string ='hola como estan'"
   ]
  },
  {
   "cell_type": "code",
   "execution_count": 18,
   "metadata": {},
   "outputs": [
    {
     "data": {
      "text/plain": [
       "['hola', 'como', 'estan']"
      ]
     },
     "execution_count": 18,
     "metadata": {},
     "output_type": "execute_result"
    }
   ],
   "source": [
    "split_s = string.split()\n",
    "split_s"
   ]
  },
  {
   "cell_type": "code",
   "execution_count": 20,
   "metadata": {},
   "outputs": [
    {
     "data": {
      "text/plain": [
       "['HOLA', 'COMO', 'ESTAN']"
      ]
     },
     "execution_count": 20,
     "metadata": {},
     "output_type": "execute_result"
    }
   ],
   "source": [
    "spl_may = [i.upper() for i in split_s]\n",
    "spl_may"
   ]
  },
  {
   "cell_type": "code",
   "execution_count": 25,
   "metadata": {},
   "outputs": [
    {
     "data": {
      "text/plain": [
       "'11'"
      ]
     },
     "execution_count": 25,
     "metadata": {},
     "output_type": "execute_result"
    }
   ],
   "source": [
    "otra_s = 'el dia de hoy 11 alumnos'\n",
    "numero = [x for x in otra_s if x.isdigit()]\n",
    "s2 = ''.join(numero)\n",
    "s2\n"
   ]
  },
  {
   "cell_type": "code",
   "execution_count": 42,
   "metadata": {},
   "outputs": [
    {
     "data": {
      "text/plain": [
       "('dos', 2)"
      ]
     },
     "execution_count": 42,
     "metadata": {},
     "output_type": "execute_result"
    }
   ],
   "source": [
    "dic = {1:'uno','dos':2,'tres':2}\n",
    "items = list(dic.items())\n",
    "items[1]"
   ]
  },
  {
   "cell_type": "code",
   "execution_count": 53,
   "metadata": {},
   "outputs": [
    {
     "name": "stdout",
     "output_type": "stream",
     "text": [
      "[0, 1, 2, 3, 4, 5, 6, 7, 8, 9, 10]\n",
      "[11, 12, 13, 14, 15, 16, 17, 18, 19]\n"
     ]
    },
    {
     "data": {
      "text/plain": [
       "[(0, 11),\n",
       " (1, 12),\n",
       " (2, 13),\n",
       " (3, 14),\n",
       " (4, 15),\n",
       " (5, 16),\n",
       " (6, 17),\n",
       " (7, 18),\n",
       " (8, 19)]"
      ]
     },
     "execution_count": 53,
     "metadata": {},
     "output_type": "execute_result"
    }
   ],
   "source": [
    "lista = [i for i in range(11)]\n",
    "lista_2 = [i for i in range(11,20)]\n",
    "print(lista)\n",
    "print(lista_2)\n",
    "\n",
    "list(zip(lista,lista_2))\n",
    "\n"
   ]
  },
  {
   "cell_type": "code",
   "execution_count": 85,
   "metadata": {},
   "outputs": [
    {
     "data": {
      "text/plain": [
       "{0: '11',\n",
       " 1: '12',\n",
       " 2: '13',\n",
       " 3: '14',\n",
       " 4: '15',\n",
       " 5: '16',\n",
       " 6: '17',\n",
       " 7: '18',\n",
       " 8: '19'}"
      ]
     },
     "execution_count": 85,
     "metadata": {},
     "output_type": "execute_result"
    }
   ],
   "source": [
    "dict_compren = {k:str(v) for k,v in list(zip(lista,lista_2))}\n",
    "dict_compren"
   ]
  },
  {
   "cell_type": "code",
   "execution_count": 7,
   "metadata": {},
   "outputs": [
    {
     "name": "stdout",
     "output_type": "stream",
     "text": [
      "1\n",
      "4\n",
      "uno\n"
     ]
    }
   ],
   "source": [
    "touple = (1,2,3)\n",
    "var1,var2,var3 = touple\n",
    "\n",
    "list = [4,5,6]\n",
    "var4, var5, var6 = list\n",
    "\n",
    "dic = {1:'uno', 'dos':2, 'tres':2}\n",
    "var7, var8, var9 = dic.values()\n",
    "\n",
    "print(var1)\n",
    "print(var4)\n",
    "print(var7)"
   ]
  },
  {
   "cell_type": "code",
   "execution_count": 6,
   "metadata": {},
   "outputs": [
    {
     "name": "stdout",
     "output_type": "stream",
     "text": [
      "1\n",
      "4\n",
      "uno\n"
     ]
    }
   ],
   "source": [
    "print(var1)\n",
    "print(var4)\n",
    "print(var7)"
   ]
  },
  {
   "cell_type": "code",
   "execution_count": 8,
   "metadata": {},
   "outputs": [],
   "source": [
    "fun = lambda x: x**2"
   ]
  },
  {
   "cell_type": "code",
   "execution_count": 12,
   "metadata": {},
   "outputs": [
    {
     "name": "stdout",
     "output_type": "stream",
     "text": [
      "4\n"
     ]
    }
   ],
   "source": [
    "var1 = fun(2)"
   ]
  },
  {
   "cell_type": "code",
   "execution_count": 10,
   "metadata": {},
   "outputs": [
    {
     "data": {
      "text/plain": [
       "16"
      ]
     },
     "execution_count": 10,
     "metadata": {},
     "output_type": "execute_result"
    }
   ],
   "source": [
    "fun(4)"
   ]
  },
  {
   "cell_type": "code",
   "execution_count": 17,
   "metadata": {},
   "outputs": [],
   "source": [
    "# *args & **kwargs\n",
    "\n",
    "def saludo_multiple(*lst, lang='en', vac=True):\n",
    "    print(lst)\n",
    "    print('lang: ',lang)\n",
    "    print('vac: ',vac)\n",
    "    \n",
    "    if vac:\n",
    "        print(\"Tiempo de 🍻\")\n",
    "        \n",
    "    for e in lst:\n",
    "        print(e,' habla: ', lang)\n",
    "                    \n",
    "                    "
   ]
  },
  {
   "cell_type": "code",
   "execution_count": 18,
   "metadata": {},
   "outputs": [],
   "source": [
    "config={'lang':'es', 'vac':False}"
   ]
  },
  {
   "cell_type": "code",
   "execution_count": 19,
   "metadata": {},
   "outputs": [
    {
     "name": "stdout",
     "output_type": "stream",
     "text": [
      "('Pepe', 'Maria', 'Ana')\n",
      "lang:  es\n",
      "vac:  False\n",
      "Pepe  habla:  es\n",
      "Maria  habla:  es\n",
      "Ana  habla:  es\n"
     ]
    }
   ],
   "source": [
    "saludo_multiple('Pepe','Maria','Ana', **config)"
   ]
  },
  {
   "cell_type": "code",
   "execution_count": 20,
   "metadata": {},
   "outputs": [],
   "source": [
    "def prueba(a,b,c):\n",
    "    print(a)\n",
    "    print(b)\n",
    "    return a+b\n",
    "    print(c)\n"
   ]
  },
  {
   "cell_type": "code",
   "execution_count": 23,
   "metadata": {},
   "outputs": [
    {
     "name": "stdout",
     "output_type": "stream",
     "text": [
      "1\n",
      "2\n",
      "13\n"
     ]
    }
   ],
   "source": [
    "v = prueba(1,2,3)\n",
    "print(v+10)"
   ]
  },
  {
   "cell_type": "code",
   "execution_count": 33,
   "metadata": {},
   "outputs": [],
   "source": [
    "def rang(*lst):\n",
    "    i = 0\n",
    "    if len(lst)==1:\n",
    "        stop = lst[0]\n",
    "        start = 0\n",
    "        step = 1\n",
    "    if len(lst)==2:\n",
    "        stop = lst[1]\n",
    "        start = lst[0]\n",
    "        step = 1\n",
    "    if len(lst)==3:\n",
    "        stop = lst[1]\n",
    "        start = lst[0]\n",
    "        step = lst[2]\n",
    "    \n",
    "    while start < stop:\n",
    "        yield start\n",
    "        start+=step"
   ]
  },
  {
   "cell_type": "code",
   "execution_count": 34,
   "metadata": {},
   "outputs": [
    {
     "data": {
      "text/plain": [
       "[0, 1, 2]"
      ]
     },
     "execution_count": 34,
     "metadata": {},
     "output_type": "execute_result"
    }
   ],
   "source": [
    "list(rang(3))"
   ]
  },
  {
   "cell_type": "code",
   "execution_count": 36,
   "metadata": {},
   "outputs": [],
   "source": [
    "import re\n",
    "texto = my neighbor Mr. Rogene is "
   ]
  },
  {
   "cell_type": "code",
   "execution_count": null,
   "metadata": {},
   "outputs": [],
   "source": [
    "# nº letras en el texto\n",
    "len(''.join(re.findall([\"a-zA-z\"],text)))"
   ]
  },
  {
   "cell_type": "code",
   "execution_count": 40,
   "metadata": {},
   "outputs": [],
   "source": [
    "lst_1 = ['a','b','c']\n",
    "lst_2 = [1,2,3]\n",
    "lst_3 = list(zip(lst_1,lst_2))"
   ]
  },
  {
   "cell_type": "code",
   "execution_count": 41,
   "metadata": {},
   "outputs": [
    {
     "data": {
      "text/plain": [
       "{'a': 1, 'b': 2, 'c': 3}"
      ]
     },
     "execution_count": 41,
     "metadata": {},
     "output_type": "execute_result"
    }
   ],
   "source": [
    "n_dic = {k:v for k,v in lst_3}\n",
    "n_dic"
   ]
  },
  {
   "cell_type": "code",
   "execution_count": null,
   "metadata": {},
   "outputs": [],
   "source": []
  },
  {
   "cell_type": "code",
   "execution_count": null,
   "metadata": {},
   "outputs": [],
   "source": []
  },
  {
   "cell_type": "code",
   "execution_count": null,
   "metadata": {},
   "outputs": [],
   "source": []
  }
 ],
 "metadata": {
  "kernelspec": {
   "display_name": "Python 3",
   "language": "python",
   "name": "python3"
  },
  "language_info": {
   "codemirror_mode": {
    "name": "ipython",
    "version": 3
   },
   "file_extension": ".py",
   "mimetype": "text/x-python",
   "name": "python",
   "nbconvert_exporter": "python",
   "pygments_lexer": "ipython3",
   "version": "3.7.3"
  }
 },
 "nbformat": 4,
 "nbformat_minor": 2
}
