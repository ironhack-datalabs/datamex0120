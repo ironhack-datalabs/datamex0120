{
 "cells": [
  {
   "cell_type": "markdown",
   "metadata": {},
   "source": [
    "# 2 Sample Hypothesis Tests\n",
    "\n",
    "\n",
    "Lesson Goals\n",
    "\n",
    "In this lesson we will continue to explore hypothesis tests and learn about performing tests with two samples of data.\n",
    "Introduction\n",
    "\n",
    "It is common for researchers to perform studies to compare two groups and check if they behave differently. One example is applying a treatment to one group while another is left untreated. The results are then compared to see if the two groups differ. Hypothesis tests shine the most in such problems where we need to use statistics to inform decision making. In this lesson we will learn about the different ways we can compare two samples to see if they differ significantly.\n",
    "\n",
    "\n",
    "Matched Pairs\n",
    "\n",
    "When we approach a two sample hypothesis test, we must first determine what type data we have. The first type of 2 sample hypothesis test is performed on matched pairs. This means that the data in the two samples is dependent. For example, in a clinical drug trial, we may give a blood pressure medication to a group of people and look at their blood pressure before and after the treatment. We will then treat the before and after as two samples and compare them. However, since the two groups both contain the same people, we are able to match each entry in the before data with its corresponding entry of the after data.\n",
    "\n",
    "\n",
    "A Bit of Theory\n",
    "\n",
    "Since the we can match the data between the samples, we take the difference between the two samples in each row and then revert to using a one sample hypothesis test. Our hypothesis test will check whether the mean of the differences is significantly different from zero (we could also test that the mean is greater than or less than zero using a one-sided hypothesis test)."
   ]
  },
  {
   "cell_type": "markdown",
   "metadata": {},
   "source": [
    "# Matched Pairs in Python\n",
    "\n",
    "In our example we will look at a blood pressure study with 100 participants. Our participants all had their blood pressure measured before the beginning of the study and a month into the study. We will compare the systolic blood pressure for the participants before and after.\n",
    "\n",
    "Let's start by looking at our dataset. The file blood_pressure.csv."
   ]
  },
  {
   "cell_type": "code",
   "execution_count": 1,
   "metadata": {},
   "outputs": [
    {
     "data": {
      "text/html": [
       "<div>\n",
       "<style scoped>\n",
       "    .dataframe tbody tr th:only-of-type {\n",
       "        vertical-align: middle;\n",
       "    }\n",
       "\n",
       "    .dataframe tbody tr th {\n",
       "        vertical-align: top;\n",
       "    }\n",
       "\n",
       "    .dataframe thead th {\n",
       "        text-align: right;\n",
       "    }\n",
       "</style>\n",
       "<table border=\"1\" class=\"dataframe\">\n",
       "  <thead>\n",
       "    <tr style=\"text-align: right;\">\n",
       "      <th></th>\n",
       "      <th>before</th>\n",
       "      <th>after</th>\n",
       "    </tr>\n",
       "  </thead>\n",
       "  <tbody>\n",
       "    <tr>\n",
       "      <th>0</th>\n",
       "      <td>136.713072</td>\n",
       "      <td>92.432965</td>\n",
       "    </tr>\n",
       "    <tr>\n",
       "      <th>1</th>\n",
       "      <td>134.735618</td>\n",
       "      <td>105.022643</td>\n",
       "    </tr>\n",
       "    <tr>\n",
       "      <th>2</th>\n",
       "      <td>127.529115</td>\n",
       "      <td>82.242766</td>\n",
       "    </tr>\n",
       "    <tr>\n",
       "      <th>3</th>\n",
       "      <td>144.527126</td>\n",
       "      <td>93.607172</td>\n",
       "    </tr>\n",
       "    <tr>\n",
       "      <th>4</th>\n",
       "      <td>124.214720</td>\n",
       "      <td>103.212223</td>\n",
       "    </tr>\n",
       "  </tbody>\n",
       "</table>\n",
       "</div>"
      ],
      "text/plain": [
       "       before       after\n",
       "0  136.713072   92.432965\n",
       "1  134.735618  105.022643\n",
       "2  127.529115   82.242766\n",
       "3  144.527126   93.607172\n",
       "4  124.214720  103.212223"
      ]
     },
     "execution_count": 1,
     "metadata": {},
     "output_type": "execute_result"
    }
   ],
   "source": [
    "import pandas as pd\n",
    "\n",
    "blood_pressure = pd.read_csv('../blood_pressure.csv')\n",
    "blood_pressure.head()"
   ]
  },
  {
   "cell_type": "markdown",
   "metadata": {},
   "source": [
    "We will be using the scipy function ttest_rel. This function is used for hypothesis testing of dependent data."
   ]
  },
  {
   "cell_type": "code",
   "execution_count": 2,
   "metadata": {},
   "outputs": [
    {
     "data": {
      "text/plain": [
       "Ttest_relResult(statistic=-27.291841767560236, pvalue=7.303035069608042e-48)"
      ]
     },
     "execution_count": 2,
     "metadata": {},
     "output_type": "execute_result"
    }
   ],
   "source": [
    "from scipy.stats import ttest_rel\n",
    "\n",
    "ttest_rel(blood_pressure.after, blood_pressure.before)"
   ]
  },
  {
   "cell_type": "markdown",
   "metadata": {},
   "source": [
    "Our result is a very small p-value. This means that we will reject the null hypothesis.\n",
    "\n",
    "Since a matched pairs test is equivalent to a one sample test of the difference, we can also perform a one sample test and get the exact same result."
   ]
  },
  {
   "cell_type": "code",
   "execution_count": 3,
   "metadata": {},
   "outputs": [
    {
     "data": {
      "text/plain": [
       "Ttest_1sampResult(statistic=-27.291841767560236, pvalue=7.303035069608042e-48)"
      ]
     },
     "execution_count": 3,
     "metadata": {},
     "output_type": "execute_result"
    }
   ],
   "source": [
    "from scipy.stats import ttest_1samp\n",
    "ttest_1samp(blood_pressure.after-blood_pressure.before, 0)"
   ]
  },
  {
   "cell_type": "markdown",
   "metadata": {},
   "source": [
    "We can see that the p-value is identical since the tests are equivalent.\n",
    "\n",
    "\n",
    "# Independent Samples\n",
    "\n",
    "The second type of two sample hypothesis tests are independent samples. In this case, we have two groups where we cannot match the rows to one another. For example, we compare the effect of a certain medication on a sample of men and a sample of women. We then perform a hypothesis test to see whether there is a significant difference in the way the medication affects the groups. Another example is an A/B test on a website. We can implement a number of changes in the UI of an e-commerce website. We will release version A to a sample of customers and version B to another sample. We will then test if there is a difference in revenue between the different samples.\n",
    "\n",
    "\n",
    "A Bit of Theory\n",
    "\n",
    "When looking at two independent samples, we need to check that a few assumptions hold. The first assumption is obviously independence. An example of what could cause a dependence between two groups is if we had a study on the impact of nutrition on health and we had a husband in one group and a wife in the other. While they are not the same person, they most likely live in the same household. Therefore, there are some things that they do that might be similar like sleep habits or commuting habits. As researchers, when this happens, we cannot be sure whether the intervention in our study was the main cause of the difference (or similarity) between the subjects.\n",
    "\n",
    "With a 2 sample test, our hypothesis test (for a 2 sided test) is a comparison of the two means.\n",
    "\n",
    "# 2 sample hypothesis test\n",
    "\n",
    "We must also assume that the samples were drawn at random from a normally distributed population.\n",
    "\n",
    "\n",
    "Equal Variances\n",
    "\n",
    "If we make an additional assumption that the variances of the two populations are equal, we may use a pooled standard deviation in our hypothesis test.\n",
    "\n",
    "In scipy, this means that we will be setting equal_var=True in our function.\n",
    "\n",
    "The following is an example of a 2 sample hypothesis test with equal variance. We will load a sample dataset of transaction amounts from an e-commerce website. "
   ]
  },
  {
   "cell_type": "code",
   "execution_count": 4,
   "metadata": {},
   "outputs": [
    {
     "data": {
      "text/html": [
       "<div>\n",
       "<style scoped>\n",
       "    .dataframe tbody tr th:only-of-type {\n",
       "        vertical-align: middle;\n",
       "    }\n",
       "\n",
       "    .dataframe tbody tr th {\n",
       "        vertical-align: top;\n",
       "    }\n",
       "\n",
       "    .dataframe thead th {\n",
       "        text-align: right;\n",
       "    }\n",
       "</style>\n",
       "<table border=\"1\" class=\"dataframe\">\n",
       "  <thead>\n",
       "    <tr style=\"text-align: right;\">\n",
       "      <th></th>\n",
       "      <th>a</th>\n",
       "      <th>b</th>\n",
       "    </tr>\n",
       "  </thead>\n",
       "  <tbody>\n",
       "    <tr>\n",
       "      <th>0</th>\n",
       "      <td>0.27</td>\n",
       "      <td>13.61</td>\n",
       "    </tr>\n",
       "    <tr>\n",
       "      <th>1</th>\n",
       "      <td>6.08</td>\n",
       "      <td>21.53</td>\n",
       "    </tr>\n",
       "    <tr>\n",
       "      <th>2</th>\n",
       "      <td>13.74</td>\n",
       "      <td>9.23</td>\n",
       "    </tr>\n",
       "    <tr>\n",
       "      <th>3</th>\n",
       "      <td>9.70</td>\n",
       "      <td>5.36</td>\n",
       "    </tr>\n",
       "    <tr>\n",
       "      <th>4</th>\n",
       "      <td>7.00</td>\n",
       "      <td>12.90</td>\n",
       "    </tr>\n",
       "  </tbody>\n",
       "</table>\n",
       "</div>"
      ],
      "text/plain": [
       "       a      b\n",
       "0   0.27  13.61\n",
       "1   6.08  21.53\n",
       "2  13.74   9.23\n",
       "3   9.70   5.36\n",
       "4   7.00  12.90"
      ]
     },
     "execution_count": 4,
     "metadata": {},
     "output_type": "execute_result"
    }
   ],
   "source": [
    "ab_test = pd.read_csv('../ab_test.csv')\n",
    "ab_test.head()"
   ]
  },
  {
   "cell_type": "markdown",
   "metadata": {},
   "source": [
    "The rows are not matched and the data is not stored in any order.\n",
    "\n",
    "We make the assumption that the variances of both populations are equal based on prior knowledge of the data. Now we will test that there is a significant difference between the website layouts with a 95% degree of confidence.\n",
    "\n"
   ]
  },
  {
   "cell_type": "code",
   "execution_count": 5,
   "metadata": {},
   "outputs": [
    {
     "data": {
      "text/plain": [
       "Ttest_indResult(statistic=-2.637533181209767, pvalue=0.009713140852447347)"
      ]
     },
     "execution_count": 5,
     "metadata": {},
     "output_type": "execute_result"
    }
   ],
   "source": [
    "from scipy.stats import ttest_ind\n",
    "\n",
    "ttest_ind(ab_test.a, ab_test.b, equal_var=True)"
   ]
  },
  {
   "cell_type": "markdown",
   "metadata": {},
   "source": [
    "Our p-value is very small. This means that there is a significant difference between the two sample means.\n",
    "\n",
    "\n",
    "# Unequal Variances\n",
    "\n",
    "When we don't feel comfortable that we can make the equal variance assumption with great certainty, we can use a more robust test instead. Instead of using a test with pooled variance, we use a test called Welch's t-test. This test is considered robust since it does not need to make as many assumptions about the data.\n",
    "\n",
    "Let's use our A/B test data to perform a t-test that does not require the equal variance assumption:"
   ]
  },
  {
   "cell_type": "code",
   "execution_count": 6,
   "metadata": {},
   "outputs": [
    {
     "data": {
      "text/plain": [
       "Ttest_indResult(statistic=-2.637533181209767, pvalue=0.009776243024828825)"
      ]
     },
     "execution_count": 6,
     "metadata": {},
     "output_type": "execute_result"
    }
   ],
   "source": [
    "ttest_ind(ab_test.a, ab_test.b, equal_var=False)"
   ]
  },
  {
   "cell_type": "markdown",
   "metadata": {},
   "source": [
    "In this case the p-value slightly differs from the one we get with equal variances. However, since it is very small in this case as well, we will still reject the null hypothesis and conclude that there is a significant difference between the two sample means."
   ]
  },
  {
   "cell_type": "code",
   "execution_count": null,
   "metadata": {},
   "outputs": [],
   "source": []
  }
 ],
 "metadata": {
  "kernelspec": {
   "display_name": "Python 3",
   "language": "python",
   "name": "python3"
  },
  "language_info": {
   "codemirror_mode": {
    "name": "ipython",
    "version": 3
   },
   "file_extension": ".py",
   "mimetype": "text/x-python",
   "name": "python",
   "nbconvert_exporter": "python",
   "pygments_lexer": "ipython3",
   "version": "3.7.6"
  }
 },
 "nbformat": 4,
 "nbformat_minor": 2
}
