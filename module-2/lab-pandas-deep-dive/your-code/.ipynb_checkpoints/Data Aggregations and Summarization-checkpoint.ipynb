{
 "cells": [
  {
   "cell_type": "markdown",
   "metadata": {},
   "source": [
    "# Data Aggregations and Summarization\n",
    "\n",
    "\n",
    "Lesson Goals\n",
    "\n",
    "In this lesson we will learn:\n",
    "\n",
    "    Grouping data in Pandas\n",
    "    Using the aggregation functions to summarize grouped data\n",
    "\n",
    "Introduction\n",
    "\n",
    "Aggregating and summarizing are essential tools in data analysis. They allow us to perform computations on our data or look at descriptive statistics for subsets of the data. These calculations can help us make meaningful inference regarding our data.\n",
    "\n",
    "We will use the vehicles.csv data set you used in Module 1. In case you don't have the data set handy, download it again from here. Extract the content of the downloaded file to your machine. vehicles.csv is contained in the extracted folder.\n",
    "Grouping\n",
    "\n",
    "We have looked at the group by clause in SQL in previous lessons. Pandas has a similar function that enables us to perform aggregations - the groupby function.\n",
    "\n",
    "Applying the groupby function to a DataFrame will return a DataFrameGroupBy object. We then specify the columns that we intend to group on.\n",
    "\n",
    "Recall the vehicles dataset from previous lessons:"
   ]
  },
  {
   "cell_type": "code",
   "execution_count": 1,
   "metadata": {},
   "outputs": [
    {
     "data": {
      "text/plain": [
       "<pandas.core.groupby.generic.DataFrameGroupBy object at 0x7fdbd45e84e0>"
      ]
     },
     "execution_count": 1,
     "metadata": {},
     "output_type": "execute_result"
    }
   ],
   "source": [
    "import numpy as np\n",
    "import pandas as pd\n",
    "\n",
    "vehicles = pd.read_csv('data/vehicles.csv')\n",
    "vehicles.groupby(['Transmission'])"
   ]
  },
  {
   "cell_type": "markdown",
   "metadata": {},
   "source": [
    "This object contains information that can be \"unleashed\" when an aggregation is applied to this object.\n",
    "\n",
    "\n",
    "# Aggregations\n",
    "\n",
    "We can apply different aggregation functions to our grouped data. We can use some standard functions or define our own functions and then apply them to the aggregated data using the agg function.\n",
    "\n",
    "Some standard aggregation functions are: mean, sum, count, median, min, max, std.\n",
    "\n",
    "We can also use the agg function to apply multiple aggregations at once to all columns specified.\n",
    "\n",
    "After aggregating, we can subset the data to only apply the aggregation to the columns that we choose.\n",
    "\n",
    "Here are some examples of standard aggregation functions:"
   ]
  },
  {
   "cell_type": "code",
   "execution_count": 2,
   "metadata": {},
   "outputs": [
    {
     "data": {
      "text/html": [
       "<div>\n",
       "<style scoped>\n",
       "    .dataframe tbody tr th:only-of-type {\n",
       "        vertical-align: middle;\n",
       "    }\n",
       "\n",
       "    .dataframe tbody tr th {\n",
       "        vertical-align: top;\n",
       "    }\n",
       "\n",
       "    .dataframe thead th {\n",
       "        text-align: right;\n",
       "    }\n",
       "</style>\n",
       "<table border=\"1\" class=\"dataframe\">\n",
       "  <thead>\n",
       "    <tr style=\"text-align: right;\">\n",
       "      <th></th>\n",
       "      <th>Highway MPG</th>\n",
       "      <th>City MPG</th>\n",
       "      <th>Combined MPG</th>\n",
       "    </tr>\n",
       "    <tr>\n",
       "      <th>Transmission</th>\n",
       "      <th></th>\n",
       "      <th></th>\n",
       "      <th></th>\n",
       "    </tr>\n",
       "  </thead>\n",
       "  <tbody>\n",
       "    <tr>\n",
       "      <th>Auto (AV)</th>\n",
       "      <td>40.000000</td>\n",
       "      <td>35.000000</td>\n",
       "      <td>37.000000</td>\n",
       "    </tr>\n",
       "    <tr>\n",
       "      <th>Auto (AV-S6)</th>\n",
       "      <td>25.000000</td>\n",
       "      <td>22.000000</td>\n",
       "      <td>23.000000</td>\n",
       "    </tr>\n",
       "    <tr>\n",
       "      <th>Auto (AV-S8)</th>\n",
       "      <td>22.000000</td>\n",
       "      <td>20.000000</td>\n",
       "      <td>21.000000</td>\n",
       "    </tr>\n",
       "    <tr>\n",
       "      <th>Auto(A1)</th>\n",
       "      <td>37.000000</td>\n",
       "      <td>41.000000</td>\n",
       "      <td>39.000000</td>\n",
       "    </tr>\n",
       "    <tr>\n",
       "      <th>Auto(AM-S6)</th>\n",
       "      <td>32.978261</td>\n",
       "      <td>24.315217</td>\n",
       "      <td>27.554348</td>\n",
       "    </tr>\n",
       "  </tbody>\n",
       "</table>\n",
       "</div>"
      ],
      "text/plain": [
       "              Highway MPG   City MPG  Combined MPG\n",
       "Transmission                                      \n",
       "Auto (AV)       40.000000  35.000000     37.000000\n",
       "Auto (AV-S6)    25.000000  22.000000     23.000000\n",
       "Auto (AV-S8)    22.000000  20.000000     21.000000\n",
       "Auto(A1)        37.000000  41.000000     39.000000\n",
       "Auto(AM-S6)     32.978261  24.315217     27.554348"
      ]
     },
     "execution_count": 2,
     "metadata": {},
     "output_type": "execute_result"
    }
   ],
   "source": [
    "#Here we aggregate 3 different columns and compute their mean based on the different transmission values\n",
    "vehicles.groupby(['Transmission'])['Highway MPG', 'City MPG', 'Combined MPG'].mean().head()"
   ]
  },
  {
   "cell_type": "code",
   "execution_count": 3,
   "metadata": {},
   "outputs": [
    {
     "data": {
      "text/plain": [
       "Fuel Type  Cylinders\n",
       "CNG        4.0          253.197321\n",
       "           6.0          417.030882\n",
       "           8.0          568.070913\n",
       "Diesel     4.0          308.484848\n",
       "           5.0          391.538462\n",
       "Name: CO2 Emission Grams/Mile, dtype: float64"
      ]
     },
     "execution_count": 3,
     "metadata": {},
     "output_type": "execute_result"
    }
   ],
   "source": [
    "#In this example we aggregate based on two columns and compute the median CO2 Emission for all combinations of fuel type and cylinders\n",
    "vehicles.groupby(['Fuel Type', 'Cylinders'])['CO2 Emission Grams/Mile'].median().head()"
   ]
  },
  {
   "cell_type": "code",
   "execution_count": 4,
   "metadata": {},
   "outputs": [
    {
     "data": {
      "text/html": [
       "<div>\n",
       "<style scoped>\n",
       "    .dataframe tbody tr th:only-of-type {\n",
       "        vertical-align: middle;\n",
       "    }\n",
       "\n",
       "    .dataframe tbody tr th {\n",
       "        vertical-align: top;\n",
       "    }\n",
       "\n",
       "    .dataframe thead th {\n",
       "        text-align: right;\n",
       "    }\n",
       "</style>\n",
       "<table border=\"1\" class=\"dataframe\">\n",
       "  <thead>\n",
       "    <tr style=\"text-align: right;\">\n",
       "      <th></th>\n",
       "      <th>mean</th>\n",
       "      <th>median</th>\n",
       "      <th>std</th>\n",
       "    </tr>\n",
       "    <tr>\n",
       "      <th>Fuel Type</th>\n",
       "      <th></th>\n",
       "      <th></th>\n",
       "      <th></th>\n",
       "    </tr>\n",
       "  </thead>\n",
       "  <tbody>\n",
       "    <tr>\n",
       "      <th>CNG</th>\n",
       "      <td>18.133333</td>\n",
       "      <td>14.5</td>\n",
       "      <td>7.436663</td>\n",
       "    </tr>\n",
       "    <tr>\n",
       "      <th>Diesel</th>\n",
       "      <td>23.488474</td>\n",
       "      <td>21.0</td>\n",
       "      <td>7.054702</td>\n",
       "    </tr>\n",
       "    <tr>\n",
       "      <th>Gasoline or E85</th>\n",
       "      <td>17.572385</td>\n",
       "      <td>17.0</td>\n",
       "      <td>3.822538</td>\n",
       "    </tr>\n",
       "    <tr>\n",
       "      <th>Gasoline or natural gas</th>\n",
       "      <td>15.350000</td>\n",
       "      <td>12.0</td>\n",
       "      <td>5.343712</td>\n",
       "    </tr>\n",
       "    <tr>\n",
       "      <th>Gasoline or propane</th>\n",
       "      <td>13.500000</td>\n",
       "      <td>13.5</td>\n",
       "      <td>1.603567</td>\n",
       "    </tr>\n",
       "  </tbody>\n",
       "</table>\n",
       "</div>"
      ],
      "text/plain": [
       "                              mean  median       std\n",
       "Fuel Type                                           \n",
       "CNG                      18.133333    14.5  7.436663\n",
       "Diesel                   23.488474    21.0  7.054702\n",
       "Gasoline or E85          17.572385    17.0  3.822538\n",
       "Gasoline or natural gas  15.350000    12.0  5.343712\n",
       "Gasoline or propane      13.500000    13.5  1.603567"
      ]
     },
     "execution_count": 4,
     "metadata": {},
     "output_type": "execute_result"
    }
   ],
   "source": [
    "#Here we produce the mean, median and standard deviation for combined MPG grouped by fuel type\n",
    "vehicles.groupby(['Fuel Type'])['Combined MPG'].agg(['mean', 'median', 'std']).head()"
   ]
  },
  {
   "cell_type": "markdown",
   "metadata": {},
   "source": [
    "# Custom Aggregation Functions\n",
    "\n",
    "We do not have to be limited by the range of standard aggregation functions. If the need arises, we can write our own aggregation function.\n",
    "\n",
    "For example, in our vehicle dataset, we might want to find out for each level of transmission, what is the most common vehicle class. In other words, we would like to find the mode.\n",
    "\n",
    "We can write our own implementation of the mode function, but it would be more efficient to use the scipy implementation of this function. Scipy is a Python package for scientific computing.\n",
    "\n",
    "Let us first define our custom function using the scipy mode function. We create a custom function since the mode function returns a tuple with the mode and the frequency of the mode. We are only interested in the first part of the tuple."
   ]
  },
  {
   "cell_type": "code",
   "execution_count": 5,
   "metadata": {},
   "outputs": [],
   "source": [
    "from scipy import stats\n",
    "\n",
    "def agg_mode(x):\n",
    "    return(stats.mode(x)[0])"
   ]
  },
  {
   "cell_type": "markdown",
   "metadata": {},
   "source": [
    "Now we can use our custom aggregation function using the agg function:"
   ]
  },
  {
   "cell_type": "code",
   "execution_count": 6,
   "metadata": {},
   "outputs": [
    {
     "name": "stderr",
     "output_type": "stream",
     "text": [
      "/home/iudh/.local/lib/python3.7/site-packages/scipy/stats/stats.py:248: RuntimeWarning: The input array could not be properly checked for nan values. nan values will be ignored.\n",
      "  \"values. nan values will be ignored.\", RuntimeWarning)\n"
     ]
    },
    {
     "data": {
      "text/plain": [
       "Transmission\n",
       "Auto (AV)          Compact Cars\n",
       "Auto (AV-S6)       Compact Cars\n",
       "Auto (AV-S8)       Midsize Cars\n",
       "Auto(A1)        Subcompact Cars\n",
       "Auto(AM-S6)        Compact Cars\n",
       "Name: Vehicle Class, dtype: object"
      ]
     },
     "execution_count": 6,
     "metadata": {},
     "output_type": "execute_result"
    }
   ],
   "source": [
    "vehicles.groupby(\"Transmission\")[\"Vehicle Class\"].agg(agg_mode).head()"
   ]
  },
  {
   "cell_type": "code",
   "execution_count": null,
   "metadata": {},
   "outputs": [],
   "source": []
  }
 ],
 "metadata": {
  "kernelspec": {
   "display_name": "Python 3",
   "language": "python",
   "name": "python3"
  },
  "language_info": {
   "codemirror_mode": {
    "name": "ipython",
    "version": 3
   },
   "file_extension": ".py",
   "mimetype": "text/x-python",
   "name": "python",
   "nbconvert_exporter": "python",
   "pygments_lexer": "ipython3",
   "version": "3.7.3"
  }
 },
 "nbformat": 4,
 "nbformat_minor": 2
}
